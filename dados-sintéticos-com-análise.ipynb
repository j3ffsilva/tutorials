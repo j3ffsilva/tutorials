{
 "cells": [
  {
   "cell_type": "markdown",
   "metadata": {},
   "source": [
    "# Criação de Dados Sintéticos com Numpy e Análise de Dados com o Pandas"
   ]
  },
  {
   "cell_type": "markdown",
   "metadata": {},
   "source": [
    "## Objetivo\n",
    "\n",
    "O objetivo desta atividade é aprender a criar dados sintéticos e exercitar as habilidades de manipulação de dados com o Pandas."
   ]
  },
  {
   "cell_type": "markdown",
   "metadata": {},
   "source": [
    "## Contextualização"
   ]
  },
  {
   "cell_type": "markdown",
   "metadata": {},
   "source": [
    "Vocês começar criando um conjunto de dados sintéticos utilizando o numpy, dentro do contexto escolar. A ideia é visualizar o desempenho dos estudantes em diferentes escolas e disciplinas, permitindo uma compreensão mais clara das tendências de desempenho e áreas que podem necessitar de melhorias.\n",
    "\n",
    "Para isso, criem um dataset (o mais realista que conseguirem dentro do tempo permitido), com os seguintes atributos:\n",
    "\n",
    "\n",
    "```csv\n",
    "Nome da Escola\n",
    "Série/Ano\n",
    "Disciplina (por exemplo, Matemática, Ciências, História)\n",
    "Nota do Aluno\n",
    "Gênero do Aluno\n",
    "Status (Aprovado/Reprovado)\n",
    "```"
   ]
  },
  {
   "cell_type": "markdown",
   "metadata": {},
   "source": [
    "Exemplos de perguntas a serem respondidas com os dados.\n",
    "\n",
    "1. Qual é a média das notas em diferentes disciplinas em cada escola?\n",
    "\n",
    "2. Como o desempenho dos alunos varia entre as séries/anos?\n",
    "\n",
    "3. Existem diferenças notáveis no desempenho entre os gêneros dos alunos?\n",
    "\n",
    "4. Quais são as disciplinas com as maiores taxas de reprovação em cada escola?"
   ]
  },
  {
   "cell_type": "markdown",
   "metadata": {},
   "source": [
    "## Solução"
   ]
  },
  {
   "cell_type": "code",
   "execution_count": 6,
   "metadata": {},
   "outputs": [],
   "source": [
    "# Escreva sua solução aqui"
   ]
  }
 ],
 "metadata": {
  "kernelspec": {
   "display_name": "Python 3",
   "language": "python",
   "name": "python3"
  },
  "language_info": {
   "codemirror_mode": {
    "name": "ipython",
    "version": 3
   },
   "file_extension": ".py",
   "mimetype": "text/x-python",
   "name": "python",
   "nbconvert_exporter": "python",
   "pygments_lexer": "ipython3",
   "version": "3.10.12"
  },
  "orig_nbformat": 4
 },
 "nbformat": 4,
 "nbformat_minor": 2
}

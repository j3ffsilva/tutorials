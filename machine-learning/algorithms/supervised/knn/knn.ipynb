{
 "cells": [
  {
   "cell_type": "markdown",
   "metadata": {},
   "source": [
    "# KNN"
   ]
  },
  {
   "cell_type": "markdown",
   "metadata": {},
   "source": [
    "O $k$-Nearest Neighbors (KNN) é um algoritmo de aprendizado de máquina supervisionado que pode ser usado tanto para classificação quanto para regressão. No entanto, é mais usado em problemas de classificação.\n",
    "\n",
    "O KNN opera no princípio de encontrar os \"vizinhos\" mais próximos no conjunto de treinamento de um novo exemplo de teste e predizer a saída com base nesses vizinhos. Ele armazena todos os casos disponíveis e classifica os novos casos com base em uma medida de similaridade (por exemplo, função de distância).\n",
    "\n",
    "O $k$ no KNN algoritmo é o número de vizinhos mais próximos que consideramos ao classificar um novo exemplo de teste. Por exemplo, se $k=3$, o algoritmo KNN escolheria os 3 vizinhos mais próximos no conjunto de dados de treinamento e faria uma previsão para o exemplo de teste baseado nessas 3 observações."
   ]
  },
  {
   "cell_type": "markdown",
   "metadata": {},
   "source": [
    "**EXEMPLO**"
   ]
  },
  {
   "cell_type": "markdown",
   "metadata": {},
   "source": [
    "Certamente, aqui está a informação na forma de uma tabela:\n",
    "\n",
    "| ID | Idade | Sexo | Horas de Estudo Semanal | Assistência (%) | Atividades Extracurriculares | Média Final |\n",
    "|----|-------|------|-------------------------|-----------------|-----------------------------|-------------|\n",
    "| 1  | 15    | M    | 5                       | 90              | N                           | 70          |\n",
    "| 2  | 16    | F    | 8                       | 95              | S                           | 85          |\n",
    "| 3  | 15    | F    | 4                       | 80              | N                           | 68          |\n",
    "| 4  | 16    | M    | 10                      | 98              | S                           | 92          |\n",
    "| 5  | 17    | F    | 9                       | 90              | N                           | 88          |\n",
    "| 6  | 15    | M    | 4                       | 85              | N                           | 72          |\n",
    "| 7  | 16    | F    | 7                       | 80              | S                           | 78          |\n",
    "| 8  | 17    | M    | 8                       | 92              | S                           | 90          |\n",
    "| 9  | 16    | F    | 7                       | 88              | N                           | 83          |\n",
    "| 10 | 15    | M    | 5                       | 85              | S                           | 76          |\n",
    "| 11 | 16    | F    | 6                       | 80              | S                           | 79          |\n",
    "| 12 | 17    | M    | 9                       | 95              | S                           | 92          |\n",
    "| 13 | 16    | F    | 8                       | 85              | N                           | 87          |\n",
    "| 14 | 15    | M    | 4                       | 78              | N                           | 70          |\n",
    "| 15 | 16    | F    | 7                       | 85              | S                           | 81          |\n",
    "| 16 | 17    | M    | 10                      | 98              | S                           | 94          |\n",
    "| 17 | 16    | F    | 6                       | 82              | N                           | 80          |\n",
    "| 18 | 15    | M    | 4                       | 80              | S                           | 73          |\n",
    "| 19 | 16    | F    | 7                       | 87              | S                           | 84          |\n",
    "| 20 | 17    | M    | 9                       | 92              | N                           | 91          |"
   ]
  },
  {
   "cell_type": "markdown",
   "metadata": {},
   "source": [
    "## Considerações"
   ]
  },
  {
   "cell_type": "markdown",
   "metadata": {},
   "source": [
    "Algumas coisas a considerar antes de usar o KNN.\n",
    "\n",
    "1. **Velocidade de computação e exigência de recursos**: Como o KNN é um algoritmo baseado em instância, ele mantém todo o conjunto de treinamento de dados na memória. Isso pode ser problemático para grandes conjuntos de dados, já que requer uma quantidade significativa de espaço de armazenamento. Além disso, cada novo exemplo de teste requer uma comparação de distância com todos os exemplos de treinamento, o que pode ser computacionalmente caro para grandes conjuntos de dados.\n",
    "\n",
    "2. **Sensibilidade a ruídos e outliers**: O KNN é altamente sensível a ruídos e outliers no conjunto de dados. Isso ocorre porque um objeto pode ser classificado de forma diferente devido à presença de exemplos de treinamento ruidosos ou outliers próximos.\n",
    "\n",
    "3. **Normalização dos dados**: O KNN usa medidas de distância para identificar os vizinhos mais próximos. Diferentes escalas de atributos podem resultar em distorções nas medidas de distância, portanto, é necessário normalizar os dados antes de usar o algoritmo KNN. Por exemplo, se um atributo varia de 0 a 1 e outro varia de 0 a 1000, o último terá um peso maior na determinação da distância.\n",
    "\n",
    "4. **Determinação do valor de $k$**: O número de vizinhos a serem considerados, $k$, é um hiperparâmetro que deve ser escolhido cuidadosamente. Um valor muito pequeno de $k$ significa que o ruído nos dados terá um impacto maior no resultado e um valor muito grande tornará o algoritmo sensível a pontos de dados que estão muito distantes.\n",
    "\n",
    "5. **Dados faltantes**: O KNN não lida bem com dados faltantes. A falta de um valor em um atributo para um dado ponto pode causar problemas de cálculo de distância.\n",
    "\n",
    "6. **Interpretabilidade**: Embora o KNN possa ser eficaz para fazer previsões, ele não fornece um modelo explícito da relação entre características, o que torna difícil interpretar as razões por trás de uma determinada previsão."
   ]
  },
  {
   "cell_type": "markdown",
   "metadata": {},
   "source": [
    "## O Algoritmo na Prática"
   ]
  },
  {
   "cell_type": "markdown",
   "metadata": {},
   "source": [
    "**Bibliotecas**"
   ]
  },
  {
   "cell_type": "code",
   "execution_count": 2,
   "metadata": {},
   "outputs": [],
   "source": [
    "from sklearn.model_selection import train_test_split\n",
    "from sklearn.preprocessing import LabelEncoder\n",
    "from sklearn.neighbors import KNeighborsClassifier\n",
    "from sklearn.metrics import accuracy_score\n",
    "import pandas as pd"
   ]
  },
  {
   "cell_type": "markdown",
   "metadata": {},
   "source": [
    "**Ingestão**"
   ]
  },
  {
   "cell_type": "code",
   "execution_count": 9,
   "metadata": {},
   "outputs": [],
   "source": [
    "data = {\n",
    "    'Idade': [15, 16, 15, 16, 17, 15, 16, 17, 16, 15, 16, 17, 16, 15, 16, 17, 16, 15, 16, 17],\n",
    "    'Sexo': ['M', 'F', 'F', 'M', 'F', 'M', 'F', 'M', 'F', 'M', 'F', 'M', 'F', 'M', 'F', 'M', 'F', 'M', 'F', 'M'],\n",
    "    'Horas de Estudo Semanal': [5, 8, 4, 10, 9, 4, 7, 8, 7, 5, 6, 9, 8, 4, 7, 10, 6, 4, 7, 9],\n",
    "    'Assistência': [90, 95, 80, 98, 90, 85, 80, 92, 88, 85, 80, 95, 85, 78, 85, 98, 82, 80, 87, 92],\n",
    "    'Atividades Extracurriculares': ['N', 'S', 'N', 'S', 'N', 'N', 'S', 'S', 'N', 'S', 'S', 'S', 'N', 'N', 'S', 'S', 'N', 'S', 'S', 'N'],\n",
    "    'Média Final': [70, 85, 68, 92, 88, 72, 78, 90, 83, 76, 79, 92, 87, 70, 81, 94, 80, 73, 84, 91]\n",
    "}\n",
    "df = pd.DataFrame(data)"
   ]
  },
  {
   "cell_type": "markdown",
   "metadata": {},
   "source": [
    "**Preparação**"
   ]
  },
  {
   "cell_type": "code",
   "execution_count": 10,
   "metadata": {},
   "outputs": [],
   "source": [
    "# Transformação das variáveis categóricas em numéricas\n",
    "le = LabelEncoder()\n",
    "df['Sexo'] = le.fit_transform(df['Sexo']) # M=1, F=0\n",
    "df['Atividades Extracurriculares'] = le.fit_transform(df['Atividades Extracurriculares']) # S=1, N=0\n",
    "\n",
    "# Separação dos dados em recursos (X) e rótulo de classificação (y)\n",
    "X = df[['Idade', 'Sexo', 'Horas de Estudo Semanal', 'Assistência', 'Atividades Extracurriculares']]\n",
    "y = df['Média Final']\n",
    "\n",
    "# Divisão dos dados em conjunto de treinamento e teste\n",
    "X_train, X_test, y_train, y_test = train_test_split(X, y, test_size=0.2, random_state=42)"
   ]
  },
  {
   "cell_type": "markdown",
   "metadata": {},
   "source": [
    "**Treinamento**"
   ]
  },
  {
   "cell_type": "code",
   "execution_count": 11,
   "metadata": {},
   "outputs": [
    {
     "data": {
      "text/plain": [
       "KNeighborsClassifier(n_neighbors=3)"
      ]
     },
     "execution_count": 11,
     "metadata": {},
     "output_type": "execute_result"
    }
   ],
   "source": [
    "# Criação do modelo KNN e treinamento\n",
    "knn = KNeighborsClassifier(n_neighbors=3)\n",
    "knn.fit(X_train, y_train)"
   ]
  },
  {
   "cell_type": "markdown",
   "metadata": {},
   "source": [
    "**Testes**"
   ]
  },
  {
   "cell_type": "code",
   "execution_count": 12,
   "metadata": {},
   "outputs": [
    {
     "name": "stdout",
     "output_type": "stream",
     "text": [
      "Acurácia: 0.0\n"
     ]
    }
   ],
   "source": [
    "# Previsão e avaliação do modelo\n",
    "y_pred = knn.predict(X_test)\n",
    "print(f'Acurácia: {accuracy_score(y_test, y_pred)}')"
   ]
  }
 ],
 "metadata": {
  "kernelspec": {
   "display_name": "base",
   "language": "python",
   "name": "python3"
  },
  "language_info": {
   "codemirror_mode": {
    "name": "ipython",
    "version": 3
   },
   "file_extension": ".py",
   "mimetype": "text/x-python",
   "name": "python",
   "nbconvert_exporter": "python",
   "pygments_lexer": "ipython3",
   "version": "3.8.12"
  },
  "orig_nbformat": 4
 },
 "nbformat": 4,
 "nbformat_minor": 2
}

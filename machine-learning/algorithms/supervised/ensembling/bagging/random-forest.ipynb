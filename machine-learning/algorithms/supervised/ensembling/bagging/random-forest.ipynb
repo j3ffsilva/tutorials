{
 "cells": [
  {
   "cell_type": "markdown",
   "metadata": {},
   "source": [
    "# Random Forest"
   ]
  },
  {
   "cell_type": "markdown",
   "metadata": {},
   "source": [
    "A Random Forest é uma extensão do algoritmo de Árvores de Decisão que busca melhorar a precisão e a robustez do modelo, especialmente em conjuntos de dados complexos.\n",
    "\n",
    "O algoritmo Random Forest combina várias árvores de decisão individuais para criar um modelo mais poderoso e geralmente mais preciso. Cada árvore é construída em uma amostra aleatória do conjunto de dados, chamada de amostragem de bootstrap, onde cada árvore recebe uma parte aleatória dos dados, com substituição. Além disso, em cada etapa de divisão durante a construção da árvore, apenas um subconjunto das características é considerado, tornando as árvores mais diversas e independentes entre si.\n",
    "\n",
    "O processo geral de como a Random Forest funciona:\n",
    "\n",
    "- **Construção das árvores**: Várias árvores de decisão são criadas usando diferentes amostras aleatórias do conjunto de dados e diferentes subconjuntos de características em cada divisão.\n",
    "\n",
    "- **Votação (Classificação) ou Média (Regressão)**: Para uma tarefa de classificação, a Random Forest combina as previsões de todas as árvores e faz uma votação para determinar a classe final. Para uma tarefa de regressão, as previsões de todas as árvores são combinadas através de média, resultando em um valor de regressão final.\n",
    "\n",
    "O principal benefício da Random Forest é a sua capacidade de reduzir o overfitting, um problema comum em modelos complexos, como árvores de decisão. Além disso, a Random Forest é menos sensível a outliers e ruídos nos dados, tornando-a uma ótima escolha para diversos problemas de aprendizado de máquina.\n",
    "\n",
    "As aplicações da Random Forest são vastas, incluindo classificação de imagens, detecção de fraudes, diagnóstico médico, previsão do mercado financeiro, entre outros. É um algoritmo versátil e poderoso que se tornou uma das técnicas mais populares em aprendizado de máquina."
   ]
  },
  {
   "cell_type": "markdown",
   "metadata": {},
   "source": [
    "**EXEMPLO**"
   ]
  },
  {
   "cell_type": "markdown",
   "metadata": {},
   "source": [
    "Considere um cenário de classificação de risco de crédito em um banco. O objetivo é prever se o cliente terá seu empréstimo aprovado ou não (coluna \"Aprovação do Empréstimo\")\n",
    "\n",
    "| ID | Idade | Renda Mensal (R$) | Estado Civil | Nível de Educação | Valor do Empréstimo (R$) | Histórico de Pagamento | Saldo Bancário (R$) | Número de Dependentes | Aprovação do Empréstimo |\n",
    "|----|-------|------------------|--------------|-------------------|-------------------------|----------------------|--------------------|-----------------------|------------------------|\n",
    "| 1  |  35   |     5000         |   Casado     |      Superior     |         15000           |          Bom         |      3000          |           2           |           Sim          |\n",
    "| 2  |  28   |     2500         |   Solteiro   |     Ensino Médio  |         10000           |        Regular       |      1000          |           0           |           Sim          |\n",
    "| 3  |  45   |     8000         |   Casado     |      Superior     |         30000           |        Excelente     |      15000         |           3           |           Sim          |\n",
    "| 4  |  22   |     1500         |   Solteiro   |     Ensino Médio  |          5000           |        Regular       |       500          |           1           |           Não          |\n",
    "| 5  |  37   |     4000         |   Divorciado |      Superior     |         20000           |        Excelente     |      8000          |           2           |           Sim          |\n",
    "| 6  |  40   |     6000         |   Casado     |       Mestrado    |         25000           |        Bom           |      5000          |           2           |           Sim          |\n",
    "| 7  |  29   |     3000         |   Solteiro   |     Ensino Médio  |          8000           |        Regular       |      2000          |           0           |           Sim          |\n",
    "| 8  |  48   |     9000         |   Casado     |       Doutorado   |         40000           |        Excelente     |      18000         |           4           |           Sim          |\n",
    "| 9  |  31   |     3500         |   Casado     |     Ensino Técnico|         12000           |        Bom           |      3000          |           1           |           Sim          |\n",
    "| 10 |  25   |     2000         |   Solteiro   |     Ensino Médio  |          3000           |        Ruim          |       200          |           0           |           Não          |"
   ]
  },
  {
   "cell_type": "markdown",
   "metadata": {},
   "source": [
    "## Considerações"
   ]
  },
  {
   "cell_type": "markdown",
   "metadata": {},
   "source": [
    "A Random Forest possui algumas limitações que devem ser consideraradas ao utilizá-la. \n",
    "\n",
    "1. **Interpretabilidade:** O modelo de Random Forest pode ser complexo e difícil de interpretar, especialmente quando se tem um grande número de árvores. Embora seja possível entender o impacto das variáveis na predição, a relação exata entre as variáveis e o resultado pode não ser facilmente discernível.\n",
    "\n",
    "2. **Memória e Tempo de Treinamento:** O treinamento de uma Random Forest pode ser computacionalmente mais caro do que outros algoritmos mais simples, pois envolve a construção de várias árvores. Além disso, quanto maior o número de árvores e de dados, maior será a quantidade de memória necessária para armazenar o modelo.\n",
    "\n",
    "3. **Overfitting (Sobreajuste):** Embora a Random Forest seja menos propensa a overfitting do que árvores de decisão individuais, ainda é possível que ocorra, principalmente quando o número de árvores é muito grande ou quando o modelo é excessivamente complexo para o tamanho do conjunto de dados.\n",
    "\n",
    "4. **Dados desbalanceados:** A Random Forest pode ter dificuldades em lidar com conjuntos de dados altamente desbalanceados, onde uma classe tem muito mais amostras do que a outra. Isso pode levar a uma tendência do modelo de favorecer a classe majoritária em detrimento da classe minoritária.\n",
    "\n",
    "5. **Extrapolação:** A Random Forest pode não ser adequada para extrapolar além dos limites dos dados de treinamento, o que significa que pode não ser tão eficaz na previsão de eventos fora da faixa dos dados vistos durante o treinamento.\n",
    "\n",
    "6. **Características correlacionadas:** Se houver variáveis altamente correlacionadas no conjunto de dados, as árvores individuais podem tender a fazer decisões semelhantes, reduzindo assim a diversidade do conjunto de árvores e, consequentemente, o desempenho geral do modelo.\n",
    "\n",
    "7. **Hiperparâmetros:** Assim como em qualquer algoritmo de aprendizado de máquina, a Random Forest possui hiperparâmetros que precisam ser ajustados corretamente para obter o melhor desempenho. A busca pelos melhores hiperparâmetros pode ser trabalhosa e requer conhecimento ou experimentação."
   ]
  },
  {
   "cell_type": "markdown",
   "metadata": {},
   "source": [
    "## O Algoritmo na Prática"
   ]
  },
  {
   "cell_type": "markdown",
   "metadata": {},
   "source": [
    "**Bibliotecas**"
   ]
  },
  {
   "cell_type": "code",
   "execution_count": null,
   "metadata": {},
   "outputs": [],
   "source": [
    "# Importar as bibliotecas necessárias\n",
    "import pandas as pd\n",
    "from sklearn.ensemble import RandomForestClassifier\n",
    "from sklearn.model_selection import train_test_split\n",
    "from sklearn.metrics import accuracy_score"
   ]
  },
  {
   "cell_type": "markdown",
   "metadata": {},
   "source": [
    "**Ingestão**"
   ]
  },
  {
   "cell_type": "code",
   "execution_count": null,
   "metadata": {},
   "outputs": [],
   "source": [
    "data = {\n",
    "    'Idade': [35, 28, 45, 22, 37, 40, 29, 48, 31, 25],\n",
    "    'Renda Mensal (R$)': [5000, 2500, 8000, 1500, 4000, 6000, 3000, 9000, 3500, 2000],\n",
    "    'Estado Civil': ['Casado', 'Solteiro', 'Casado', 'Solteiro', 'Divorciado', 'Casado', 'Solteiro', 'Casado', 'Casado', 'Solteiro'],\n",
    "    'Nível de Educação': ['Superior', 'Ensino Médio', 'Superior', 'Ensino Médio', 'Superior', 'Mestrado', 'Ensino Médio', 'Doutorado', 'Ensino Técnico', 'Ensino Médio'],\n",
    "    'Valor do Empréstimo (R$)': [15000, 10000, 30000, 5000, 20000, 25000, 8000, 40000, 12000, 3000],\n",
    "    'Histórico de Pagamento': ['Bom', 'Regular', 'Excelente', 'Regular', 'Excelente', 'Bom', 'Regular', 'Excelente', 'Bom', 'Ruim'],\n",
    "    'Saldo Bancário (R$)': [3000, 1000, 15000, 500, 8000, 5000, 2000, 18000, 3000, 200],\n",
    "    'Número de Dependentes': [2, 0, 3, 1, 2, 2, 0, 4, 1, 0],\n",
    "    'Aprovação do Empréstimo': ['Sim', 'Sim', 'Sim', 'Não', 'Sim', 'Sim', 'Sim', 'Sim', 'Sim', 'Não']\n",
    "}\n",
    "\n",
    "df = pd.DataFrame(data)"
   ]
  },
  {
   "cell_type": "markdown",
   "metadata": {},
   "source": [
    "**Preparação**"
   ]
  },
  {
   "cell_type": "code",
   "execution_count": null,
   "metadata": {},
   "outputs": [],
   "source": [
    "# Converter as variáveis categóricas em numéricas usando one-hot encoding\n",
    "df = pd.get_dummies(df, drop_first=True)\n",
    "\n",
    "# Separar os atributos e rótulos\n",
    "X = df.drop('Aprovação do Empréstimo_Sim', axis=1)\n",
    "y = df['Aprovação do Empréstimo_Sim']\n",
    "\n",
    "# Dividir os dados em conjuntos de treinamento e teste\n",
    "X_train, X_test, y_train, y_test = train_test_split(X, y, test_size=0.2, random_state=42)"
   ]
  },
  {
   "cell_type": "markdown",
   "metadata": {},
   "source": [
    "**Treinamento**"
   ]
  },
  {
   "cell_type": "code",
   "execution_count": null,
   "metadata": {},
   "outputs": [],
   "source": [
    "# Criar um objeto Random Forest\n",
    "random_forest = RandomForestClassifier(n_estimators=100, random_state=42)\n",
    "\n",
    "# Treinar o modelo com os dados de treinamento\n",
    "random_forest.fit(X_train, y_train)"
   ]
  },
  {
   "cell_type": "markdown",
   "metadata": {},
   "source": [
    "**Testes**"
   ]
  },
  {
   "cell_type": "code",
   "execution_count": null,
   "metadata": {},
   "outputs": [],
   "source": [
    "# Fazer previsões no conjunto de teste\n",
    "y_pred = random_forest.predict(X_test)\n",
    "\n",
    "# Calcular a precisão do modelo\n",
    "accuracy = accuracy_score(y_test, y_pred)\n",
    "\n",
    "print(\"Acurácia: %.2f%%\" % (accuracy * 100.0))"
   ]
  }
 ],
 "metadata": {
  "kernelspec": {
   "display_name": "base",
   "language": "python",
   "name": "python3"
  },
  "language_info": {
   "name": "python",
   "version": "3.8.12"
  },
  "orig_nbformat": 4
 },
 "nbformat": 4,
 "nbformat_minor": 2
}

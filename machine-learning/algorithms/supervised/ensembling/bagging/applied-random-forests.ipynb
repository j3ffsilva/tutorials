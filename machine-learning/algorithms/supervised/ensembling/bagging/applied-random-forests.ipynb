{
 "cells": [
  {
   "cell_type": "markdown",
   "metadata": {},
   "source": [
    "# Aplicando o Random Forests"
   ]
  },
  {
   "cell_type": "markdown",
   "metadata": {},
   "source": [
    "**Bibliotecas**"
   ]
  },
  {
   "cell_type": "code",
   "execution_count": 34,
   "metadata": {},
   "outputs": [],
   "source": [
    "# Importar as bibliotecas necessárias\n",
    "import pandas as pd\n",
    "from sklearn.ensemble import RandomForestClassifier, RandomForestRegressor\n",
    "from sklearn.model_selection import train_test_split\n",
    "import numpy as np\n",
    "\n",
    "# Métricas dos modelos de classificação\n",
    "from sklearn.metrics import (\n",
    "    accuracy_score, \n",
    "    f1_score, \n",
    "    precision_score, \n",
    "    recall_score\n",
    ")\n",
    "\n",
    "# Métricas dos modelos de regressão\n",
    "from sklearn.metrics import ( \n",
    "    mean_absolute_error, \n",
    "    mean_squared_error, \n",
    "    r2_score\n",
    ")"
   ]
  },
  {
   "cell_type": "markdown",
   "metadata": {},
   "source": [
    "---"
   ]
  },
  {
   "cell_type": "markdown",
   "metadata": {},
   "source": [
    "PESQUISE. Explique a diferença entre `RandomForestClassifier` e `RandomForestRegressor`.\n",
    "\n",
    "*Duplo clique aqui para ver a resposta*\n",
    "\n",
    "<!--\n",
    "\n",
    "A principal diferença entre `RandomForestClassifier` e `RandomForestRegressor` é o tipo de problema que eles resolvem. `RandomForestClassifier` é usado para problemas de classificação, enquanto `RandomForestRegressor` é usado para problemas de regressão.\n",
    "\n",
    "Em problemas de classificação, o objetivo é prever a categoria de um dado. Por exemplo, podemos usar um `RandomForestClassifier` para prever se um email é spam ou não spam, ou se um paciente tem câncer ou não.\n",
    "\n",
    "Em problemas de regressão, o objetivo é prever um valor contínuo. Por exemplo, podemos usar um `RandomForestRegressor` para prever o preço de uma casa, ou a quantidade de chuva que vai cair amanhã.\n",
    "\n",
    "Além da diferença no tipo de problema, `RandomForestClassifier` e `RandomForestRegressor` também têm algumas diferenças na implementação. Por exemplo, `RandomForestClassifier` usa um método de votos para fazer suas previsões, enquanto `RandomForestRegressor` usa um método de média.\n",
    "\n",
    "Aqui está uma tabela que resume as principais diferenças entre `RandomForestClassifier` e `RandomForestRegressor`:\n",
    "\n",
    "| Característica | `RandomForestClassifier` | `RandomForestRegressor` |\n",
    "|---|---|---|\n",
    "| Problema resolvido | Classificação | Regressão |\n",
    "| Método de predição | Votos | Média |\n",
    "| Exemplos de uso | Spam ou não spam, câncer ou não | Preço de uma casa, quantidade de chuva |\n",
    "\n",
    ">"
   ]
  },
  {
   "cell_type": "markdown",
   "metadata": {},
   "source": [
    "*Sua resposta aqui*"
   ]
  },
  {
   "cell_type": "markdown",
   "metadata": {},
   "source": [
    "---"
   ]
  },
  {
   "cell_type": "markdown",
   "metadata": {},
   "source": [
    "PESQUISE. O que é um modelo de `ensemble`?\n",
    "\n",
    "*Duplo clique aqui para ver a resposta*\n",
    "\n",
    "<!--\n",
    "\n",
    "Um modelo de \"ensemble\" (ou \"conjunto\") é uma técnica de aprendizado de máquina que combina vários modelos individuais em um único modelo preditivo mais forte. O objetivo é melhorar o desempenho, a estabilidade e a robustez do modelo. Em geral, modelos de ensemble tendem a produzir resultados melhores do que modelos individuais, porque eles capturam uma visão mais abrangente ou diversificada dos dados.\n",
    "\n",
    "Existem várias abordagens para criar modelos de ensemble:\n",
    "Bagging (Bootstrap Aggregating)\n",
    "\n",
    "Nessa abordagem, múltiplas amostras do conjunto de treinamento são criadas através de reamostragem aleatória. Um modelo é treinado em cada uma dessas amostras e as previsões são então agregadas (pela média para regressão ou votação para classificação). Um exemplo clássico de um método de ensemble baseado em bagging é o Random Forest.\n",
    "Boosting\n",
    "\n",
    "Aqui, os modelos são treinados sequencialmente, cada um tentando corrigir os erros dos modelos anteriores. Cada modelo dá mais peso às instâncias que foram classificadas incorretamente pelos modelos anteriores. Exemplos incluem AdaBoost, Gradient Boosting e XGBoost.\n",
    "Stacking\n",
    "\n",
    "Neste método, vários tipos diferentes de modelos são treinados para o mesmo problema e suas previsões são usadas como entrada para um \"meta-modelo\" que faz a previsão final. A ideia é que o meta-modelo aprenda a melhor forma de combinar as previsões dos modelos individuais.\n",
    "Voting\n",
    "\n",
    "Neste caso simples, as previsões de múltiplos modelos são combinadas através de votação. Em problemas de classificação, por exemplo, a classe que recebe a maioria dos \"votos\" dos modelos individuais é escolhida como a previsão final.\n",
    "\n",
    "Cada método de ensemble tem suas próprias vantagens e desvantagens, e a eficácia de um método em particular pode depender do problema específico que você está tentando resolver. Em geral, no entanto, modelos de ensemble são uma forma poderosa de melhorar o desempenho de suas aplicações de aprendizado de máquina.\n",
    "\n",
    ">"
   ]
  },
  {
   "cell_type": "markdown",
   "metadata": {},
   "source": [
    "---"
   ]
  },
  {
   "cell_type": "markdown",
   "metadata": {},
   "source": [
    "## Ingestão"
   ]
  },
  {
   "cell_type": "code",
   "execution_count": 14,
   "metadata": {},
   "outputs": [
    {
     "data": {
      "text/html": [
       "<div>\n",
       "<style scoped>\n",
       "    .dataframe tbody tr th:only-of-type {\n",
       "        vertical-align: middle;\n",
       "    }\n",
       "\n",
       "    .dataframe tbody tr th {\n",
       "        vertical-align: top;\n",
       "    }\n",
       "\n",
       "    .dataframe thead th {\n",
       "        text-align: right;\n",
       "    }\n",
       "</style>\n",
       "<table border=\"1\" class=\"dataframe\">\n",
       "  <thead>\n",
       "    <tr style=\"text-align: right;\">\n",
       "      <th></th>\n",
       "      <th>unit_price</th>\n",
       "      <th>product_category</th>\n",
       "      <th>avg_website_visits_last_week</th>\n",
       "      <th>shipment_type</th>\n",
       "      <th>items_sold</th>\n",
       "      <th>sales_success</th>\n",
       "    </tr>\n",
       "  </thead>\n",
       "  <tbody>\n",
       "    <tr>\n",
       "      <th>0</th>\n",
       "      <td>20.768405</td>\n",
       "      <td>Eletrônicos</td>\n",
       "      <td>4202.786171</td>\n",
       "      <td>Aérea</td>\n",
       "      <td>21.0</td>\n",
       "      <td>0</td>\n",
       "    </tr>\n",
       "    <tr>\n",
       "      <th>1</th>\n",
       "      <td>19.762028</td>\n",
       "      <td>Eletrônicos</td>\n",
       "      <td>4700.312489</td>\n",
       "      <td>Aérea</td>\n",
       "      <td>22.0</td>\n",
       "      <td>0</td>\n",
       "    </tr>\n",
       "  </tbody>\n",
       "</table>\n",
       "</div>"
      ],
      "text/plain": [
       "   unit_price product_category  avg_website_visits_last_week shipment_type  \\\n",
       "0   20.768405      Eletrônicos                   4202.786171         Aérea   \n",
       "1   19.762028      Eletrônicos                   4700.312489         Aérea   \n",
       "\n",
       "   items_sold  sales_success  \n",
       "0        21.0              0  \n",
       "1        22.0              0  "
      ]
     },
     "execution_count": 14,
     "metadata": {},
     "output_type": "execute_result"
    }
   ],
   "source": [
    "df = pd.read_csv(\"dataset-random-forests.csv\")\n",
    "df.head(2)"
   ]
  },
  {
   "cell_type": "markdown",
   "metadata": {},
   "source": [
    "## Preparação dos Dados"
   ]
  },
  {
   "cell_type": "code",
   "execution_count": 15,
   "metadata": {},
   "outputs": [
    {
     "data": {
      "text/html": [
       "<div>\n",
       "<style scoped>\n",
       "    .dataframe tbody tr th:only-of-type {\n",
       "        vertical-align: middle;\n",
       "    }\n",
       "\n",
       "    .dataframe tbody tr th {\n",
       "        vertical-align: top;\n",
       "    }\n",
       "\n",
       "    .dataframe thead th {\n",
       "        text-align: right;\n",
       "    }\n",
       "</style>\n",
       "<table border=\"1\" class=\"dataframe\">\n",
       "  <thead>\n",
       "    <tr style=\"text-align: right;\">\n",
       "      <th></th>\n",
       "      <th>unit_price</th>\n",
       "      <th>avg_website_visits_last_week</th>\n",
       "      <th>items_sold</th>\n",
       "      <th>sales_success</th>\n",
       "      <th>product_category_Casa</th>\n",
       "      <th>product_category_Eletrônicos</th>\n",
       "      <th>product_category_Vestuário</th>\n",
       "      <th>shipment_type_Espacial</th>\n",
       "      <th>shipment_type_Marítima</th>\n",
       "      <th>shipment_type_Terrestre</th>\n",
       "    </tr>\n",
       "  </thead>\n",
       "  <tbody>\n",
       "    <tr>\n",
       "      <th>0</th>\n",
       "      <td>20.768405</td>\n",
       "      <td>4202.786171</td>\n",
       "      <td>21.0</td>\n",
       "      <td>0</td>\n",
       "      <td>False</td>\n",
       "      <td>True</td>\n",
       "      <td>False</td>\n",
       "      <td>False</td>\n",
       "      <td>False</td>\n",
       "      <td>False</td>\n",
       "    </tr>\n",
       "    <tr>\n",
       "      <th>1</th>\n",
       "      <td>19.762028</td>\n",
       "      <td>4700.312489</td>\n",
       "      <td>22.0</td>\n",
       "      <td>0</td>\n",
       "      <td>False</td>\n",
       "      <td>True</td>\n",
       "      <td>False</td>\n",
       "      <td>False</td>\n",
       "      <td>False</td>\n",
       "      <td>False</td>\n",
       "    </tr>\n",
       "  </tbody>\n",
       "</table>\n",
       "</div>"
      ],
      "text/plain": [
       "   unit_price  avg_website_visits_last_week  items_sold  sales_success  \\\n",
       "0   20.768405                   4202.786171        21.0              0   \n",
       "1   19.762028                   4700.312489        22.0              0   \n",
       "\n",
       "   product_category_Casa  product_category_Eletrônicos  \\\n",
       "0                  False                          True   \n",
       "1                  False                          True   \n",
       "\n",
       "   product_category_Vestuário  shipment_type_Espacial  shipment_type_Marítima  \\\n",
       "0                       False                   False                   False   \n",
       "1                       False                   False                   False   \n",
       "\n",
       "   shipment_type_Terrestre  \n",
       "0                    False  \n",
       "1                    False  "
      ]
     },
     "execution_count": 15,
     "metadata": {},
     "output_type": "execute_result"
    }
   ],
   "source": [
    "# Converter as variáveis categóricas em numéricas usando one-hot encoding\n",
    "df = pd.get_dummies(df, drop_first=True)\n",
    "df.head(2)"
   ]
  },
  {
   "cell_type": "markdown",
   "metadata": {},
   "source": [
    "PRATIQUE. Como o `LabelEncoder` pode codificar as variáveis categóricas?\n",
    "\n",
    "*Duplo clique aqui para ver a resposta*\n",
    "\n",
    "<!--\n",
    "\n",
    "from sklearn.preprocessing import LabelEncoder\n",
    "\n",
    "# Crie um objeto LabelEncoder\n",
    "le = LabelEncoder()\n",
    "\n",
    "# Codifique as variáveis categóricas\n",
    "product_category_encoded = le.fit_transform(df[\"product_category\"])\n",
    "shipment_type_encoded = le.fit_transform(df[\"shipment_type\"])\n",
    "\n",
    ">"
   ]
  },
  {
   "cell_type": "code",
   "execution_count": 12,
   "metadata": {},
   "outputs": [],
   "source": [
    "# Sua resposta aqui"
   ]
  },
  {
   "cell_type": "markdown",
   "metadata": {},
   "source": [
    "### Alvo para a classificação"
   ]
  },
  {
   "cell_type": "code",
   "execution_count": 16,
   "metadata": {},
   "outputs": [],
   "source": [
    "# Separar os atributos e rótulos\n",
    "X = df.drop('sales_success', axis=1)\n",
    "y = df['sales_success']"
   ]
  },
  {
   "cell_type": "markdown",
   "metadata": {},
   "source": []
  },
  {
   "cell_type": "markdown",
   "metadata": {},
   "source": [
    "### Alvo para a regressão"
   ]
  },
  {
   "cell_type": "code",
   "execution_count": 29,
   "metadata": {},
   "outputs": [],
   "source": [
    "# Se você executou a célula de cima, não faz sentido executar essa aqui\n",
    "\n",
    "# Separar os atributos e rótulos\n",
    "X = df.drop('items_sold', axis=1)\n",
    "y = df['items_sold']"
   ]
  },
  {
   "cell_type": "markdown",
   "metadata": {},
   "source": [
    "## Treinamento"
   ]
  },
  {
   "cell_type": "markdown",
   "metadata": {},
   "source": [
    "**Separação entre treino e testes**"
   ]
  },
  {
   "cell_type": "code",
   "execution_count": 17,
   "metadata": {},
   "outputs": [],
   "source": [
    "# Dividir os dados em conjuntos de treinamento e teste\n",
    "X_train, X_test, y_train, y_test = train_test_split(X, y, test_size=0.2, random_state=42)"
   ]
  },
  {
   "cell_type": "markdown",
   "metadata": {},
   "source": [
    "### Cria um classificador RandomForest"
   ]
  },
  {
   "cell_type": "code",
   "execution_count": 18,
   "metadata": {},
   "outputs": [],
   "source": [
    "random_forest = RandomForestClassifier(n_estimators=100, random_state=42)"
   ]
  },
  {
   "cell_type": "markdown",
   "metadata": {},
   "source": [
    "### Cria um regressor RandomForest"
   ]
  },
  {
   "cell_type": "code",
   "execution_count": 30,
   "metadata": {},
   "outputs": [],
   "source": [
    "random_forest = RandomForestRegressor(n_estimators=100, random_state=42)"
   ]
  },
  {
   "cell_type": "markdown",
   "metadata": {},
   "source": [
    "### Ajuste"
   ]
  },
  {
   "cell_type": "code",
   "execution_count": 31,
   "metadata": {},
   "outputs": [
    {
     "data": {
      "text/html": [
       "<style>#sk-container-id-2 {color: black;}#sk-container-id-2 pre{padding: 0;}#sk-container-id-2 div.sk-toggleable {background-color: white;}#sk-container-id-2 label.sk-toggleable__label {cursor: pointer;display: block;width: 100%;margin-bottom: 0;padding: 0.3em;box-sizing: border-box;text-align: center;}#sk-container-id-2 label.sk-toggleable__label-arrow:before {content: \"▸\";float: left;margin-right: 0.25em;color: #696969;}#sk-container-id-2 label.sk-toggleable__label-arrow:hover:before {color: black;}#sk-container-id-2 div.sk-estimator:hover label.sk-toggleable__label-arrow:before {color: black;}#sk-container-id-2 div.sk-toggleable__content {max-height: 0;max-width: 0;overflow: hidden;text-align: left;background-color: #f0f8ff;}#sk-container-id-2 div.sk-toggleable__content pre {margin: 0.2em;color: black;border-radius: 0.25em;background-color: #f0f8ff;}#sk-container-id-2 input.sk-toggleable__control:checked~div.sk-toggleable__content {max-height: 200px;max-width: 100%;overflow: auto;}#sk-container-id-2 input.sk-toggleable__control:checked~label.sk-toggleable__label-arrow:before {content: \"▾\";}#sk-container-id-2 div.sk-estimator input.sk-toggleable__control:checked~label.sk-toggleable__label {background-color: #d4ebff;}#sk-container-id-2 div.sk-label input.sk-toggleable__control:checked~label.sk-toggleable__label {background-color: #d4ebff;}#sk-container-id-2 input.sk-hidden--visually {border: 0;clip: rect(1px 1px 1px 1px);clip: rect(1px, 1px, 1px, 1px);height: 1px;margin: -1px;overflow: hidden;padding: 0;position: absolute;width: 1px;}#sk-container-id-2 div.sk-estimator {font-family: monospace;background-color: #f0f8ff;border: 1px dotted black;border-radius: 0.25em;box-sizing: border-box;margin-bottom: 0.5em;}#sk-container-id-2 div.sk-estimator:hover {background-color: #d4ebff;}#sk-container-id-2 div.sk-parallel-item::after {content: \"\";width: 100%;border-bottom: 1px solid gray;flex-grow: 1;}#sk-container-id-2 div.sk-label:hover label.sk-toggleable__label {background-color: #d4ebff;}#sk-container-id-2 div.sk-serial::before {content: \"\";position: absolute;border-left: 1px solid gray;box-sizing: border-box;top: 0;bottom: 0;left: 50%;z-index: 0;}#sk-container-id-2 div.sk-serial {display: flex;flex-direction: column;align-items: center;background-color: white;padding-right: 0.2em;padding-left: 0.2em;position: relative;}#sk-container-id-2 div.sk-item {position: relative;z-index: 1;}#sk-container-id-2 div.sk-parallel {display: flex;align-items: stretch;justify-content: center;background-color: white;position: relative;}#sk-container-id-2 div.sk-item::before, #sk-container-id-2 div.sk-parallel-item::before {content: \"\";position: absolute;border-left: 1px solid gray;box-sizing: border-box;top: 0;bottom: 0;left: 50%;z-index: -1;}#sk-container-id-2 div.sk-parallel-item {display: flex;flex-direction: column;z-index: 1;position: relative;background-color: white;}#sk-container-id-2 div.sk-parallel-item:first-child::after {align-self: flex-end;width: 50%;}#sk-container-id-2 div.sk-parallel-item:last-child::after {align-self: flex-start;width: 50%;}#sk-container-id-2 div.sk-parallel-item:only-child::after {width: 0;}#sk-container-id-2 div.sk-dashed-wrapped {border: 1px dashed gray;margin: 0 0.4em 0.5em 0.4em;box-sizing: border-box;padding-bottom: 0.4em;background-color: white;}#sk-container-id-2 div.sk-label label {font-family: monospace;font-weight: bold;display: inline-block;line-height: 1.2em;}#sk-container-id-2 div.sk-label-container {text-align: center;}#sk-container-id-2 div.sk-container {/* jupyter's `normalize.less` sets `[hidden] { display: none; }` but bootstrap.min.css set `[hidden] { display: none !important; }` so we also need the `!important` here to be able to override the default hidden behavior on the sphinx rendered scikit-learn.org. See: https://github.com/scikit-learn/scikit-learn/issues/21755 */display: inline-block !important;position: relative;}#sk-container-id-2 div.sk-text-repr-fallback {display: none;}</style><div id=\"sk-container-id-2\" class=\"sk-top-container\"><div class=\"sk-text-repr-fallback\"><pre>RandomForestRegressor(random_state=42)</pre><b>In a Jupyter environment, please rerun this cell to show the HTML representation or trust the notebook. <br />On GitHub, the HTML representation is unable to render, please try loading this page with nbviewer.org.</b></div><div class=\"sk-container\" hidden><div class=\"sk-item\"><div class=\"sk-estimator sk-toggleable\"><input class=\"sk-toggleable__control sk-hidden--visually\" id=\"sk-estimator-id-2\" type=\"checkbox\" checked><label for=\"sk-estimator-id-2\" class=\"sk-toggleable__label sk-toggleable__label-arrow\">RandomForestRegressor</label><div class=\"sk-toggleable__content\"><pre>RandomForestRegressor(random_state=42)</pre></div></div></div></div></div>"
      ],
      "text/plain": [
       "RandomForestRegressor(random_state=42)"
      ]
     },
     "execution_count": 31,
     "metadata": {},
     "output_type": "execute_result"
    }
   ],
   "source": [
    "# Treinar o modelo com os dados de treinamento\n",
    "random_forest.fit(X_train, y_train)"
   ]
  },
  {
   "cell_type": "markdown",
   "metadata": {},
   "source": [
    "## Predição e Testes"
   ]
  },
  {
   "cell_type": "code",
   "execution_count": 32,
   "metadata": {},
   "outputs": [],
   "source": [
    "# Fazer previsões no conjunto de teste\n",
    "y_pred = random_forest.predict(X_test)"
   ]
  },
  {
   "cell_type": "markdown",
   "metadata": {},
   "source": [
    "### Métricas de Classificação"
   ]
  },
  {
   "cell_type": "code",
   "execution_count": 24,
   "metadata": {},
   "outputs": [
    {
     "name": "stdout",
     "output_type": "stream",
     "text": [
      "Acurácia: 1.0\n",
      "Precisão: 1.0\n",
      "Sensibilidade (Recall): 1.0\n",
      "F1-Score: 1.0\n"
     ]
    }
   ],
   "source": [
    "# Calcular acurácia\n",
    "accuracy = accuracy_score(y_test, y_pred)\n",
    "print(f\"Acurácia: {accuracy}\")\n",
    "\n",
    "# Calcular precisão\n",
    "precision = precision_score(y_test, y_pred, average='weighted')  # Defina o argumento `average` conforme apropriado\n",
    "print(f\"Precisão: {precision}\")\n",
    "\n",
    "# Calcular sensibilidade (recall)\n",
    "recall = recall_score(y_test, y_pred, average='weighted')  # Defina o argumento `average` conforme apropriado\n",
    "print(f\"Sensibilidade (Recall): {recall}\")\n",
    "\n",
    "# Calcular F1-score\n",
    "f1 = f1_score(y_test, y_pred, average='weighted')  # Defina o argumento `average` conforme apropriado\n",
    "print(f\"F1-Score: {f1}\")"
   ]
  },
  {
   "cell_type": "markdown",
   "metadata": {},
   "source": [
    "PRATIQUE. Interprete o resultado das métricas acima.\n",
    "\n",
    "*Duplo clique aqui para ver a resposta*\n",
    "\n",
    "<!--\n",
    "\n",
    "Os resultados das métricas indicam que o modelo é eficaz, fazendo previsões perfeitas nos dados de teste para as classes que você está tentando prever. Vamos interpretar cada métrica:\n",
    "\n",
    "1. **Acurácia: 1.0**  \n",
    "   Isso indica que 100% das previsões do modelo são corretas. Em outras palavras, o modelo não cometeu nenhum erro no conjunto de teste. A acurácia é frequentemente usada como uma métrica geral para classificação, mas é especialmente útil quando as classes estão bem balanceadas.\n",
    "\n",
    "2. **Precisão: 1.0**  \n",
    "   A precisão também está em 100%, o que significa que não houve falsos positivos. Cada vez que o modelo previu uma determinada classe, ele estava correto.\n",
    "\n",
    "3. **Sensibilidade (Recall): 1.0**  \n",
    "   Um valor de sensibilidade de 1.0 implica que não houve falsos negativos. Ou seja, o modelo identificou corretamente todas as instâncias da classe positiva.\n",
    "\n",
    "4. **F1-Score: 1.0**  \n",
    "   O F1-Score é a média harmônica entre precisão e sensibilidade. Um valor de 1.0 é o melhor valor possível e indica um equilíbrio perfeito entre precisão e sensibilidade.\n",
    "\n",
    "### Alguns Pontos para Considerar:\n",
    "\n",
    "1. **Conjunto de Teste Representativo**: Se o seu conjunto de teste não for representativo do mundo real ou dos dados que o modelo enfrentará em uma aplicação em produção, os resultados podem ser enganosamente otimistas.\n",
    "\n",
    "2. **Overfitting**: Uma acurácia perfeita muitas vezes levanta uma bandeira vermelha de que o modelo pode ter sido superajustado (overfit) ao conjunto de treinamento. Isso significa que o modelo aprendeu o conjunto de treinamento \"de cor\" em vez de generalizar a partir dele.\n",
    "\n",
    "3. **Dados Desbalanceados ou Facilidade da Tarefa**: Um resultado perfeito pode ser mais fácil de conseguir em tarefas muito simples ou em conjuntos de dados desbalanceados, onde até mesmo um modelo trivial pode atingir uma acurácia alta simplesmente prevendo a classe majoritária.\n",
    "\n",
    "4. **Verificação Adicional**: É sempre bom fazer mais verificações ou validações cruzadas para ter certeza de que o resultado não é um falso positivo ou devido a algum tipo de erro ou viés nos dados.\n",
    "\n",
    ">"
   ]
  },
  {
   "cell_type": "markdown",
   "metadata": {},
   "source": [
    "### Métricas de Regressão"
   ]
  },
  {
   "cell_type": "code",
   "execution_count": 35,
   "metadata": {},
   "outputs": [
    {
     "name": "stdout",
     "output_type": "stream",
     "text": [
      "MAE: 0.0018125000000000003\n",
      "MSE: 0.00022562499999999991\n",
      "RMSE: 0.015020818885799798\n",
      "R2 Score: 0.9998226915520628\n"
     ]
    }
   ],
   "source": [
    "# Calculando MAE (Erro Médio Absoluto)\n",
    "mae = mean_absolute_error(y_test, y_pred)\n",
    "print(f\"MAE: {mae}\")\n",
    "\n",
    "# Calculando MSE (Erro Quadrático Médio)\n",
    "mse = mean_squared_error(y_test, y_pred)\n",
    "print(f\"MSE: {mse}\")\n",
    "\n",
    "# Calculando RMSE (Raiz do Erro Quadrático Médio)\n",
    "rmse = np.sqrt(mse)\n",
    "print(f\"RMSE: {rmse}\")\n",
    "\n",
    "# Calculando R2 Score (Coeficiente de Determinação)\n",
    "r2 = r2_score(y_test, y_pred)\n",
    "print(f\"R2 Score: {r2}\")"
   ]
  },
  {
   "cell_type": "markdown",
   "metadata": {},
   "source": [
    "PRATIQUE. Interprete o resultado das métricas acima.\n",
    "\n",
    "*Duplo clique aqui para ver a resposta*\n",
    "\n",
    "<!--\n",
    "\n",
    "Os valores das métricas de regressão indicam que o modelo tem um desempenho excepcionalmente bom nos dados de teste. Vamos interpretar cada uma delas:\n",
    "\n",
    "1. **Erro Médio Absoluto (MAE: 0.0018)**  \n",
    "   Este valor sugere que as previsões do modelo têm, em média, um erro absoluto de apenas 0.0018 unidades em relação aos valores reais. Este é um valor extremamente baixo, indicando que o modelo é muito preciso.\n",
    "\n",
    "2. **Erro Quadrático Médio (MSE: 0.00023)**  \n",
    "   Similar ao MAE, o MSE é uma métrica que também mostra o erro médio do modelo. No entanto, ao elevar os erros ao quadrado, o MSE dá maior peso aos erros grandes. Um valor tão baixo sugere que não só os erros são pequenos em média, mas também que erros grandes são raros ou inexistentes.\n",
    "\n",
    "3. **Raiz do Erro Quadrático Médio (RMSE: 0.015)**  \n",
    "   O RMSE é simplesmente a raiz quadrada do MSE e está na mesma unidade que a variável dependente. Um RMSE de 0.015 é também muito baixo, confirmando que o modelo faz previsões muito próximas aos valores reais.\n",
    "\n",
    "4. **Coeficiente de Determinação (\\( R^2 \\) Score: 0.9998)**  \n",
    "   Este valor está muito próximo de 1, o que é o melhor valor possível para \\( R^2 \\). Isso indica que aproximadamente 99.98% da variabilidade nos dados é explicada pelo modelo. Em outras palavras, o modelo é quase perfeito em capturar a relação subjacente entre as variáveis independentes e dependentes.\n",
    "\n",
    "### Considerações\n",
    "\n",
    "1. **Verificação Adicional**: Com métricas tão altas, seria prudente realizar uma verificação adicional para garantir que o modelo não esteja superajustado (overfitting) aos dados de treinamento.\n",
    "\n",
    "2. **Dados de Teste Representativos**: Semelhante à situação com métricas de classificação, assegure-se de que seu conjunto de teste seja representativo para evitar conclusões enganosamente otimistas.\n",
    "\n",
    "3. **Complexidade do Modelo**: Se o modelo é muito complexo e o conjunto de dados é pequeno, os resultados podem ser devido ao overfitting. Você pode tentar usar validação cruzada para avaliar a robustez do modelo.\n",
    "\n",
    "4. **Domínio do Problema**: Sempre é bom interpretar essas métricas à luz do domínio do problema. Em alguns casos, mesmo pequenos erros podem ser críticos, enquanto em outros cenários, eles podem ser negligenciáveis.\n",
    "\n",
    ">"
   ]
  }
 ],
 "metadata": {
  "kernelspec": {
   "display_name": "Python 3",
   "language": "python",
   "name": "python3"
  },
  "language_info": {
   "codemirror_mode": {
    "name": "ipython",
    "version": 3
   },
   "file_extension": ".py",
   "mimetype": "text/x-python",
   "name": "python",
   "nbconvert_exporter": "python",
   "pygments_lexer": "ipython3",
   "version": "3.10.12"
  },
  "orig_nbformat": 4
 },
 "nbformat": 4,
 "nbformat_minor": 2
}

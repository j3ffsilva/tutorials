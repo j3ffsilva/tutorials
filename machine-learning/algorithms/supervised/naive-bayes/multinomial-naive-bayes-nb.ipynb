{
 "cells": [
  {
   "cell_type": "markdown",
   "id": "cf4dcc0f",
   "metadata": {},
   "source": [
    "# Multinomial Naive Bayes"
   ]
  },
  {
   "cell_type": "markdown",
   "id": "3d9e90b7",
   "metadata": {},
   "source": [
    "O algoritmo Multinomial Naive Bayes é uma variação do classificador Naive Bayes e é especialmente útil para dados que representam contagens ou frequências de eventos. "
   ]
  },
  {
   "cell_type": "markdown",
   "id": "4fc02bd7",
   "metadata": {},
   "source": [
    "### EXEMPLOS"
   ]
  },
  {
   "cell_type": "markdown",
   "id": "fa8e1a06",
   "metadata": {},
   "source": [
    "**EXEMPLO 1**"
   ]
  },
  {
   "cell_type": "markdown",
   "id": "d018f9a1",
   "metadata": {},
   "source": [
    "Vamos supere que você queria classificar automaticamente quem é o proprietário de uma cesta de frutas. O dataset registra quantas frutas existem em cada cesta (representada por `id`) e seu respectivo propriério."
   ]
  },
  {
   "cell_type": "markdown",
   "id": "58f4f570",
   "metadata": {},
   "source": [
    "| ID | Maçãs | Bananas | Laranjas | Uvas | Proprietário da cesta |\n",
    "|----|-------|---------|----------|------|-------|\n",
    "| 1 | 5 | 3 | 2 | 0 | A |\n",
    "| 2 | 0 | 6 | 1 | 3 | B |\n",
    "| 3 | 3 | 0 | 5 | 2 | A |\n",
    "| 4 | 1 | 3 | 0 | 6 | B |\n",
    "| 5 | 4 | 2 | 3 | 1 | A |\n",
    "| 6 | 1 | 5 | 0 | 4 | B |"
   ]
  },
  {
   "cell_type": "markdown",
   "id": "02aa0f15",
   "metadata": {},
   "source": [
    "**EXEMPLO 2**"
   ]
  },
  {
   "cell_type": "markdown",
   "id": "eb488a21",
   "metadata": {},
   "source": [
    "O Naive Bayes multinomial é frequentemente utilizado quanto o dataset contém textos. Um caso comum é a classificação de sentimento em um conjunto de `reviews` de produtos. Então, vamos supor que você queira classificar automaticamente se as revisões dos produtos são positivas (1) ou negativas (0). O conjunto de dados poderia ser similar ao seguinte:"
   ]
  },
  {
   "cell_type": "markdown",
   "id": "c96c31ca",
   "metadata": {},
   "source": [
    "| ID |  Revisão do produto |  Classificação |\n",
    "|----|-------------------|----------------|\n",
    "| 1 |\tEste produto é incrível! | 1 |\n",
    "| 2 |\tNão gostei do produto, me decepcionou. | 0 |\n",
    "| 3 |\tO produto é bom, mas poderia ser melhor. | 1 |\n",
    "| 4 |\tTerrível! Não compraria de novo. | 0 |\n",
    "| 5 |\tMelhor compra que fiz este ano. | 1 |\n",
    "| 6 |\tProduto de péssima qualidade. | 0 |\n",
    "| 7 |\tEstou extremamente satisfeito com este produto. | 1 |\n",
    "| 8 |\tNão vale a pena, muito caro para o que oferece. | 0 |\n",
    "| 9 |\tA qualidade do produto excedeu minhas expectativas. | 1 |\n",
    "| 10 |\tMuito ruim, quebrou após um mês de uso. | 0 |"
   ]
  },
  {
   "cell_type": "markdown",
   "id": "5d9e374d",
   "metadata": {},
   "source": [
    "*Vetorizando o conjunto de dados*"
   ]
  },
  {
   "cell_type": "markdown",
   "id": "03f6fb06",
   "metadata": {},
   "source": [
    "O algoritmo Multinomial Naive Bayes funnciona bem porque podemos converter as sentenças em um vetor de frequências. A tabela a seguir mostra uma simplificação de como cada sentença acima poderia ser convertida em um vetor de frequências. Cada palalavra (mais precisamente, *token*) do vocabulário do conjunto de dados vira um atributo que registra a frequência de ocorrência do *token* no texto. "
   ]
  },
  {
   "cell_type": "markdown",
   "id": "5d88d341",
   "metadata": {},
   "source": [
    "| ID | este | produto | incrível | não | gostei | me | decepcionou | o | bom | mas | poderia | ser | melhor | terrível | compraria | novo |\n",
    "|----|------|---------|----------|-----|--------|----|-------------|---|-----|-----|---------|-----|--------|----------|-----------|------| \n",
    "| 1 | 1 | 1 | 1 | 0 | 0 | 0 | 0 | 0 | 0 | 0 | 0 | 0 | 0 | 0 | 0 | 0 |\n",
    "| 2 | 0 | 1 | 0 | 1 | 1 | 1 | 1 | 0 | 0 | 0 | 0 | 0 | 0 | 0 | 0 | 0 |\n",
    "| 3 | 0 | 1 | 0 | 0 | 0 | 0 | 0 | 1 | 1 | 1 | 1 | 1 | 1 | 0 | 0 | 0 |\n",
    "| 4 | 0 | 0 | 0 | 0 | 0 | 0 | 0 | 0 | 0 | 0 | 0 | 0 | 0 | 1 | 1 | 1 |"
   ]
  },
  {
   "cell_type": "markdown",
   "id": "a6712663",
   "metadata": {},
   "source": [
    "## Considerações"
   ]
  },
  {
   "cell_type": "markdown",
   "id": "f4851b85",
   "metadata": {},
   "source": [
    "A aplicação correta de um algoritmo de *Machine Learning* envolve várias considerações importantes relacionadas aos dados. Assim, aqui estão algumas ponderações que você deve considerar antes de aplicar esse algoritmo.\n",
    "\n",
    "* As variáveis preditoras seguem uma distribuição multinomial (i.e., contagens)?\n",
    "\n",
    "* Existem *outliers* ou *ruídos* no conjunto de treinamento?\n",
    "\n",
    "* Os classes estão balanceadas?\n",
    "\n",
    "* Você considerou o 'problema da frequência zero'?\n",
    "\n",
    "* As variáveis estão altamente correlacionadas?"
   ]
  },
  {
   "cell_type": "markdown",
   "id": "d7674740",
   "metadata": {},
   "source": [
    "## O Algoritmo na Prática"
   ]
  },
  {
   "cell_type": "markdown",
   "id": "21b1608b",
   "metadata": {},
   "source": [
    "**Bibliotecas**"
   ]
  },
  {
   "cell_type": "code",
   "execution_count": 1,
   "id": "ac5a39d3",
   "metadata": {},
   "outputs": [],
   "source": [
    "from sklearn.feature_extraction.text import CountVectorizer\n",
    "from sklearn.naive_bayes import MultinomialNB\n",
    "from sklearn.model_selection import train_test_split\n",
    "from sklearn.metrics import accuracy_score"
   ]
  },
  {
   "cell_type": "markdown",
   "id": "e3045f3d",
   "metadata": {},
   "source": [
    "**Ingestão**"
   ]
  },
  {
   "cell_type": "code",
   "execution_count": null,
   "id": "51856e8d",
   "metadata": {},
   "outputs": [],
   "source": [
    "# Primeiro obtemos um conjunto de dados\n",
    "textos = ['Este produto é incrível!',\n",
    "          'Não gostei do produto, me decepcionou.',\n",
    "          'O produto é bom, mas poderia ser melhor.',\n",
    "          'Terrível! Não compraria de novo.',\n",
    "          'Melhor compra que fiz este ano.',\n",
    "          'Produto de péssima qualidade.']\n",
    "\n",
    "\n",
    "# Anotamos cada review (1 para sentimento positivo e 0 para negativo)\n",
    "etiquetas = [1, 0, 1, 0, 1, 0]"
   ]
  },
  {
   "cell_type": "markdown",
   "id": "a48c3957",
   "metadata": {},
   "source": [
    "**Preparação**"
   ]
  },
  {
   "cell_type": "code",
   "execution_count": null,
   "id": "203a055a",
   "metadata": {},
   "outputs": [],
   "source": [
    "# Dividimos os dados em treinamento e teste\n",
    "textos_treino, textos_teste, etiquetas_treino, etiquetas_teste = train_test_split(textos, etiquetas, test_size=0.2)"
   ]
  },
  {
   "cell_type": "code",
   "execution_count": null,
   "id": "848220c0",
   "metadata": {},
   "outputs": [],
   "source": [
    "# Criamos o objeto CountVectorizer e transformamos os textos de treinamento em uma matriz de contagens de palavras\n",
    "vetorizador = CountVectorizer()\n",
    "X_treino = vetorizador.fit_transform(textos_treino)\n",
    "\n",
    "# Fazemos o mesmo com os textos de teste. Desta vez só usamos o transform (não queremos aprender novas palavras no conjunto de teste)\n",
    "X_teste = vetorizador.transform(textos_teste)"
   ]
  },
  {
   "cell_type": "markdown",
   "id": "154c167d",
   "metadata": {},
   "source": [
    "**Treinamento**"
   ]
  },
  {
   "cell_type": "code",
   "execution_count": null,
   "id": "fbf0326f",
   "metadata": {},
   "outputs": [],
   "source": [
    "# Criamos e treinamos o modelo Multinomial Naive Bayes\n",
    "modelo = MultinomialNB()\n",
    "modelo.fit(X_treino, etiquetas_treino)"
   ]
  },
  {
   "cell_type": "markdown",
   "id": "a72d85ed",
   "metadata": {},
   "source": [
    "**Testes**"
   ]
  },
  {
   "cell_type": "code",
   "execution_count": null,
   "id": "ecd99e00",
   "metadata": {},
   "outputs": [],
   "source": [
    "# Fazemos previsões sobre os dados de teste e calculamos a precisão\n",
    "etiquetas_previstas = modelo.predict(X_teste)\n",
    "print(\"Precisão: \", accuracy_score(etiquetas_teste, etiquetas_previstas))"
   ]
  }
 ],
 "metadata": {
  "kernelspec": {
   "display_name": "Python 3",
   "language": "python",
   "name": "python3"
  },
  "language_info": {
   "codemirror_mode": {
    "name": "ipython",
    "version": 3
   },
   "file_extension": ".py",
   "mimetype": "text/x-python",
   "name": "python",
   "nbconvert_exporter": "python",
   "pygments_lexer": "ipython3",
   "version": "3.8.8"
  }
 },
 "nbformat": 4,
 "nbformat_minor": 5
}

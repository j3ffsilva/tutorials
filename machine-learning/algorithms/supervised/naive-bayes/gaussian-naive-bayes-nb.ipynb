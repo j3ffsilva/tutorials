{
 "cells": [
  {
   "cell_type": "markdown",
   "id": "cf4dcc0f",
   "metadata": {},
   "source": [
    "# Gaussian Naive Bayes"
   ]
  },
  {
   "cell_type": "markdown",
   "id": "3d9e90b7",
   "metadata": {},
   "source": [
    "O algoritmo Gaussian Naive Bayes é usado quando os atributos preditores têm valores contínuos e seguem uma distribuição normal (gaussiana)."
   ]
  },
  {
   "cell_type": "markdown",
   "id": "4fc02bd7",
   "metadata": {},
   "source": [
    "**EXEMPLO**"
   ]
  },
  {
   "cell_type": "markdown",
   "id": "eb488a21",
   "metadata": {},
   "source": [
    "Vamos supor que você esteja trabalhando com um conjunto de dados de diagnóstico de saúde que inclui características como pressão arterial, níveis de colesterol, índice de massa corporal (IMC) etc. Cada um desses atributos segue uma distribuição normal (gaussiana).\n",
    "\n",
    "Em casos assim, você pode usar o Naive Bayes Gaussiano para prever se um novo paciente tem ou não uma determinada doença."
   ]
  },
  {
   "cell_type": "markdown",
   "id": "c96c31ca",
   "metadata": {},
   "source": [
    "| Pessoa_ID | Pressão Arterial | Colesterol | Doente |\n",
    "|-------|------------------|------------|--------|\n",
    "| 0     | 120              | 200        | Não    |\n",
    "| 1     | 140              | 220        | Sim    |\n",
    "| 2     | 130              | 210        | Não    |\n",
    "| 3     | 160              | 240        | Sim    |\n",
    "| 4     | 150              | 230        | Sim    |\n",
    "| 5     | 125              | 205        | Não    |\n",
    "| 6     | 135              | 215        | Não    |\n",
    "| 7     | 145              | 225        | Sim    |\n",
    "| 8     | 155              | 235        | Sim    |\n",
    "| 9     | 165              | 245        | Sim    |"
   ]
  },
  {
   "cell_type": "markdown",
   "id": "a6712663",
   "metadata": {},
   "source": [
    "## Considerações"
   ]
  },
  {
   "cell_type": "markdown",
   "id": "f4851b85",
   "metadata": {},
   "source": [
    "A aplicação correta de um algoritmo de *Machine Learning* envolve várias considerações importantes relacionadas aos dados. Assim, aqui estão algumas ponderações que você deve considerar antes de aplicar esse algoritmo.\n",
    "\n",
    "* **As variáveis preditoras seguem uma distribuição normal (gaussiana)?**\n",
    "\n",
    "* **Existem *outliers* ou *ruídos* no conjunto de treinamento?**\n",
    "\n",
    "* **Os dados estão balanceados?**\n",
    "\n",
    "* **A variável dependente é binária, multiclasse ou multilabel?**\n",
    "\n",
    "* **As variáveis estão altamente correlacionadas?**\n",
    "\n",
    "* **O conjunto de dados possui uma alta dimensionalidade?**"
   ]
  },
  {
   "cell_type": "markdown",
   "id": "d7674740",
   "metadata": {},
   "source": [
    "## O Algoritmo na Prática"
   ]
  },
  {
   "cell_type": "markdown",
   "id": "d2f7677a",
   "metadata": {},
   "source": [
    "## Como aplicar o algoritmo no `sklearn`?"
   ]
  },
  {
   "cell_type": "markdown",
   "id": "21b1608b",
   "metadata": {},
   "source": [
    "**Bibliotecas**"
   ]
  },
  {
   "cell_type": "code",
   "execution_count": 1,
   "id": "ac5a39d3",
   "metadata": {},
   "outputs": [],
   "source": [
    "import pandas as pd\n",
    "from sklearn.model_selection import train_test_split\n",
    "from sklearn.naive_bayes import GaussianNB\n",
    "from sklearn.metrics import accuracy_score"
   ]
  },
  {
   "cell_type": "markdown",
   "id": "e3045f3d",
   "metadata": {},
   "source": [
    "**Ingestão**"
   ]
  },
  {
   "cell_type": "code",
   "execution_count": null,
   "id": "51856e8d",
   "metadata": {},
   "outputs": [],
   "source": [
    "# Carregando o dataset\n",
    "df = pd.read_csv('health.csv')"
   ]
  },
  {
   "cell_type": "markdown",
   "id": "a48c3957",
   "metadata": {},
   "source": [
    "**Preparação**"
   ]
  },
  {
   "cell_type": "code",
   "execution_count": null,
   "id": "203a055a",
   "metadata": {},
   "outputs": [],
   "source": [
    "# Dividindo o dataset em treinamento e teste\n",
    "X_train, X_test, y_train, y_test = train_test_split(\n",
    "    df[['Pressão Arterial', 'Colesterol']],  # características\n",
    "    df['Doente'],  # alvo\n",
    "    test_size=0.2,  # 80% para treinamento, 20% para teste\n",
    "    random_state=1  # semente de reprodutibilidade\n",
    ")"
   ]
  },
  {
   "cell_type": "markdown",
   "id": "154c167d",
   "metadata": {},
   "source": [
    "**Treinamento**"
   ]
  },
  {
   "cell_type": "code",
   "execution_count": null,
   "id": "fbf0326f",
   "metadata": {},
   "outputs": [],
   "source": [
    "# Criando e treinando o modelo Gaussian Naive Bayes\n",
    "model = GaussianNB()\n",
    "model.fit(X_train, y_train)"
   ]
  },
  {
   "cell_type": "markdown",
   "id": "a72d85ed",
   "metadata": {},
   "source": [
    "**Testes**"
   ]
  },
  {
   "cell_type": "code",
   "execution_count": null,
   "id": "ecd99e00",
   "metadata": {},
   "outputs": [],
   "source": [
    "# Previsões e avaliação do modelo\n",
    "predictions = model.predict(X_test)\n",
    "print(\"Acurácia:\", accuracy_score(y_test, predictions))"
   ]
  }
 ],
 "metadata": {
  "kernelspec": {
   "display_name": "Python 3",
   "language": "python",
   "name": "python3"
  },
  "language_info": {
   "codemirror_mode": {
    "name": "ipython",
    "version": 3
   },
   "file_extension": ".py",
   "mimetype": "text/x-python",
   "name": "python",
   "nbconvert_exporter": "python",
   "pygments_lexer": "ipython3",
   "version": "3.8.8"
  }
 },
 "nbformat": 4,
 "nbformat_minor": 5
}

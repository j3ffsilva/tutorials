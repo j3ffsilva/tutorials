{
 "cells": [
  {
   "cell_type": "markdown",
   "id": "cf4dcc0f",
   "metadata": {},
   "source": [
    "# Support Vector Machines (SVM)"
   ]
  },
  {
   "cell_type": "markdown",
   "id": "aeb74e01",
   "metadata": {},
   "source": [
    "## Dados Linearmente Separáveis"
   ]
  },
  {
   "cell_type": "markdown",
   "id": "3d9e90b7",
   "metadata": {},
   "source": [
    "O SVM pode realizar tanto a classificação linear quanto a não linear. Neste caderno, vemos como usar o SVM para prever um valor contínuo a partir de dados linearmente separáveis."
   ]
  },
  {
   "cell_type": "markdown",
   "id": "4fc02bd7",
   "metadata": {},
   "source": [
    "**EXEMPLO**"
   ]
  },
  {
   "cell_type": "markdown",
   "id": "eb488a21",
   "metadata": {},
   "source": [
    "Vamos supor que temos um conjunto de dados que representa a informação sobre o desempenho de alunos como a tabela seguir."
   ]
  },
  {
   "cell_type": "markdown",
   "id": "c96c31ca",
   "metadata": {},
   "source": [
    "| Horas de estudo | Horas de sono | Pontuação no teste |\n",
    "|-----------------|---------------|--------------------|\n",
    "| 2 | 9 | 76 |\n",
    "| 6 | 8 | 88 |\n",
    "| 7 | 6 | 92 |\n",
    "| 5 | 6 | 85 |\n",
    "| 8 | 8 | 90 |\n",
    "| 9 | 7 | 93 |\n",
    "| 3 | 7 | 78 |\n",
    "| 2 | 6 | 75 |\n",
    "| 5 | 8 | 84 |\n",
    "| 7 | 7 | 88 |"
   ]
  },
  {
   "cell_type": "markdown",
   "id": "a6712663",
   "metadata": {},
   "source": [
    "## Considerações"
   ]
  },
  {
   "cell_type": "markdown",
   "id": "f4851b85",
   "metadata": {},
   "source": [
    "A aplicação correta de um algoritmo de *Machine Learning* envolve várias considerações importantes relacionadas aos dados. Assim, aqui estão algumas ponderações que você deve considerar antes de aplicar esse algoritmo.\n",
    "\n",
    "* *Linearidade dos dados*: O SVM com kernel linear funciona melhor quando os dados são linearmente separáveis, ou seja, quando existe uma linha (em 2D), um plano (em 3D) ou um hiperplano (em mais dimensões) que pode separar as classes. Você pode visualizar os dados (se eles tiverem 2 ou 3 dimensões) ou usar técnicas estatísticas para verificar se eles são linearmente separáveis.\n",
    "\n",
    "* *Dimensão dos dados*: O SVM com kernel linear é mais eficiente do que o SVM com kernel não-linear em termos de tempo computacional, especialmente quando o número de atributos é grande. Isso ocorre porque o SVM com kernel linear requer menos cálculos. Se os dados são de alta dimensão, mas ainda assim são linearmente separáveis, um SVM com kernel linear pode ser a melhor opção.\n",
    "\n",
    "* *Número de exemplos de treinamento*: O SVM com kernel linear tende a funcionar bem quando o número de exemplos de treinamento é grande. No entanto, se o número de exemplos de treinamento é pequeno e os dados não são linearmente separáveis, pode ser mais apropriado usar um kernel não-linear.\n",
    "\n",
    "* *Interpretabilidade do modelo*: O SVM com kernel linear pode ser mais fácil de interpretar do que o SVM com kernel não-linear. O hiperplano de decisão em um SVM com kernel linear é definido por um subconjunto dos dados de treinamento (os vetores de suporte) e pode ser descrito por uma equação linear, o que pode ser útil para entender a relação entre os atributos e o rótulo da classe."
   ]
  },
  {
   "cell_type": "markdown",
   "id": "d7674740",
   "metadata": {},
   "source": [
    "## O Algoritmo na Prática"
   ]
  },
  {
   "cell_type": "markdown",
   "id": "d2f7677a",
   "metadata": {},
   "source": [
    "## Como aplicar o algoritmo no `sklearn`?"
   ]
  },
  {
   "cell_type": "markdown",
   "id": "21b1608b",
   "metadata": {},
   "source": [
    "**Bibliotecas**"
   ]
  },
  {
   "cell_type": "code",
   "execution_count": 1,
   "id": "ac5a39d3",
   "metadata": {},
   "outputs": [],
   "source": [
    "from sklearn import svm\n",
    "import numpy as np"
   ]
  },
  {
   "cell_type": "markdown",
   "id": "e3045f3d",
   "metadata": {},
   "source": [
    "**Ingestão**"
   ]
  },
  {
   "cell_type": "code",
   "execution_count": null,
   "id": "51856e8d",
   "metadata": {},
   "outputs": [],
   "source": [
    "# Dados de entrada (Tempo no Site, Número de Páginas Visitadas)\n",
    "X = np.array([\n",
    "    [5, 10],\n",
    "    [10, 20],\n",
    "    [15, 30],\n",
    "    [20, 25],\n",
    "    [25, 20],\n",
    "    [30, 15],\n",
    "    [35, 10],\n",
    "    [40, 5],\n",
    "    [45, 3],\n",
    "    [50, 1]\n",
    "])\n",
    "\n",
    "# Rótulos (Compra)\n",
    "y = np.array([1, 1, 1, 1, 1, 0, 0, 0, 0, 0])"
   ]
  },
  {
   "cell_type": "markdown",
   "id": "a48c3957",
   "metadata": {},
   "source": [
    "**Treinamento**"
   ]
  },
  {
   "cell_type": "code",
   "execution_count": null,
   "id": "203a055a",
   "metadata": {},
   "outputs": [],
   "source": [
    "# Ajustando o modelo Support Vector Regressor (SVR)\n",
    "# `C` é um parâmetro de regularização, que determina o tradeoff entre obter o menor erro possível e manter a complexidade do modelo baixa\n",
    "# `epsilon` especifica a largura da banda insensível ao erro na qual não ocorre penalidade no termo de treinamento do erro. \n",
    "model = svm.SVR(kernel='linear', C=1.0, epsilon=0.1)\n",
    "model.fit(X, y)"
   ]
  },
  {
   "cell_type": "markdown",
   "id": "a72d85ed",
   "metadata": {},
   "source": [
    "**Utilização**"
   ]
  },
  {
   "cell_type": "code",
   "execution_count": null,
   "id": "ecd99e00",
   "metadata": {},
   "outputs": [],
   "source": [
    "# Fazendo previsões\n",
    "predictions = model.predict(X)\n",
    "print(predictions)"
   ]
  }
 ],
 "metadata": {
  "kernelspec": {
   "display_name": "Python 3",
   "language": "python",
   "name": "python3"
  },
  "language_info": {
   "codemirror_mode": {
    "name": "ipython",
    "version": 3
   },
   "file_extension": ".py",
   "mimetype": "text/x-python",
   "name": "python",
   "nbconvert_exporter": "python",
   "pygments_lexer": "ipython3",
   "version": "3.8.8"
  }
 },
 "nbformat": 4,
 "nbformat_minor": 5
}

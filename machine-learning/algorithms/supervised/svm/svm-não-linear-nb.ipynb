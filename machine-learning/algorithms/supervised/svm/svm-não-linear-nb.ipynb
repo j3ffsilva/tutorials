{
 "cells": [
  {
   "cell_type": "markdown",
   "id": "cf4dcc0f",
   "metadata": {},
   "source": [
    "# Support Vector Machines (SVM)"
   ]
  },
  {
   "cell_type": "markdown",
   "id": "aeb74e01",
   "metadata": {},
   "source": [
    "## Dados Não Linearmente Separáveis"
   ]
  },
  {
   "cell_type": "markdown",
   "id": "3d9e90b7",
   "metadata": {},
   "source": [
    "O SVM pode realizar tanto a classificação linear quanto a não linear. Neste caderno, vemos como usar o SVM para prever um valor contínuo a partir de dados não linearmente separáveis."
   ]
  },
  {
   "cell_type": "markdown",
   "id": "4fc02bd7",
   "metadata": {},
   "source": [
    "**EXEMPLO**"
   ]
  },
  {
   "cell_type": "markdown",
   "id": "eb488a21",
   "metadata": {},
   "source": [
    "Considere uma situação em que uma empresa de varejo está tentando prever se um cliente fará uma compra com base em seu comportamento de navegação no site. A variável `Tempo_no_site` registra o tempo em minutos que um cliente passou navegando. A variável `Número_de_Páginas_Visitadas` registra o número de páginas diferentes que um determinado cliente visitou. A variável `Compra` registra se o cliente efetivou a compra (1) ou não (0)."
   ]
  },
  {
   "cell_type": "markdown",
   "id": "c96c31ca",
   "metadata": {},
   "source": [
    "| Tempo_no_Site | Número_de_Páginas_Visitadas | Compra |\n",
    "|---------------|-----------------------------|--------|\n",
    "| 5 | 10 | 1 |\n",
    "| 10 | 20 | 1 |\n",
    "| 15 | 30 | 1 |\n",
    "| 20 | 25 | 1 |\n",
    "| 25 | 20 | 1 |\n",
    "| 30 | 15 | 0 |\n",
    "| 35 | 10 | 0 |\n",
    "| 40 | 5 | 0 |\n",
    "| 45 | 3 | 0 |\n",
    "| 50 | 1 | 0 |"
   ]
  },
  {
   "cell_type": "markdown",
   "id": "a6712663",
   "metadata": {},
   "source": [
    "## Considerações"
   ]
  },
  {
   "cell_type": "markdown",
   "id": "6dcae268",
   "metadata": {},
   "source": [
    "*Escrever*"
   ]
  },
  {
   "cell_type": "markdown",
   "id": "d7674740",
   "metadata": {},
   "source": [
    "## O Algoritmo na Prática"
   ]
  },
  {
   "cell_type": "markdown",
   "id": "d2f7677a",
   "metadata": {},
   "source": [
    "## Como aplicar o algoritmo no `sklearn`?"
   ]
  },
  {
   "cell_type": "markdown",
   "id": "21b1608b",
   "metadata": {},
   "source": [
    "**Bibliotecas**"
   ]
  },
  {
   "cell_type": "code",
   "execution_count": 1,
   "id": "ac5a39d3",
   "metadata": {},
   "outputs": [],
   "source": [
    "from sklearn import svm\n",
    "import numpy as np"
   ]
  },
  {
   "cell_type": "markdown",
   "id": "e3045f3d",
   "metadata": {},
   "source": [
    "**Ingestão**"
   ]
  },
  {
   "cell_type": "code",
   "execution_count": null,
   "id": "51856e8d",
   "metadata": {},
   "outputs": [],
   "source": [
    "# Dados de entrada (Horas de estudo e Horas de sono)\n",
    "X = np.array([\n",
    "    [2, 9],\n",
    "    [6, 8],\n",
    "    [7, 6],\n",
    "    [5, 6],\n",
    "    [8, 8],\n",
    "    [9, 7],\n",
    "    [3, 7],\n",
    "    [2, 6],\n",
    "    [5, 8],\n",
    "    [7, 7]\n",
    "])\n",
    "\n",
    "# Rótulos (Pontuação no teste)\n",
    "y = np.array([76, 88, 92, 85, 90, 93, 78, 75, 84, 88])"
   ]
  },
  {
   "cell_type": "markdown",
   "id": "a48c3957",
   "metadata": {},
   "source": [
    "**Treinamento**"
   ]
  },
  {
   "cell_type": "code",
   "execution_count": null,
   "id": "203a055a",
   "metadata": {},
   "outputs": [],
   "source": [
    "# Ajustando o modelo Support Vector Classifier (SVC)\n",
    "# `C` é um parâmetro de regularização, que determina o tradeoff entre obter o menor erro possível e manter a complexidade do modelo baixa\n",
    "model = svm.SVC(kernel='poly', degree=2, C=1.0)\n",
    "model.fit(X, y)"
   ]
  },
  {
   "cell_type": "markdown",
   "id": "a72d85ed",
   "metadata": {},
   "source": [
    "**Utilização**"
   ]
  },
  {
   "cell_type": "code",
   "execution_count": null,
   "id": "ecd99e00",
   "metadata": {},
   "outputs": [],
   "source": [
    "# Fazendo previsões\n",
    "predictions = model.predict(X)\n",
    "print(predictions)"
   ]
  }
 ],
 "metadata": {
  "kernelspec": {
   "display_name": "Python 3",
   "language": "python",
   "name": "python3"
  },
  "language_info": {
   "codemirror_mode": {
    "name": "ipython",
    "version": 3
   },
   "file_extension": ".py",
   "mimetype": "text/x-python",
   "name": "python",
   "nbconvert_exporter": "python",
   "pygments_lexer": "ipython3",
   "version": "3.8.8"
  }
 },
 "nbformat": 4,
 "nbformat_minor": 5
}

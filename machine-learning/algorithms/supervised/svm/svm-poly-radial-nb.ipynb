{
 "cells": [
  {
   "cell_type": "markdown",
   "id": "cf4dcc0f",
   "metadata": {},
   "source": [
    "# Support Vector Machines (SVM)"
   ]
  },
  {
   "cell_type": "markdown",
   "id": "aeb74e01",
   "metadata": {},
   "source": [
    "## Dados Não Linearmente Separáveis"
   ]
  },
  {
   "cell_type": "markdown",
   "id": "3d9e90b7",
   "metadata": {},
   "source": [
    "O SVM pode realizar tanto a classificação linear quanto a não linear. Neste caderno, vemos como usar o SVM para prever um valor contínuo a partir de dados não linearmente separáveis."
   ]
  },
  {
   "cell_type": "markdown",
   "id": "4fc02bd7",
   "metadata": {},
   "source": [
    "**EXEMPLO**"
   ]
  },
  {
   "cell_type": "markdown",
   "id": "eb488a21",
   "metadata": {},
   "source": [
    "Considere "
   ]
  },
  {
   "cell_type": "markdown",
   "id": "c96c31ca",
   "metadata": {},
   "source": [
    "| ID Estrela | Ascensão Reta | Declinação | Distância (anos-luz) | Classe |\n",
    "|------------|---------------|------------|---------------------|--------|\n",
    "| 1 | 14.96 | -15.82 | 4.24 | A |\n",
    "| 2 | 88.79 | 7.2 | 4.36 | A |\n",
    "| 3 | 217.43 | 19.17 | 4.22 | A |\n",
    "| 4 | 263.4 | 11.14 | 8.6 | B |\n",
    "| 5 | 86.36 | -9.67 | 11.4 | B |\n",
    "| 6 | 140.82 | -9.47 | 3.86 | A |\n",
    "| 7 | 191.4 | 27.13 | 7.78 | B |\n",
    "| 8 | 305.5 | -44.83 | 6.04 | B |\n",
    "| 9 | 319.36 | -62.67 | 4.11 | A |\n",
    "| 10 | 353.6 | -20.1 | 12.5 | B |"
   ]
  },
  {
   "cell_type": "markdown",
   "id": "01ee8b13",
   "metadata": {},
   "source": [
    "| Atributo | Descrição |\n",
    "|----------|-----------|\n",
    "| `ID Estrela` | Uma identificação única para cada estrela no dataset. |\n",
    "| `Ascensão Reta` e `Declinação` | Coordenadas celestiais para localizar a estrela no céu, semelhante à longitude e latitude na Terra. |\n",
    "| `Distância (anos-luz)` | A distância da estrela até a Terra em anos-luz. |\n",
    "| `Classe` | As estrelas são classificadas em duas classes: $A$ para estrelas na \"zona próxima\" (menos de 5 anos-luz de distância) e $B$ para estrelas na \"zona distante\" (5 anos-luz ou mais de distância). |"
   ]
  },
  {
   "cell_type": "markdown",
   "id": "a6712663",
   "metadata": {},
   "source": [
    "## Considerações"
   ]
  },
  {
   "cell_type": "markdown",
   "id": "6dcae268",
   "metadata": {},
   "source": [
    "*Escrever*"
   ]
  },
  {
   "cell_type": "markdown",
   "id": "d7674740",
   "metadata": {},
   "source": [
    "## O Algoritmo na Prática"
   ]
  },
  {
   "cell_type": "markdown",
   "id": "d2f7677a",
   "metadata": {},
   "source": [
    "## Como aplicar o algoritmo no `sklearn`?"
   ]
  },
  {
   "cell_type": "markdown",
   "id": "21b1608b",
   "metadata": {},
   "source": [
    "**Bibliotecas**"
   ]
  },
  {
   "cell_type": "code",
   "execution_count": 1,
   "id": "ac5a39d3",
   "metadata": {},
   "outputs": [],
   "source": [
    "from sklearn import svm\n",
    "import numpy as np"
   ]
  },
  {
   "cell_type": "markdown",
   "id": "e3045f3d",
   "metadata": {},
   "source": [
    "**Ingestão**"
   ]
  },
  {
   "cell_type": "code",
   "execution_count": null,
   "id": "51856e8d",
   "metadata": {},
   "outputs": [],
   "source": [
    "# Dados de entrada (Horas de estudo e Horas de sono)\n",
    "X = np.array([\n",
    "    [2, 9],\n",
    "    [6, 8],\n",
    "    [7, 6],\n",
    "    [5, 6],\n",
    "    [8, 8],\n",
    "    [9, 7],\n",
    "    [3, 7],\n",
    "    [2, 6],\n",
    "    [5, 8],\n",
    "    [7, 7]\n",
    "])\n",
    "\n",
    "# Rótulos (Pontuação no teste)\n",
    "y = np.array([76, 88, 92, 85, 90, 93, 78, 75, 84, 88])"
   ]
  },
  {
   "cell_type": "markdown",
   "id": "a48c3957",
   "metadata": {},
   "source": [
    "**Treinamento**"
   ]
  },
  {
   "cell_type": "code",
   "execution_count": null,
   "id": "203a055a",
   "metadata": {},
   "outputs": [],
   "source": [
    "# Ajustando o modelo Support Vector Classifier (SVC)\n",
    "# `C` é um parâmetro de regularização, que determina o tradeoff entre obter o menor erro possível e manter a complexidade do modelo baixa\n",
    "model = svm.SVC(kernel='poly', degree=2, C=1.0)\n",
    "model.fit(X, y)"
   ]
  },
  {
   "cell_type": "markdown",
   "id": "a72d85ed",
   "metadata": {},
   "source": [
    "**Utilização**"
   ]
  },
  {
   "cell_type": "code",
   "execution_count": null,
   "id": "ecd99e00",
   "metadata": {},
   "outputs": [],
   "source": [
    "# Fazendo previsões\n",
    "predictions = model.predict(X)\n",
    "print(predictions)"
   ]
  }
 ],
 "metadata": {
  "kernelspec": {
   "display_name": "Python 3",
   "language": "python",
   "name": "python3"
  },
  "language_info": {
   "codemirror_mode": {
    "name": "ipython",
    "version": 3
   },
   "file_extension": ".py",
   "mimetype": "text/x-python",
   "name": "python",
   "nbconvert_exporter": "python",
   "pygments_lexer": "ipython3",
   "version": "3.8.12"
  }
 },
 "nbformat": 4,
 "nbformat_minor": 5
}

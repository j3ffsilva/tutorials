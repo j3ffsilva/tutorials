{
 "cells": [
  {
   "cell_type": "markdown",
   "metadata": {},
   "source": [
    "# Regressão Linear"
   ]
  },
  {
   "cell_type": "markdown",
   "metadata": {},
   "source": [
    "A regressão linear é um método estatístico utilizado para entender a relação entre duas ou mais variáveis. No modelo mais simples, chamado de regressão linear simples, temos uma variável independente e uma variável dependente. A ideia é que se você variar a variável independente, a variável dependente irá mudar de acordo com uma relação linear específica.\n",
    "\n",
    "Essa relação linear é geralmente expressa na forma da equação, \n",
    "\n",
    "$$y = mx + b$$\n",
    "\n",
    "onde:\n",
    "- $y$ é a variável dependente que estamos tentando prever ou entender\n",
    "- $x$ é a variável independente que estamos usando para fazer a previsão\n",
    "- $m$ é a inclinação da linha de regressão, que representa o efeito que $x$ tem sobre $y$\n",
    "- $b$ é o intercepto $y$, que é o valor de $y$ quando $x$ é zero"
   ]
  },
  {
   "cell_type": "markdown",
   "metadata": {},
   "source": [
    "**EXEMPLO**"
   ]
  },
  {
   "cell_type": "markdown",
   "metadata": {},
   "source": [
    "Vamos imaginar que você esteja tentando prever o tempo de sentença de um réu a partir de um dataset de condenações anteriores de vários juízes. Um objetivo alternativo poderia ser entender como os diferentes fatores afetam as decisões judiciais."
   ]
  },
  {
   "cell_type": "markdown",
   "metadata": {},
   "source": [
    "\n",
    "| Idade (anos) | Condenações Anteriores | Gravidade do Crime | Tempo de Sentença (anos) |\n",
    "|--------------|------------------------|--------------------|--------------------------|\n",
    "| 20           | 0                      | 3                  | 2                        |\n",
    "| 25           | 1                      | 5                  | 3                        |\n",
    "| 30           | 2                      | 6                  | 4                        |\n",
    "| 35           | 0                      | 7                  | 5                        |\n",
    "| 40           | 3                      | 8                  | 6                        |\n",
    "| 45           | 1                      | 7                  | 6                        |\n",
    "| 50           | 2                      | 8                  | 7                        |\n",
    "| 30           | 1                      | 9                  | 8                        |\n",
    "| 35           | 0                      | 4                  | 3                        |\n",
    "| 25           | 0                      | 2                  | 1                        |\n",
    "| 45           | 3                      | 7                  | 7                        |\n",
    "| 50           | 4                      | 10                 | 10                       |\n",
    "| 40           | 2                      | 6                  | 6                        |\n",
    "| 30           | 0                      | 3                  | 2                        |\n",
    "| 35           | 1                      | 5                  | 4                        |\n",
    "| 30           | 3                      | 6                  | 5                        |\n",
    "| 40           | 0                      | 7                  | 6                        |\n",
    "| 35           | 2                      | 8                  | 7                        |\n",
    "| 45           | 1                      | 7                  | 6                        |\n",
    "| 50           | 2                      | 8                  | 7                        |"
   ]
  },
  {
   "cell_type": "markdown",
   "metadata": {},
   "source": [
    "## Considerações"
   ]
  },
  {
   "cell_type": "markdown",
   "metadata": {},
   "source": [
    "Algumas coisas que você deve saber antes de usar a regressão linear.\n",
    "\n",
    "1. **Relacionamento Linear:** O método da regressão linear pressupõe que há uma relação linear entre as variáveis independentes e a variável dependente. Se a verdadeira relação for não-linear, os resultados do modelo podem ser imprecisos. Uma observação importante é que o `sklearn` oferece uma maneira de trabalhar com alguns dados não lineares.\n",
    "\n",
    "2. **Independência das Observações:** A regressão linear pressupõe que todas as observações são independentes umas das outras. Na prática, isso nem sempre é verdadeiro. Por exemplo, em uma série temporal, as observações são frequentemente dependentes umas das outras.\n",
    "\n",
    "3. **Homocedasticidade:** A regressão linear pressupõe que a variância dos erros é constante em todos os níveis das variáveis independentes. Quando essa suposição é violada (por exemplo, se a variância dos erros aumentar com o valor da variável independente), temos a chamada heterocedasticidade, o que pode levar a estimativas de coeficientes imprecisas e p-valores enganosos.\n",
    "\n",
    "4. **Erros Normalmente Distribuídos:** A regressão linear pressupõe que os erros (a diferença entre os valores previstos e reais) estão normalmente distribuídos. Se os erros têm uma distribuição diferente, pode afetar a confiabilidade das estimativas do modelo.\n",
    "\n",
    "5. **Ausência de Multicolinearidade:** A regressão linear pressupõe que as variáveis independentes não estão perfeitamente correlacionadas entre si, uma condição conhecida como multicolinearidade. Quando essa suposição é violada, pode ser difícil determinar o efeito individual de cada variável independente sobre a variável dependente.\n",
    "\n",
    "6. **Relações de Causalidade:** Finalmente, embora a regressão linear possa identificar correlações entre variáveis, ela não pode, por si só, confirmar relações de causa e efeito. Por exemplo, mesmo que o modelo encontre uma relação forte entre a idade de um réu e a duração da sentença, isso não significa necessariamente que a idade cause diretamente uma sentença mais longa ou mais curta."
   ]
  },
  {
   "cell_type": "markdown",
   "metadata": {},
   "source": [
    "## O Algoritmo na Prática"
   ]
  },
  {
   "cell_type": "markdown",
   "metadata": {},
   "source": [
    "**Bibliotecas**"
   ]
  },
  {
   "cell_type": "code",
   "execution_count": 1,
   "metadata": {},
   "outputs": [],
   "source": [
    "import pandas as pd\n",
    "from sklearn.model_selection import train_test_split\n",
    "from sklearn.linear_model import LinearRegression\n",
    "from sklearn.metrics import mean_squared_error\n",
    "import numpy as np"
   ]
  },
  {
   "cell_type": "markdown",
   "metadata": {},
   "source": [
    "**Ingestão**"
   ]
  },
  {
   "cell_type": "code",
   "execution_count": 2,
   "metadata": {},
   "outputs": [],
   "source": [
    "# Simulando os dados\n",
    "data = {\n",
    "    \"Idade\": [20, 25, 30, 35, 40, 45, 50, 30, 35, 25, 45, 50, 40, 30, 35, 30, 40, 35, 45, 50],\n",
    "    \"Condenações_Anteriores\": [0, 1, 2, 0, 3, 1, 2, 1, 0, 0, 3, 4, 2, 0, 1, 3, 0, 2, 1, 2],\n",
    "    \"Gravidade_Crime\": [3, 5, 6, 7, 8, 7, 8, 9, 4, 2, 7, 10, 6, 3, 5, 6, 7, 8, 7, 8],\n",
    "    \"Tempo_Sentença\": [2, 3, 4, 5, 6, 6, 7, 8, 3, 1, 7, 10, 6, 2, 4, 5, 6, 7, 6, 7]\n",
    "}\n",
    "df = pd.DataFrame(data)"
   ]
  },
  {
   "cell_type": "markdown",
   "metadata": {},
   "source": [
    "**Preparação**"
   ]
  },
  {
   "cell_type": "code",
   "execution_count": 3,
   "metadata": {},
   "outputs": [],
   "source": [
    "# Dividindo os dados em conjuntos de treinamento e teste\n",
    "X = df[[\"Idade\", \"Condenações_Anteriores\", \"Gravidade_Crime\"]]\n",
    "y = df[\"Tempo_Sentença\"]\n",
    "\n",
    "# \n",
    "X_train, X_test, y_train, y_test = train_test_split(X, y, test_size=0.2, random_state=42)"
   ]
  },
  {
   "cell_type": "markdown",
   "metadata": {},
   "source": [
    "**Treinamento**"
   ]
  },
  {
   "cell_type": "code",
   "execution_count": 4,
   "metadata": {},
   "outputs": [
    {
     "data": {
      "text/html": [
       "<style>#sk-container-id-1 {color: black;}#sk-container-id-1 pre{padding: 0;}#sk-container-id-1 div.sk-toggleable {background-color: white;}#sk-container-id-1 label.sk-toggleable__label {cursor: pointer;display: block;width: 100%;margin-bottom: 0;padding: 0.3em;box-sizing: border-box;text-align: center;}#sk-container-id-1 label.sk-toggleable__label-arrow:before {content: \"▸\";float: left;margin-right: 0.25em;color: #696969;}#sk-container-id-1 label.sk-toggleable__label-arrow:hover:before {color: black;}#sk-container-id-1 div.sk-estimator:hover label.sk-toggleable__label-arrow:before {color: black;}#sk-container-id-1 div.sk-toggleable__content {max-height: 0;max-width: 0;overflow: hidden;text-align: left;background-color: #f0f8ff;}#sk-container-id-1 div.sk-toggleable__content pre {margin: 0.2em;color: black;border-radius: 0.25em;background-color: #f0f8ff;}#sk-container-id-1 input.sk-toggleable__control:checked~div.sk-toggleable__content {max-height: 200px;max-width: 100%;overflow: auto;}#sk-container-id-1 input.sk-toggleable__control:checked~label.sk-toggleable__label-arrow:before {content: \"▾\";}#sk-container-id-1 div.sk-estimator input.sk-toggleable__control:checked~label.sk-toggleable__label {background-color: #d4ebff;}#sk-container-id-1 div.sk-label input.sk-toggleable__control:checked~label.sk-toggleable__label {background-color: #d4ebff;}#sk-container-id-1 input.sk-hidden--visually {border: 0;clip: rect(1px 1px 1px 1px);clip: rect(1px, 1px, 1px, 1px);height: 1px;margin: -1px;overflow: hidden;padding: 0;position: absolute;width: 1px;}#sk-container-id-1 div.sk-estimator {font-family: monospace;background-color: #f0f8ff;border: 1px dotted black;border-radius: 0.25em;box-sizing: border-box;margin-bottom: 0.5em;}#sk-container-id-1 div.sk-estimator:hover {background-color: #d4ebff;}#sk-container-id-1 div.sk-parallel-item::after {content: \"\";width: 100%;border-bottom: 1px solid gray;flex-grow: 1;}#sk-container-id-1 div.sk-label:hover label.sk-toggleable__label {background-color: #d4ebff;}#sk-container-id-1 div.sk-serial::before {content: \"\";position: absolute;border-left: 1px solid gray;box-sizing: border-box;top: 0;bottom: 0;left: 50%;z-index: 0;}#sk-container-id-1 div.sk-serial {display: flex;flex-direction: column;align-items: center;background-color: white;padding-right: 0.2em;padding-left: 0.2em;position: relative;}#sk-container-id-1 div.sk-item {position: relative;z-index: 1;}#sk-container-id-1 div.sk-parallel {display: flex;align-items: stretch;justify-content: center;background-color: white;position: relative;}#sk-container-id-1 div.sk-item::before, #sk-container-id-1 div.sk-parallel-item::before {content: \"\";position: absolute;border-left: 1px solid gray;box-sizing: border-box;top: 0;bottom: 0;left: 50%;z-index: -1;}#sk-container-id-1 div.sk-parallel-item {display: flex;flex-direction: column;z-index: 1;position: relative;background-color: white;}#sk-container-id-1 div.sk-parallel-item:first-child::after {align-self: flex-end;width: 50%;}#sk-container-id-1 div.sk-parallel-item:last-child::after {align-self: flex-start;width: 50%;}#sk-container-id-1 div.sk-parallel-item:only-child::after {width: 0;}#sk-container-id-1 div.sk-dashed-wrapped {border: 1px dashed gray;margin: 0 0.4em 0.5em 0.4em;box-sizing: border-box;padding-bottom: 0.4em;background-color: white;}#sk-container-id-1 div.sk-label label {font-family: monospace;font-weight: bold;display: inline-block;line-height: 1.2em;}#sk-container-id-1 div.sk-label-container {text-align: center;}#sk-container-id-1 div.sk-container {/* jupyter's `normalize.less` sets `[hidden] { display: none; }` but bootstrap.min.css set `[hidden] { display: none !important; }` so we also need the `!important` here to be able to override the default hidden behavior on the sphinx rendered scikit-learn.org. See: https://github.com/scikit-learn/scikit-learn/issues/21755 */display: inline-block !important;position: relative;}#sk-container-id-1 div.sk-text-repr-fallback {display: none;}</style><div id=\"sk-container-id-1\" class=\"sk-top-container\"><div class=\"sk-text-repr-fallback\"><pre>LinearRegression()</pre><b>In a Jupyter environment, please rerun this cell to show the HTML representation or trust the notebook. <br />On GitHub, the HTML representation is unable to render, please try loading this page with nbviewer.org.</b></div><div class=\"sk-container\" hidden><div class=\"sk-item\"><div class=\"sk-estimator sk-toggleable\"><input class=\"sk-toggleable__control sk-hidden--visually\" id=\"sk-estimator-id-1\" type=\"checkbox\" checked><label for=\"sk-estimator-id-1\" class=\"sk-toggleable__label sk-toggleable__label-arrow\">LinearRegression</label><div class=\"sk-toggleable__content\"><pre>LinearRegression()</pre></div></div></div></div></div>"
      ],
      "text/plain": [
       "LinearRegression()"
      ]
     },
     "execution_count": 4,
     "metadata": {},
     "output_type": "execute_result"
    }
   ],
   "source": [
    "# Criando o modelo de regressão linear\n",
    "model = LinearRegression()\n",
    "model.fit(X_train, y_train)"
   ]
  },
  {
   "cell_type": "code",
   "execution_count": 5,
   "metadata": {},
   "outputs": [
    {
     "name": "stdout",
     "output_type": "stream",
     "text": [
      "Estes são os coeficientes angulares do modelo [0.03994931 0.16292336 0.86577554]\n",
      "Este é o intercepto (viés) do modelo -1.9120805485634955\n"
     ]
    }
   ],
   "source": [
    "print(f\"Estes são os coeficientes angulares do modelo {model.coef_}\")\n",
    "print(f\"Este é o intercepto (viés) do modelo {model.intercept_}\")"
   ]
  },
  {
   "cell_type": "markdown",
   "metadata": {},
   "source": [
    "**Testes**"
   ]
  },
  {
   "cell_type": "code",
   "execution_count": 6,
   "metadata": {},
   "outputs": [
    {
     "name": "stdout",
     "output_type": "stream",
     "text": [
      "RMSE: 0.40929096881868005\n"
     ]
    }
   ],
   "source": [
    "# Fazendo previsões\n",
    "y_pred = model.predict(X_test)\n",
    "\n",
    "# Calculando o RMSE\n",
    "rmse = np.sqrt(mean_squared_error(y_test, y_pred))\n",
    "\n",
    "print(f\"RMSE: {rmse}\")\n"
   ]
  },
  {
   "cell_type": "code",
   "execution_count": 12,
   "metadata": {},
   "outputs": [
    {
     "name": "stderr",
     "output_type": "stream",
     "text": [
      "/home/jeff/.local/lib/python3.10/site-packages/sklearn/base.py:464: UserWarning: X does not have valid feature names, but LinearRegression was fitted with feature names\n",
      "  warnings.warn(\n"
     ]
    },
    {
     "data": {
      "text/plain": [
       "2"
      ]
     },
     "execution_count": 12,
     "metadata": {},
     "output_type": "execute_result"
    }
   ],
   "source": [
    "# Isso é uma função\n",
    "def predict(model, idade, cond_anteriores, gravidade_crime):\n",
    "    previsao = model.predict([[idade, cond_anteriores, gravidade_crime]])\n",
    "    return round(previsao[0]) \n",
    "\n",
    "idade = 40\n",
    "cond_anteriores = 10\n",
    "gravidade_crime = 1\n",
    "predict(model, idade, cond_anteriores, gravidade_crime)"
   ]
  }
 ],
 "metadata": {
  "kernelspec": {
   "display_name": "Python 3",
   "language": "python",
   "name": "python3"
  },
  "language_info": {
   "codemirror_mode": {
    "name": "ipython",
    "version": 3
   },
   "file_extension": ".py",
   "mimetype": "text/x-python",
   "name": "python",
   "nbconvert_exporter": "python",
   "pygments_lexer": "ipython3",
   "version": "3.10.12"
  }
 },
 "nbformat": 4,
 "nbformat_minor": 4
}

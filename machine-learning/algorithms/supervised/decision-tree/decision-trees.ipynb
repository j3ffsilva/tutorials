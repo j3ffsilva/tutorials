{
 "cells": [
  {
   "cell_type": "markdown",
   "metadata": {},
   "source": [
    "# Árvores de Decisão"
   ]
  },
  {
   "cell_type": "markdown",
   "metadata": {},
   "source": [
    "Uma árvore de decisão é basicamente um modelo que usa uma estrutura de árvore para representar uma série de possíveis caminhos de decisão e seus possíveis resultados. Cada nó na árvore representa um atributo ou característica dos dados, e cada ramo representa uma regra de decisão. A ideia é criar uma árvore que consiga capturar os padrões nos dados de forma que as decisões tomadas em cada nó levem a uma boa previsão ou classificação."
   ]
  },
  {
   "cell_type": "markdown",
   "metadata": {},
   "source": [
    "**EXEMPLO**"
   ]
  },
  {
   "cell_type": "markdown",
   "metadata": {},
   "source": [
    "Considere um dataset fictício para a previsão de aprovação de empréstimos bancários. Os bancos costumam analisar uma série de características pessoais e financeiras antes de decidir se aprovam ou rejeitam um pedido de empréstimo. A variável-alvo é \"Aprovação do Empréstimo\" (sim, não)."
   ]
  },
  {
   "cell_type": "markdown",
   "metadata": {},
   "source": [
    "| Idade | Emprego   | Renda Anual | Histórico de Crédito | Valor do Empréstimo Solicitado | Prazo do Empréstimo | Propriedade de Casa | Dívida Existente | Estado Civil | Aprovação do Empréstimo |\n",
    "|-------|-----------|-------------|----------------------|--------------------------------|---------------------|---------------------|------------------|--------------|------------------------|\n",
    "| 30    | empregado | 50000       | bom                  | 10000                          | 5                   | sim                 | 2000             | casado       | sim                    |\n",
    "| 45    | autônomo  | 80000       | médio                | 15000                          | 10                  | não                 | 5000             | solteiro     | sim                    |\n",
    "| 35    | desempregado | 20000     | ruim                 | 5000                           | 2                   | não                 | 1000             | divorciado   | não                    |\n",
    "| 50    | empregado | 120000      | bom                  | 20000                          | 7                   | sim                 | 8000             | casado       | sim                    |\n",
    "| 25    | empregado | 30000       | bom                  | 7000                           | 3                   | não                 | 0                | solteiro     | sim                    |\n",
    "| 40    | autônomo  | 60000       | médio                | 8000                           | 2                   | não                 | 3000             | casado       | não                    |\n",
    "| 55    | empregado | 150000      | bom                  | 50000                          | 15                  | sim                 | 10000            | divorciado   | sim                    |\n",
    "| 60    | empregado | 70000       | ruim                 | 20000                          | 10                  | não                 | 15000            | casado       | não                    |\n",
    "| 33    | desempregado | 25000     | médio                | 3000                           | 1                   | sim                 | 0                | solteiro     | não                    |\n",
    "| 28    | empregado | 40000       | bom                  | 6000                           | 2                   | não                 | 1000             | solteiro     | sim                    |\n",
    "| 47    | autônomo  | 90000       | ruim                 | 10000                          | 3                   | sim                 | 7000             | casado       | não                    |\n",
    "| 52    | empregado | 110000      | bom                  | 15000                          | 5                   | não                 | 6000             | divorciado   | sim                    |\n",
    "| 26    | empregado | 35000       | médio                | 5000                           | 1                   | sim                 | 500              | solteiro     | sim                    |\n",
    "| 43    | desempregado | 30000     | ruim                 | 7000                           | 3                   | não                 | 4000             | casado       | não                    |\n",
    "| 58    | empregado | 130000      | bom                  | 30000                          | 10                  | sim                 | 9000             | divorciado   | sim                    |\n",
    "| 31    | empregado | 55000       | médio                | 8000                           | 2                   | sim                 | 2000             | solteiro     | sim                    |\n",
    "| 48    | autônomo  | 85000       | ruim                 | 12000                          | 4                   | não                 | 5000             | casado       | não                    |\n",
    "| 37    | empregado | 65000       | bom                  | 10000                          | 3                   | sim                 | 3000             | divorciado   | sim                    |\n",
    "| 29    | desempregado | 30000     | médio                | 4000                           | 1                   | não                 | 1000             | solteiro     | não                    |\n",
    "| 54    | empregado | 140000      | bom                  | 25000                          | 7                   | sim                 | 8000             | casado       | sim                    |"
   ]
  },
  {
   "cell_type": "markdown",
   "metadata": {},
   "source": [
    "## Considerações"
   ]
  },
  {
   "cell_type": "markdown",
   "metadata": {},
   "source": [
    "Coisas que você deve saber sobre as árvores de decisão.\n",
    "\n",
    "1. **Overfitting**: As árvores de decisão podem facilmente se ajustar demais aos dados de treinamento. Isso acontece quando a árvore é tão profunda que acaba capturando muito bem o ruído nos dados, em vez de capturar apenas os padrões verdadeiros. Isso significa que o modelo terá um desempenho ruim ao generalizar para novos dados.\n",
    "\n",
    "2. **Instabilidade**: Pequenas alterações nos dados podem resultar em árvores de decisão completamente diferentes. Isso é particularmente verdadeiro com conjuntos de dados que têm muitas características e/ou muitos pontos de divisão possíveis.\n",
    "\n",
    "3. **Problemas com dados desbalanceados**: As árvores de decisão podem ter dificuldade em lidar com dados desbalanceados. Se uma classe tem muito mais exemplos que outra, a árvore de decisão pode se tornar enviesada na direção da classe dominante.\n",
    "\n",
    "4. **Dificuldade com variáveis contínuas e não-lineares**: As árvores de decisão cortam variáveis contínuas em diferentes pontos, o que pode não representar bem a verdadeira natureza dessas variáveis. Da mesma forma, as árvores de decisão podem ter dificuldade em modelar relações complexas e não lineares entre as características.\n",
    "\n",
    "5. **São modelos de viés alto e variância baixa**: As árvores de decisão tendem a fazer suposições fortes sobre a estrutura dos dados (por exemplo, que os dados podem ser divididos em subconjuntos com base em regras de decisão simples). Isso pode levar a um viés alto (o modelo não se ajusta bem aos dados de treinamento) e uma variância baixa (o modelo não muda muito com diferentes conjuntos de dados de treinamento)."
   ]
  },
  {
   "cell_type": "markdown",
   "metadata": {},
   "source": [
    "## O Algoritmo na Prática"
   ]
  },
  {
   "cell_type": "markdown",
   "metadata": {},
   "source": [
    "**Bibliotecas**"
   ]
  },
  {
   "cell_type": "code",
   "execution_count": 1,
   "metadata": {},
   "outputs": [],
   "source": [
    "import pandas as pd\n",
    "from sklearn.model_selection import train_test_split\n",
    "from sklearn.preprocessing import LabelEncoder\n",
    "from sklearn.tree import DecisionTreeClassifier"
   ]
  },
  {
   "cell_type": "markdown",
   "metadata": {},
   "source": [
    "**Ingestão**"
   ]
  },
  {
   "cell_type": "code",
   "execution_count": 3,
   "metadata": {},
   "outputs": [
    {
     "data": {
      "text/html": [
       "<div>\n",
       "<style scoped>\n",
       "    .dataframe tbody tr th:only-of-type {\n",
       "        vertical-align: middle;\n",
       "    }\n",
       "\n",
       "    .dataframe tbody tr th {\n",
       "        vertical-align: top;\n",
       "    }\n",
       "\n",
       "    .dataframe thead th {\n",
       "        text-align: right;\n",
       "    }\n",
       "</style>\n",
       "<table border=\"1\" class=\"dataframe\">\n",
       "  <thead>\n",
       "    <tr style=\"text-align: right;\">\n",
       "      <th></th>\n",
       "      <th>Idade</th>\n",
       "      <th>Emprego</th>\n",
       "      <th>Renda Anual</th>\n",
       "      <th>Histórico de Crédito</th>\n",
       "      <th>Valor do Empréstimo Solicitado</th>\n",
       "      <th>Prazo do Empréstimo</th>\n",
       "      <th>Propriedade de Casa</th>\n",
       "      <th>Dívida Existente</th>\n",
       "      <th>Estado Civil</th>\n",
       "      <th>Aprovação do Empréstimo</th>\n",
       "    </tr>\n",
       "  </thead>\n",
       "  <tbody>\n",
       "    <tr>\n",
       "      <th>0</th>\n",
       "      <td>30</td>\n",
       "      <td>empregado</td>\n",
       "      <td>50000</td>\n",
       "      <td>bom</td>\n",
       "      <td>10000</td>\n",
       "      <td>5</td>\n",
       "      <td>sim</td>\n",
       "      <td>2000</td>\n",
       "      <td>casado</td>\n",
       "      <td>sim</td>\n",
       "    </tr>\n",
       "    <tr>\n",
       "      <th>1</th>\n",
       "      <td>45</td>\n",
       "      <td>autônomo</td>\n",
       "      <td>80000</td>\n",
       "      <td>médio</td>\n",
       "      <td>15000</td>\n",
       "      <td>10</td>\n",
       "      <td>não</td>\n",
       "      <td>5000</td>\n",
       "      <td>solteiro</td>\n",
       "      <td>sim</td>\n",
       "    </tr>\n",
       "    <tr>\n",
       "      <th>2</th>\n",
       "      <td>35</td>\n",
       "      <td>desempregado</td>\n",
       "      <td>20000</td>\n",
       "      <td>ruim</td>\n",
       "      <td>5000</td>\n",
       "      <td>2</td>\n",
       "      <td>não</td>\n",
       "      <td>1000</td>\n",
       "      <td>divorciado</td>\n",
       "      <td>não</td>\n",
       "    </tr>\n",
       "    <tr>\n",
       "      <th>3</th>\n",
       "      <td>50</td>\n",
       "      <td>empregado</td>\n",
       "      <td>120000</td>\n",
       "      <td>bom</td>\n",
       "      <td>20000</td>\n",
       "      <td>7</td>\n",
       "      <td>sim</td>\n",
       "      <td>8000</td>\n",
       "      <td>casado</td>\n",
       "      <td>sim</td>\n",
       "    </tr>\n",
       "    <tr>\n",
       "      <th>4</th>\n",
       "      <td>25</td>\n",
       "      <td>empregado</td>\n",
       "      <td>30000</td>\n",
       "      <td>bom</td>\n",
       "      <td>7000</td>\n",
       "      <td>3</td>\n",
       "      <td>não</td>\n",
       "      <td>0</td>\n",
       "      <td>solteiro</td>\n",
       "      <td>sim</td>\n",
       "    </tr>\n",
       "  </tbody>\n",
       "</table>\n",
       "</div>"
      ],
      "text/plain": [
       "   Idade       Emprego  Renda Anual Histórico de Crédito  \\\n",
       "0     30     empregado        50000                  bom   \n",
       "1     45      autônomo        80000                médio   \n",
       "2     35  desempregado        20000                 ruim   \n",
       "3     50     empregado       120000                  bom   \n",
       "4     25     empregado        30000                  bom   \n",
       "\n",
       "   Valor do Empréstimo Solicitado  Prazo do Empréstimo Propriedade de Casa  \\\n",
       "0                           10000                    5                 sim   \n",
       "1                           15000                   10                 não   \n",
       "2                            5000                    2                 não   \n",
       "3                           20000                    7                 sim   \n",
       "4                            7000                    3                 não   \n",
       "\n",
       "   Dívida Existente Estado Civil Aprovação do Empréstimo  \n",
       "0              2000       casado                     sim  \n",
       "1              5000     solteiro                     sim  \n",
       "2              1000   divorciado                     não  \n",
       "3              8000       casado                     sim  \n",
       "4                 0     solteiro                     sim  "
      ]
     },
     "execution_count": 3,
     "metadata": {},
     "output_type": "execute_result"
    }
   ],
   "source": [
    "data = {\n",
    "    'Idade': [30, 45, 35, 50, 25, 40, 55, 60, 33, 28, 47, 52, 26, 43, 58, 31, 48, 37, 29, 54],\n",
    "    'Emprego': ['empregado', 'autônomo', 'desempregado', 'empregado', 'empregado', 'autônomo', 'empregado', 'empregado', 'desempregado', 'empregado', 'autônomo', 'empregado', 'empregado', 'desempregado', 'empregado', 'empregado', 'autônomo', 'empregado', 'desempregado', 'empregado'],\n",
    "    'Renda Anual': [50000, 80000, 20000, 120000, 30000, 60000, 150000, 70000, 25000, 40000, 90000, 110000, 35000, 30000, 130000, 55000, 85000, 65000, 30000, 140000],\n",
    "    'Histórico de Crédito': ['bom', 'médio', 'ruim', 'bom', 'bom', 'médio', 'bom', 'ruim', 'médio', 'bom', 'ruim', 'bom', 'médio', 'ruim', 'bom', 'médio', 'ruim', 'bom', 'médio', 'bom'],\n",
    "    'Valor do Empréstimo Solicitado': [10000, 15000, 5000, 20000, 7000, 8000, 50000, 20000, 3000, 6000, 10000, 15000, 5000, 7000, 30000, 8000, 12000, 10000, 4000, 25000],\n",
    "    'Prazo do Empréstimo': [5, 10, 2, 7, 3, 2, 15, 10, 1, 2, 3, 5, 1, 3, 10, 2, 4, 3, 1, 7],\n",
    "    'Propriedade de Casa': ['sim', 'não', 'não', 'sim', 'não', 'não', 'sim', 'não', 'sim', 'não', 'sim', 'não', 'sim', 'não', 'sim', 'sim', 'não', 'sim', 'não', 'sim'],\n",
    "    'Dívida Existente': [2000, 5000, 1000, 8000, 0, 3000, 10000, 15000, 0, 1000, 7000, 6000, 500, 4000, 9000, 2000, 5000, 3000, 1000, 8000],\n",
    "    'Estado Civil': ['casado', 'solteiro', 'divorciado', 'casado', 'solteiro', 'casado', 'divorciado', 'casado', 'solteiro', 'solteiro', 'casado', 'divorciado', 'solteiro', 'casado', 'divorciado', 'solteiro', 'casado', 'divorciado', 'solteiro', 'casado'],\n",
    "    'Aprovação do Empréstimo': ['sim', 'sim', 'não', 'sim', 'sim', 'não', 'sim', 'não', 'não', 'sim', 'não', 'sim', 'sim', 'não', 'sim', 'sim', 'não', 'sim', 'não', 'sim']\n",
    "}\n",
    "\n",
    "df = pd.DataFrame(data)\n",
    "df.head(5)"
   ]
  },
  {
   "cell_type": "code",
   "execution_count": 4,
   "metadata": {},
   "outputs": [
    {
     "data": {
      "text/plain": [
       "array([2, 0, 1, 2, 2, 0, 2, 2, 1, 2, 0, 2, 2, 1, 2, 2, 0, 2, 1, 2])"
      ]
     },
     "execution_count": 4,
     "metadata": {},
     "output_type": "execute_result"
    }
   ],
   "source": [
    "# Codificar as variáveis categóricas\n",
    "le = LabelEncoder()\n",
    "\n",
    "le.fit_transform(df['Emprego'])"
   ]
  },
  {
   "cell_type": "markdown",
   "metadata": {},
   "source": [
    "**Preparação**"
   ]
  },
  {
   "cell_type": "code",
   "execution_count": 11,
   "metadata": {},
   "outputs": [],
   "source": [
    "# Codificar as variáveis categóricas\n",
    "le = LabelEncoder()\n",
    "\n",
    "df['Emprego'] = le.fit_transform(df['Emprego'])\n",
    "df['Histórico de Crédito'] = le.fit_transform(df['Histórico de Crédito'])\n",
    "df['Propriedade de Casa'] = le.fit_transform(df['Propriedade de Casa'])\n",
    "df['Estado Civil'] = le.fit_transform(df['Estado Civil'])\n",
    "df['Aprovação do Empréstimo'] = le.fit_transform(df['Aprovação do Empréstimo'])\n",
    "\n",
    "# Separar as variáveis independentes (X) da variável dependente (y)\n",
    "X = df.drop('Aprovação do Empréstimo', axis=1)\n",
    "y = df['Aprovação do Empréstimo']\n",
    "\n",
    "# Dividir os dados em conjuntos de treinamento e teste\n",
    "X_train, X_test, y_train, y_test = train_test_split(X, y, test_size=0.2, random_state=42)\n"
   ]
  },
  {
   "cell_type": "markdown",
   "metadata": {},
   "source": [
    "**Treinamento**"
   ]
  },
  {
   "cell_type": "code",
   "execution_count": 12,
   "metadata": {},
   "outputs": [
    {
     "data": {
      "text/html": [
       "<style>#sk-container-id-1 {color: black;}#sk-container-id-1 pre{padding: 0;}#sk-container-id-1 div.sk-toggleable {background-color: white;}#sk-container-id-1 label.sk-toggleable__label {cursor: pointer;display: block;width: 100%;margin-bottom: 0;padding: 0.3em;box-sizing: border-box;text-align: center;}#sk-container-id-1 label.sk-toggleable__label-arrow:before {content: \"▸\";float: left;margin-right: 0.25em;color: #696969;}#sk-container-id-1 label.sk-toggleable__label-arrow:hover:before {color: black;}#sk-container-id-1 div.sk-estimator:hover label.sk-toggleable__label-arrow:before {color: black;}#sk-container-id-1 div.sk-toggleable__content {max-height: 0;max-width: 0;overflow: hidden;text-align: left;background-color: #f0f8ff;}#sk-container-id-1 div.sk-toggleable__content pre {margin: 0.2em;color: black;border-radius: 0.25em;background-color: #f0f8ff;}#sk-container-id-1 input.sk-toggleable__control:checked~div.sk-toggleable__content {max-height: 200px;max-width: 100%;overflow: auto;}#sk-container-id-1 input.sk-toggleable__control:checked~label.sk-toggleable__label-arrow:before {content: \"▾\";}#sk-container-id-1 div.sk-estimator input.sk-toggleable__control:checked~label.sk-toggleable__label {background-color: #d4ebff;}#sk-container-id-1 div.sk-label input.sk-toggleable__control:checked~label.sk-toggleable__label {background-color: #d4ebff;}#sk-container-id-1 input.sk-hidden--visually {border: 0;clip: rect(1px 1px 1px 1px);clip: rect(1px, 1px, 1px, 1px);height: 1px;margin: -1px;overflow: hidden;padding: 0;position: absolute;width: 1px;}#sk-container-id-1 div.sk-estimator {font-family: monospace;background-color: #f0f8ff;border: 1px dotted black;border-radius: 0.25em;box-sizing: border-box;margin-bottom: 0.5em;}#sk-container-id-1 div.sk-estimator:hover {background-color: #d4ebff;}#sk-container-id-1 div.sk-parallel-item::after {content: \"\";width: 100%;border-bottom: 1px solid gray;flex-grow: 1;}#sk-container-id-1 div.sk-label:hover label.sk-toggleable__label {background-color: #d4ebff;}#sk-container-id-1 div.sk-serial::before {content: \"\";position: absolute;border-left: 1px solid gray;box-sizing: border-box;top: 0;bottom: 0;left: 50%;z-index: 0;}#sk-container-id-1 div.sk-serial {display: flex;flex-direction: column;align-items: center;background-color: white;padding-right: 0.2em;padding-left: 0.2em;position: relative;}#sk-container-id-1 div.sk-item {position: relative;z-index: 1;}#sk-container-id-1 div.sk-parallel {display: flex;align-items: stretch;justify-content: center;background-color: white;position: relative;}#sk-container-id-1 div.sk-item::before, #sk-container-id-1 div.sk-parallel-item::before {content: \"\";position: absolute;border-left: 1px solid gray;box-sizing: border-box;top: 0;bottom: 0;left: 50%;z-index: -1;}#sk-container-id-1 div.sk-parallel-item {display: flex;flex-direction: column;z-index: 1;position: relative;background-color: white;}#sk-container-id-1 div.sk-parallel-item:first-child::after {align-self: flex-end;width: 50%;}#sk-container-id-1 div.sk-parallel-item:last-child::after {align-self: flex-start;width: 50%;}#sk-container-id-1 div.sk-parallel-item:only-child::after {width: 0;}#sk-container-id-1 div.sk-dashed-wrapped {border: 1px dashed gray;margin: 0 0.4em 0.5em 0.4em;box-sizing: border-box;padding-bottom: 0.4em;background-color: white;}#sk-container-id-1 div.sk-label label {font-family: monospace;font-weight: bold;display: inline-block;line-height: 1.2em;}#sk-container-id-1 div.sk-label-container {text-align: center;}#sk-container-id-1 div.sk-container {/* jupyter's `normalize.less` sets `[hidden] { display: none; }` but bootstrap.min.css set `[hidden] { display: none !important; }` so we also need the `!important` here to be able to override the default hidden behavior on the sphinx rendered scikit-learn.org. See: https://github.com/scikit-learn/scikit-learn/issues/21755 */display: inline-block !important;position: relative;}#sk-container-id-1 div.sk-text-repr-fallback {display: none;}</style><div id=\"sk-container-id-1\" class=\"sk-top-container\"><div class=\"sk-text-repr-fallback\"><pre>DecisionTreeClassifier(max_depth=3, random_state=42)</pre><b>In a Jupyter environment, please rerun this cell to show the HTML representation or trust the notebook. <br />On GitHub, the HTML representation is unable to render, please try loading this page with nbviewer.org.</b></div><div class=\"sk-container\" hidden><div class=\"sk-item\"><div class=\"sk-estimator sk-toggleable\"><input class=\"sk-toggleable__control sk-hidden--visually\" id=\"sk-estimator-id-1\" type=\"checkbox\" checked><label for=\"sk-estimator-id-1\" class=\"sk-toggleable__label sk-toggleable__label-arrow\">DecisionTreeClassifier</label><div class=\"sk-toggleable__content\"><pre>DecisionTreeClassifier(max_depth=3, random_state=42)</pre></div></div></div></div></div>"
      ],
      "text/plain": [
       "DecisionTreeClassifier(max_depth=3, random_state=42)"
      ]
     },
     "execution_count": 12,
     "metadata": {},
     "output_type": "execute_result"
    }
   ],
   "source": [
    "# Treinar o modelo de árvore de decisão\n",
    "\n",
    "clf = DecisionTreeClassifier(max_depth=3, random_state=42)\n",
    "clf.fit(X_train, y_train)"
   ]
  },
  {
   "cell_type": "markdown",
   "metadata": {},
   "source": [
    "**Testes**"
   ]
  },
  {
   "cell_type": "code",
   "execution_count": 13,
   "metadata": {},
   "outputs": [
    {
     "name": "stdout",
     "output_type": "stream",
     "text": [
      "Acurácia no conjunto de treinamento:  1.0\n",
      "Acurácia no conjunto de teste:  0.75\n"
     ]
    }
   ],
   "source": [
    "# Avaliar o modelo\n",
    "print(\"Acurácia no conjunto de treinamento: \", clf.score(X_train, y_train))\n",
    "print(\"Acurácia no conjunto de teste: \", clf.score(X_test, y_test))"
   ]
  }
 ],
 "metadata": {
  "kernelspec": {
   "display_name": "base",
   "language": "python",
   "name": "python3"
  },
  "language_info": {
   "codemirror_mode": {
    "name": "ipython",
    "version": 3
   },
   "file_extension": ".py",
   "mimetype": "text/x-python",
   "name": "python",
   "nbconvert_exporter": "python",
   "pygments_lexer": "ipython3",
   "version": "3.10.12"
  },
  "orig_nbformat": 4
 },
 "nbformat": 4,
 "nbformat_minor": 2
}

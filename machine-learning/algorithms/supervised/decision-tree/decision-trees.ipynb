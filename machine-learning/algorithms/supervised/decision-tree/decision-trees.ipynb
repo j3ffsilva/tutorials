{
 "cells": [
  {
   "cell_type": "markdown",
   "metadata": {},
   "source": [
    "# Árvores de Decisão"
   ]
  },
  {
   "cell_type": "markdown",
   "metadata": {},
   "source": [
    "Uma árvore de decisão é basicamente um modelo que usa uma estrutura de árvore para representar uma série de possíveis caminhos de decisão e seus possíveis resultados. Cada nó na árvore representa um atributo ou característica dos dados, e cada ramo representa uma regra de decisão. A ideia é criar uma árvore que consiga capturar os padrões nos dados de forma que as decisões tomadas em cada nó levem a uma boa previsão ou classificação."
   ]
  },
  {
   "cell_type": "markdown",
   "metadata": {},
   "source": [
    "**EXEMPLO**"
   ]
  },
  {
   "cell_type": "markdown",
   "metadata": {},
   "source": [
    "Considere um dataset fictício para a previsão de aprovação de empréstimos bancários. Os bancos costumam analisar uma série de características pessoais e financeiras antes de decidir se aprovam ou rejeitam um pedido de empréstimo. A variável-alvo é \"Aprovação do Empréstimo\" (sim, não)."
   ]
  },
  {
   "cell_type": "markdown",
   "metadata": {},
   "source": [
    "| Idade | Emprego   | Renda Anual | Histórico de Crédito | Valor do Empréstimo Solicitado | Prazo do Empréstimo | Propriedade de Casa | Dívida Existente | Estado Civil | Aprovação do Empréstimo |\n",
    "|-------|-----------|-------------|----------------------|--------------------------------|---------------------|---------------------|------------------|--------------|------------------------|\n",
    "| 30    | empregado | 50000       | bom                  | 10000                          | 5                   | sim                 | 2000             | casado       | sim                    |\n",
    "| 45    | autônomo  | 80000       | médio                | 15000                          | 10                  | não                 | 5000             | solteiro     | sim                    |\n",
    "| 35    | desempregado | 20000     | ruim                 | 5000                           | 2                   | não                 | 1000             | divorciado   | não                    |\n",
    "| 50    | empregado | 120000      | bom                  | 20000                          | 7                   | sim                 | 8000             | casado       | sim                    |\n",
    "| 25    | empregado | 30000       | bom                  | 7000                           | 3                   | não                 | 0                | solteiro     | sim                    |\n",
    "| 40    | autônomo  | 60000       | médio                | 8000                           | 2                   | não                 | 3000             | casado       | não                    |\n",
    "| 55    | empregado | 150000      | bom                  | 50000                          | 15                  | sim                 | 10000            | divorciado   | sim                    |\n",
    "| 60    | empregado | 70000       | ruim                 | 20000                          | 10                  | não                 | 15000            | casado       | não                    |\n",
    "| 33    | desempregado | 25000     | médio                | 3000                           | 1                   | sim                 | 0                | solteiro     | não                    |\n",
    "| 28    | empregado | 40000       | bom                  | 6000                           | 2                   | não                 | 1000             | solteiro     | sim                    |\n",
    "| 47    | autônomo  | 90000       | ruim                 | 10000                          | 3                   | sim                 | 7000             | casado       | não                    |\n",
    "| 52    | empregado | 110000      | bom                  | 15000                          | 5                   | não                 | 6000             | divorciado   | sim                    |\n",
    "| 26    | empregado | 35000       | médio                | 5000                           | 1                   | sim                 | 500              | solteiro     | sim                    |\n",
    "| 43    | desempregado | 30000     | ruim                 | 7000                           | 3                   | não                 | 4000             | casado       | não                    |\n",
    "| 58    | empregado | 130000      | bom                  | 30000                          | 10                  | sim                 | 9000             | divorciado   | sim                    |\n",
    "| 31    | empregado | 55000       | médio                | 8000                           | 2                   | sim                 | 2000             | solteiro     | sim                    |\n",
    "| 48    | autônomo  | 85000       | ruim                 | 12000                          | 4                   | não                 | 5000             | casado       | não                    |\n",
    "| 37    | empregado | 65000       | bom                  | 10000                          | 3                   | sim                 | 3000             | divorciado   | sim                    |\n",
    "| 29    | desempregado | 30000     | médio                | 4000                           | 1                   | não                 | 1000             | solteiro     | não                    |\n",
    "| 54    | empregado | 140000      | bom                  | 25000                          | 7                   | sim                 | 8000             | casado       | sim                    |"
   ]
  },
  {
   "cell_type": "markdown",
   "metadata": {},
   "source": [
    "## Considerações"
   ]
  },
  {
   "cell_type": "markdown",
   "metadata": {},
   "source": [
    "Coisas que você deve saber sobre as árvores de decisão.\n",
    "\n",
    "1. **Overfitting**: As árvores de decisão podem facilmente se ajustar demais aos dados de treinamento. Isso acontece quando a árvore é tão profunda que acaba capturando muito bem o ruído nos dados, em vez de capturar apenas os padrões verdadeiros. Isso significa que o modelo terá um desempenho ruim ao generalizar para novos dados.\n",
    "\n",
    "2. **Instabilidade**: Pequenas alterações nos dados podem resultar em árvores de decisão completamente diferentes. Isso é particularmente verdadeiro com conjuntos de dados que têm muitas características e/ou muitos pontos de divisão possíveis.\n",
    "\n",
    "3. **Problemas com dados desbalanceados**: As árvores de decisão podem ter dificuldade em lidar com dados desbalanceados. Se uma classe tem muito mais exemplos que outra, a árvore de decisão pode se tornar enviesada na direção da classe dominante.\n",
    "\n",
    "4. **Dificuldade com variáveis contínuas e não-lineares**: As árvores de decisão cortam variáveis contínuas em diferentes pontos, o que pode não representar bem a verdadeira natureza dessas variáveis. Da mesma forma, as árvores de decisão podem ter dificuldade em modelar relações complexas e não lineares entre as características.\n",
    "\n",
    "5. **São modelos de viés alto e variância baixa**: As árvores de decisão tendem a fazer suposições fortes sobre a estrutura dos dados (por exemplo, que os dados podem ser divididos em subconjuntos com base em regras de decisão simples). Isso pode levar a um viés alto (o modelo não se ajusta bem aos dados de treinamento) e uma variância baixa (o modelo não muda muito com diferentes conjuntos de dados de treinamento)."
   ]
  },
  {
   "cell_type": "markdown",
   "metadata": {},
   "source": [
    "## O Algoritmo na Prática"
   ]
  },
  {
   "cell_type": "markdown",
   "metadata": {},
   "source": [
    "**Bibliotecas**"
   ]
  },
  {
   "cell_type": "code",
   "execution_count": 2,
   "metadata": {},
   "outputs": [],
   "source": [
    "import pandas as pd\n",
    "from sklearn.model_selection import train_test_split\n",
    "from sklearn.preprocessing import LabelEncoder\n",
    "from sklearn.tree import DecisionTreeClassifier"
   ]
  },
  {
   "cell_type": "markdown",
   "metadata": {},
   "source": [
    "**Ingestão**"
   ]
  },
  {
   "cell_type": "code",
   "execution_count": 3,
   "metadata": {},
   "outputs": [],
   "source": [
    "data = {\n",
    "    'Idade': [30, 45, 35, 50, 25, 40, 55, 60, 33, 28, 47, 52, 26, 43, 58, 31, 48, 37, 29, 54],\n",
    "    'Emprego': ['empregado', 'autônomo', 'desempregado', 'empregado', 'empregado', 'autônomo', 'empregado', 'empregado', 'desempregado', 'empregado', 'autônomo', 'empregado', 'empregado', 'desempregado', 'empregado', 'empregado', 'autônomo', 'empregado', 'desempregado', 'empregado'],\n",
    "    'Renda Anual': [50000, 80000, 20000, 120000, 30000, 60000, 150000, 70000, 25000, 40000, 90000, 110000, 35000, 30000, 130000, 55000, 85000, 65000, 30000, 140000],\n",
    "    'Histórico de Crédito': ['bom', 'médio', 'ruim', 'bom', 'bom', 'médio', 'bom', 'ruim', 'médio', 'bom', 'ruim', 'bom', 'médio', 'ruim', 'bom', 'médio', 'ruim', 'bom', 'médio', 'bom'],\n",
    "    'Valor do Empréstimo Solicitado': [10000, 15000, 5000, 20000, 7000, 8000, 50000, 20000, 3000, 6000, 10000, 15000, 5000, 7000, 30000, 8000, 12000, 10000, 4000, 25000],\n",
    "    'Prazo do Empréstimo': [5, 10, 2, 7, 3, 2, 15, 10, 1, 2, 3, 5, 1, 3, 10, 2, 4, 3, 1, 7],\n",
    "    'Propriedade de Casa': ['sim', 'não', 'não', 'sim', 'não', 'não', 'sim', 'não', 'sim', 'não', 'sim', 'não', 'sim', 'não', 'sim', 'sim', 'não', 'sim', 'não', 'sim'],\n",
    "    'Dívida Existente': [2000, 5000, 1000, 8000, 0, 3000, 10000, 15000, 0, 1000, 7000, 6000, 500, 4000, 9000, 2000, 5000, 3000, 1000, 8000],\n",
    "    'Estado Civil': ['casado', 'solteiro', 'divorciado', 'casado', 'solteiro', 'casado', 'divorciado', 'casado', 'solteiro', 'solteiro', 'casado', 'divorciado', 'solteiro', 'casado', 'divorciado', 'solteiro', 'casado', 'divorciado', 'solteiro', 'casado'],\n",
    "    'Aprovação do Empréstimo': ['sim', 'sim', 'não', 'sim', 'sim', 'não', 'sim', 'não', 'não', 'sim', 'não', 'sim', 'sim', 'não', 'sim', 'sim', 'não', 'sim', 'não', 'sim']\n",
    "}\n",
    "\n",
    "df = pd.DataFrame(data)"
   ]
  },
  {
   "cell_type": "markdown",
   "metadata": {},
   "source": [
    "**Preparação**"
   ]
  },
  {
   "cell_type": "code",
   "execution_count": 4,
   "metadata": {},
   "outputs": [],
   "source": [
    "# Codificar as variáveis categóricas\n",
    "le = LabelEncoder()\n",
    "\n",
    "df['Emprego'] = le.fit_transform(df['Emprego'])\n",
    "df['Histórico de Crédito'] = le.fit_transform(df['Histórico de Crédito'])\n",
    "df['Propriedade de Casa'] = le.fit_transform(df['Propriedade de Casa'])\n",
    "df['Estado Civil'] = le.fit_transform(df['Estado Civil'])\n",
    "df['Aprovação do Empréstimo'] = le.fit_transform(df['Aprovação do Empréstimo'])\n",
    "\n",
    "# Separar as variáveis independentes (X) da variável dependente (y)\n",
    "X = df.drop('Aprovação do Empréstimo', axis=1)\n",
    "y = df['Aprovação do Empréstimo']\n",
    "\n",
    "# Dividir os dados em conjuntos de treinamento e teste\n",
    "X_train, X_test, y_train, y_test = train_test_split(X, y, test_size=0.2, random_state=42)\n"
   ]
  },
  {
   "cell_type": "markdown",
   "metadata": {},
   "source": [
    "**Treinamento**"
   ]
  },
  {
   "cell_type": "code",
   "execution_count": 5,
   "metadata": {},
   "outputs": [
    {
     "data": {
      "text/plain": [
       "DecisionTreeClassifier(max_depth=3, random_state=42)"
      ]
     },
     "execution_count": 5,
     "metadata": {},
     "output_type": "execute_result"
    }
   ],
   "source": [
    "# Treinar o modelo de árvore de decisão\n",
    "\n",
    "clf = DecisionTreeClassifier(max_depth=3, random_state=42)\n",
    "clf.fit(X_train, y_train)"
   ]
  },
  {
   "cell_type": "markdown",
   "metadata": {},
   "source": [
    "**Testes**"
   ]
  },
  {
   "cell_type": "code",
   "execution_count": 6,
   "metadata": {},
   "outputs": [
    {
     "name": "stdout",
     "output_type": "stream",
     "text": [
      "Acurácia no conjunto de treinamento:  1.0\n",
      "Acurácia no conjunto de teste:  0.75\n"
     ]
    }
   ],
   "source": [
    "# Avaliar o modelo\n",
    "print(\"Acurácia no conjunto de treinamento: \", clf.score(X_train, y_train))\n",
    "print(\"Acurácia no conjunto de teste: \", clf.score(X_test, y_test))"
   ]
  }
 ],
 "metadata": {
  "kernelspec": {
   "display_name": "base",
   "language": "python",
   "name": "python3"
  },
  "language_info": {
   "codemirror_mode": {
    "name": "ipython",
    "version": 3
   },
   "file_extension": ".py",
   "mimetype": "text/x-python",
   "name": "python",
   "nbconvert_exporter": "python",
   "pygments_lexer": "ipython3",
   "version": "3.8.12"
  },
  "orig_nbformat": 4
 },
 "nbformat": 4,
 "nbformat_minor": 2
}

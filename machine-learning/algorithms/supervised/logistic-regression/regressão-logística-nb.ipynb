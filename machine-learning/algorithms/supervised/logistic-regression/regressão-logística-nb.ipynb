{
 "cells": [
  {
   "cell_type": "markdown",
   "metadata": {},
   "source": [
    "# Regressão Logística"
   ]
  },
  {
   "cell_type": "markdown",
   "metadata": {},
   "source": [
    "A regressão logística é um tipo de modelo estatístico utilizado para a análise e previsão de variáveis categóricas binárias, ou seja, variáveis que possuem apenas dois possíveis valores de resultado, como \"sim\" ou \"não\", \"verdadeiro\" ou \"falso\", \"aprovado\" ou \"reprovado\", entre outros.\n",
    "\n",
    "A regressão logística é adequada para previsões em que a variável dependente é categórica. Essa técnica é especialmente útil em tarefas de classificação binária, onde o objetivo é atribuir uma das duas categorias possíveis a uma observação com base em um conjunto de características (variáveis independentes).\n",
    "\n",
    "A regressão logística utiliza a função logística (também conhecida como função sigmoide) para transformar uma combinação linear das variáveis independentes em uma probabilidade de ocorrência de uma das categorias. A função logística é definida como:\n",
    "\n",
    "$$\n",
    "P(Y = 1) = \\frac{1}{1 + e^{-z}}\n",
    "$$\n",
    "\n",
    "Onde:\n",
    "- \\( P(Y = 1) \\) é a probabilidade de ocorrência da categoria 1 (por exemplo, \"sim\" ou \"verdadeiro\").\n",
    "- \\( z \\) é uma combinação linear das variáveis independentes ponderadas pelos coeficientes do modelo.\n",
    "\n",
    "Durante o treinamento do modelo de regressão logística, os coeficientes são ajustados de forma que a probabilidade predita esteja o mais próxima possível dos valores reais das observações no conjunto de treinamento. O método mais comum de ajuste é a maximização da função de verossimilhança."
   ]
  },
  {
   "cell_type": "markdown",
   "metadata": {},
   "source": [
    "**EXEMPLO**"
   ]
  },
  {
   "cell_type": "markdown",
   "metadata": {},
   "source": [
    "Suponha que uma equipe de pesquisa médica esteja estudando o risco de desenvolvimento de doença cardíaca em uma população de pacientes com base em algumas variáveis clínicas. No seu dataset, cada linha representa um paciente e suas características (idade, IMC, colesterol, histórico familiar e hábito de fumar), bem como o risco atribuído a esse paciente (1 para alto risco e 0 para baixo risco). Você necessita prever se um paciente tem alto risco (categoria 1) ou baixo risco (categoria 0) de desenvolver doença cardíaca."
   ]
  },
  {
   "cell_type": "markdown",
   "metadata": {},
   "source": [
    "\n",
    "| Idade | IMC  | Colesterol | Histórico Familiar | Hábito de Fumar | Risco (Alto=1/Baixo=0) |\n",
    "|-------|------|------------|-------------------|-----------------|----------------------|\n",
    "| 45    | 25.5 | 220        | 1                 | 1               | 1                    |\n",
    "| 50    | 27.8 | 190        | 0                 | 1               | 1                    |\n",
    "| 60    | 22.1 | 180        | 1                 | 0               | 0                    |\n",
    "| 55    | 26.5 | 250        | 1                 | 1               | 1                    |\n",
    "| 48    | 23.9 | 195        | 0                 | 0               | 0                    |\n",
    "| 62    | 29.3 | 230        | 1                 | 0               | 1                    |\n",
    "| 52    | 21.5 | 205        | 0                 | 1               | 0                    |\n",
    "| 42    | 28.7 | 240        | 1                 | 1               | 1                    |\n",
    "| 58    | 26.1 | 180        | 1                 | 0               | 0                    |\n",
    "| 39    | 24.8 | 200        | 0                 | 0               | 0                    |\n",
    "| 55    | 31.2 | 280        | 1                 | 1               | 1                    |\n",
    "| 48    | 22.9 | 210        | 0                 | 1               | 0                    |\n",
    "| 64    | 27.4 | 195        | 1                 | 0               | 1                    |\n",
    "| 57    | 25.2 | 230        | 1                 | 0               | 1                    |\n",
    "| 41    | 26.8 | 190        | 0                 | 0               | 0                    |\n",
    "| 47    | 24.6 | 220        | 1                 | 1               | 1                    |\n",
    "| 60    | 29.8 | 240        | 1                 | 0               | 1                    |\n",
    "| 54    | 23.5 | 185        | 0                 | 0               | 0                    |\n",
    "| 44    | 27.9 | 200        | 0                 | 1               | 0                    |\n",
    "| 59    | 30.1 | 255        | 1                 | 1               | 1                    |\n",
    "\n"
   ]
  },
  {
   "cell_type": "markdown",
   "metadata": {},
   "source": [
    "## Considerações"
   ]
  },
  {
   "cell_type": "markdown",
   "metadata": {},
   "source": [
    "A regressão logística possui limitações:\n",
    "\n",
    "1. **Linearidade das características preditoras**: A regressão logística pressupõe que a relação entre as características independentes (x) e a variável dependente (logit(p)) é linear. Isso pode limitar sua capacidade de modelar dados complexos, onde as relações podem ser não lineares.\n",
    "\n",
    "2. **Requer grandes conjuntos de dados**: A regressão logística pode ter um desempenho insatisfatório com pequenos conjuntos de dados ou conjuntos de dados com poucos eventos de interesse.\n",
    "\n",
    "3. **Não resolve problemas de multicolinearidade**: A multicolinearidade ocorre quando duas ou mais características independentes são altamente correlacionadas entre si. Isso pode tornar os coeficientes de regressão instáveis e sua interpretação difícil.\n",
    "\n",
    "4. **Limitada a problemas de classificação binária**: Embora a regressão logística possa ser estendida para lidar com problemas de classificação multiclasse (através de técnicas como \"one-versus-all\" ou \"one-versus-one\"), ela é fundamentalmente projetada para lidar com problemas de classificação binária.\n",
    "\n",
    "5. **Pressupõe a independência das observações**: A regressão logística pressupõe que as observações no conjunto de dados são independentes umas das outras. Isso pode não ser verdade em muitas situações do mundo real, como estudos de séries temporais ou estudos espaciais, onde as observações podem ser dependentes.\n",
    "\n",
    "6. **Incapaz de lidar com valores faltantes**: A regressão logística não pode lidar diretamente com valores faltantes nos dados. Isso requer etapas de pré-processamento para tratar esses valores ausentes, seja por meio da imputação de dados ou removendo as observações com valores faltantes.\n",
    "\n",
    "7. **Limitada a prever a probabilidade de um evento**: A regressão logística é usada para prever a probabilidade de um evento ocorrer. Portanto, ela não pode ser usada para prever a magnitude de um resultado; ela é limitada a prever se o evento ocorrerá ou não.\n"
   ]
  },
  {
   "cell_type": "markdown",
   "metadata": {},
   "source": [
    "## O Algoritmo na Prática"
   ]
  },
  {
   "cell_type": "markdown",
   "metadata": {},
   "source": [
    "**Bibliotecas**"
   ]
  },
  {
   "cell_type": "code",
   "execution_count": 1,
   "metadata": {},
   "outputs": [],
   "source": [
    "import pandas as pd\n",
    "from sklearn.model_selection import train_test_split\n",
    "from sklearn.linear_model import LogisticRegression\n",
    "from sklearn.metrics import accuracy_score"
   ]
  },
  {
   "cell_type": "markdown",
   "metadata": {},
   "source": [
    "**Ingestão**"
   ]
  },
  {
   "cell_type": "code",
   "execution_count": 2,
   "metadata": {},
   "outputs": [],
   "source": [
    "# Dados da tabela\n",
    "dados = {\n",
    "    'Idade': [45, 50, 60, 55, 48, 62, 52, 42, 58, 39, 55, 48, 64, 57, 41, 47, 60, 54, 44, 59],\n",
    "    'IMC': [25.5, 27.8, 22.1, 26.5, 23.9, 29.3, 21.5, 28.7, 26.1, 24.8, 31.2, 22.9, 27.4, 25.2, 26.8, 24.6, 29.8, 23.5, 27.9, 30.1],\n",
    "    'Colesterol': [220, 190, 180, 250, 195, 230, 205, 240, 180, 200, 280, 210, 195, 230, 190, 220, 240, 185, 200, 255],\n",
    "    'Histórico Familiar': [1, 0, 1, 1, 0, 1, 0, 1, 1, 0, 1, 0, 1, 1, 0, 1, 1, 0, 0, 1],\n",
    "    'Hábito de Fumar': [1, 1, 0, 1, 0, 0, 1, 1, 0, 0, 1, 1, 0, 0, 0, 1, 0, 0, 1, 1],\n",
    "    'Risco (Alto=1/Baixo=0)': [1, 1, 0, 1, 0, 1, 0, 1, 0, 0, 1, 0, 1, 1, 0, 1, 1, 0, 0, 1]\n",
    "}\n",
    "\n",
    "# Criar DataFrame\n",
    "df = pd.DataFrame(dados)"
   ]
  },
  {
   "cell_type": "markdown",
   "metadata": {},
   "source": [
    "**Preparação**"
   ]
  },
  {
   "cell_type": "code",
   "execution_count": 4,
   "metadata": {},
   "outputs": [],
   "source": [
    "# Definir as variáveis independentes e dependentes\n",
    "X = df[['Idade', 'IMC', 'Colesterol', 'Histórico Familiar', 'Hábito de Fumar']]\n",
    "y = df['Risco (Alto=1/Baixo=0)']\n",
    "\n",
    "# Dividir os dados em conjuntos de treinamento e teste\n",
    "X_train, X_test, y_train, y_test = train_test_split(X, y, test_size=0.2, random_state=42)"
   ]
  },
  {
   "cell_type": "markdown",
   "metadata": {},
   "source": [
    "**Treinamento**"
   ]
  },
  {
   "cell_type": "code",
   "execution_count": 5,
   "metadata": {},
   "outputs": [
    {
     "data": {
      "text/plain": [
       "LogisticRegression()"
      ]
     },
     "execution_count": 5,
     "metadata": {},
     "output_type": "execute_result"
    }
   ],
   "source": [
    "# Criar e treinar o modelo de regressão logística\n",
    "modelo = LogisticRegression()\n",
    "modelo.fit(X_train, y_train)"
   ]
  },
  {
   "cell_type": "markdown",
   "metadata": {},
   "source": [
    "**Avaliação**"
   ]
  },
  {
   "cell_type": "code",
   "execution_count": 6,
   "metadata": {},
   "outputs": [
    {
     "name": "stdout",
     "output_type": "stream",
     "text": [
      "Precisão do modelo: 0.25\n"
     ]
    }
   ],
   "source": [
    "# Fazer previsões no conjunto de teste\n",
    "y_pred = modelo.predict(X_test)\n",
    "\n",
    "# Avalia a precisão do modelo\n",
    "precisao = accuracy_score(y_test, y_pred)\n",
    "print(f'Precisão do modelo: {precisao}')"
   ]
  }
 ],
 "metadata": {
  "kernelspec": {
   "display_name": "Python 3",
   "language": "python",
   "name": "python3"
  },
  "language_info": {
   "codemirror_mode": {
    "name": "ipython",
    "version": 3
   },
   "file_extension": ".py",
   "mimetype": "text/x-python",
   "name": "python",
   "nbconvert_exporter": "python",
   "pygments_lexer": "ipython3",
   "version": "3.8.12"
  }
 },
 "nbformat": 4,
 "nbformat_minor": 4
}

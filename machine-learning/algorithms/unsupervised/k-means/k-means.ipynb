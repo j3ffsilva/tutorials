{
 "cells": [
  {
   "cell_type": "markdown",
   "metadata": {},
   "source": [
    "# K-Means"
   ]
  },
  {
   "cell_type": "markdown",
   "metadata": {},
   "source": [
    "O K-Means é um algoritmo de aprendizado de máquina não supervisionado que é usado para resolver problemas de agrupamento. O objetivo do K-Means é dividir n observações em k agrupamentos, em que cada observação pertence ao cluster com a média mais próxima."
   ]
  },
  {
   "cell_type": "markdown",
   "metadata": {},
   "source": [
    "**EXEMPLO**"
   ]
  },
  {
   "cell_type": "markdown",
   "metadata": {},
   "source": [
    "Vamos supor que você queria agrupar os carros em categorias semelhantes. Imagine que você tenha um dataset que descreve diferentes características de carros, incluindo \"Horsepower\" (Cavalos de potência), \"MPG\" (Milhas por Galão), e \"Weight\" (Peso)."
   ]
  },
  {
   "cell_type": "markdown",
   "metadata": {},
   "source": [
    "| Carro                     | Horsepower | MPG  | Weight |\n",
    "| ------------------------- | ---------- | ---- | ------ |\n",
    "| Ford Mustang              | 110        | 21.0 | 2670   |\n",
    "| Honda Civic               | 85         | 30.0 | 2020   |\n",
    "| Chevrolet Malibu          | 100        | 25.0 | 2280   |\n",
    "| Dodge Charger             | 105        | 20.0 | 2500   |\n",
    "| Toyota Corolla            | 75         | 35.0 | 1750   |\n",
    "| Nissan Altima             | 95         | 27.0 | 2100   |\n",
    "| Chevrolet Camaro          | 130        | 22.0 | 2750   |\n",
    "| Hyundai Elantra           | 70         | 33.0 | 1850   |\n",
    "| BMW 3 Series              | 120        | 24.0 | 2600   |\n",
    "| Toyota Prius              | 80         | 29.0 | 2000   |\n",
    "| Ford Taurus               | 125        | 21.5 | 2700   |\n",
    "| Honda Accord              | 90         | 28.0 | 2200   |\n",
    "| Chevrolet Impala          | 110        | 20.5 | 2670   |\n",
    "| Dodge Dart                | 85         | 30.5 | 2020   |\n",
    "| Nissan Sentra             | 100        | 25.5 | 2280   |\n",
    "| Ford Fusion               | 105        | 20.2 | 2500   |\n",
    "| Hyundai Sonata            | 75         | 35.5 | 1750   |\n",
    "| Toyota Camry              | 95         | 27.2 | 2100   |\n",
    "| Chevrolet Traverse        | 130        | 22.3 | 2750   |\n",
    "| Honda Fit                 | 70         | 33.5 | 1850   |"
   ]
  },
  {
   "cell_type": "markdown",
   "metadata": {},
   "source": [
    "## Considerações"
   ]
  },
  {
   "cell_type": "markdown",
   "metadata": {},
   "source": [
    "A seguir algumas considerações que você deve saber.\n",
    "\n",
    "1. **Número de Clusters (K):** Uma das maiores limitações do K-means é que você precisa especificar o número de clusters (K) no início. Na prática, o número ideal de clusters é muitas vezes desconhecido.\n",
    "\n",
    "2. **Sensibilidade à Inicialização:** O K-means é muito sensível à inicialização. Se os centróides iniciais são escolhidos de forma inadequada, o algoritmo pode convergir para um mínimo local, o que significa que o algoritmo não alcança a solução ótima.\n",
    "\n",
    "3. **Forma dos Clusters:** O algoritmo K-means assume que os clusters são esféricos e isotrópicos. Isso significa que o K-means pode produzir resultados insatisfatórios se os clusters tiverem formas complexas ou alongadas.\n",
    "\n",
    "4. **Sensibilidade a Outliers:** O K-means é sensível a outliers. Um único outlier pode mover significativamente o centróide de um cluster, o que pode resultar em um agrupamento subóptimo.\n",
    "\n",
    "5. **Tamanho dos Clusters:** O K-means assume que os clusters têm aproximadamente o mesmo tamanho, por isso não funciona bem com clusters de tamanhos muito diferentes.\n",
    "\n",
    "6. **Variáveis Categóricas:** O K-means não é diretamente aplicável a variáveis categóricas, pois usa a distância euclidiana como medida de similaridade. Outros métodos, como o K-modes, são mais adequados para variáveis categóricas."
   ]
  },
  {
   "cell_type": "markdown",
   "metadata": {},
   "source": [
    "## O Algoritmo na Prática"
   ]
  },
  {
   "cell_type": "markdown",
   "metadata": {},
   "source": [
    "**Bibliotecas**"
   ]
  },
  {
   "cell_type": "code",
   "execution_count": 6,
   "metadata": {},
   "outputs": [],
   "source": [
    "import pandas as pd\n",
    "from sklearn.cluster import KMeans\n",
    "from sklearn.preprocessing import StandardScaler\n",
    "import plotly.express as px"
   ]
  },
  {
   "cell_type": "markdown",
   "metadata": {},
   "source": [
    "**Ingestão**"
   ]
  },
  {
   "cell_type": "code",
   "execution_count": 7,
   "metadata": {},
   "outputs": [],
   "source": [
    "data = {\n",
    "    'Carro': ['Ford Mustang', 'Honda Civic', 'Chevrolet Malibu', 'Dodge Charger', 'Toyota Corolla', 'Nissan Altima', 'Chevrolet Camaro', 'Hyundai Elantra', 'BMW 3 Series', 'Toyota Prius', 'Ford Taurus', 'Honda Accord', 'Chevrolet Impala', 'Dodge Dart', 'Nissan Sentra', 'Ford Fusion', 'Hyundai Sonata', 'Toyota Camry', 'Chevrolet Traverse', 'Honda Fit'],\n",
    "    'Horsepower': [110, 85, 100, 105, 75, 95, 130, 70, 120, 80, 125, 90, 110, 85, 100, 105, 75, 95, 130, 70],\n",
    "    'MPG': [21.0, 30.0, 25.0, 20.0, 35.0, 27.0, 22.0, 33.0, 24.0, 29.0, 21.5, 28.0, 20.5, 30.5, 25.5, 20.2, 35.5, 27.2, 22.3, 33.5],\n",
    "    'Weight': [2670, 2020, 2280, 2500, 1750, 2100, 2750, 1850, 2600, 2000, 2700, 2200, 2670, 2020, 2280, 2500, 1750, 2100, 2750, 1850]\n",
    "}\n",
    "df = pd.DataFrame(data)"
   ]
  },
  {
   "cell_type": "markdown",
   "metadata": {},
   "source": [
    "**Preparação**"
   ]
  },
  {
   "cell_type": "code",
   "execution_count": 8,
   "metadata": {},
   "outputs": [],
   "source": [
    "# Normalização dos dados\n",
    "scaler = StandardScaler()\n",
    "df[['Horsepower', 'MPG', 'Weight']] = scaler.fit_transform(df[['Horsepower', 'MPG', 'Weight']])"
   ]
  },
  {
   "cell_type": "markdown",
   "metadata": {},
   "source": [
    "**Exploração**"
   ]
  },
  {
   "cell_type": "markdown",
   "metadata": {},
   "source": [
    "Para escolher o número ideal do $k$ podemos utilizar o método do cotovelo. O método do cotovelo é uma técnica bem utilizada para determinar o número ideal de clusters em um dataset para o algoritmo K-means. O nome \"método do cotovelo\" vem da forma do gráfico que é gerado durante o processo, que muitas vezes se parece com um braço dobrado no cotovelo."
   ]
  },
  {
   "cell_type": "code",
   "execution_count": 10,
   "metadata": {},
   "outputs": [
    {
     "data": {
      "application/vnd.plotly.v1+json": {
       "config": {
        "plotlyServerURL": "https://plot.ly"
       },
       "data": [
        {
         "hovertemplate": "Número de clusters (k)=%{x}<br>Inércia=%{y}<extra></extra>",
         "legendgroup": "",
         "line": {
          "color": "#636efa",
          "dash": "solid"
         },
         "mode": "lines",
         "name": "",
         "orientation": "v",
         "showlegend": false,
         "type": "scatter",
         "x": [
          1,
          2,
          3,
          4,
          5,
          6,
          7,
          8,
          9
         ],
         "xaxis": "x",
         "y": [
          60,
          15.185288688053976,
          6.687662554897549,
          4.132549248824263,
          1.9538529722003295,
          1.360095945295553,
          0.9700825643992133,
          0.6345033582795025,
          0.3184597019443619
         ],
         "yaxis": "y"
        }
       ],
       "layout": {
        "legend": {
         "tracegroupgap": 0
        },
        "template": {
         "data": {
          "bar": [
           {
            "error_x": {
             "color": "#2a3f5f"
            },
            "error_y": {
             "color": "#2a3f5f"
            },
            "marker": {
             "line": {
              "color": "#E5ECF6",
              "width": 0.5
             }
            },
            "type": "bar"
           }
          ],
          "barpolar": [
           {
            "marker": {
             "line": {
              "color": "#E5ECF6",
              "width": 0.5
             }
            },
            "type": "barpolar"
           }
          ],
          "carpet": [
           {
            "aaxis": {
             "endlinecolor": "#2a3f5f",
             "gridcolor": "white",
             "linecolor": "white",
             "minorgridcolor": "white",
             "startlinecolor": "#2a3f5f"
            },
            "baxis": {
             "endlinecolor": "#2a3f5f",
             "gridcolor": "white",
             "linecolor": "white",
             "minorgridcolor": "white",
             "startlinecolor": "#2a3f5f"
            },
            "type": "carpet"
           }
          ],
          "choropleth": [
           {
            "colorbar": {
             "outlinewidth": 0,
             "ticks": ""
            },
            "type": "choropleth"
           }
          ],
          "contour": [
           {
            "colorbar": {
             "outlinewidth": 0,
             "ticks": ""
            },
            "colorscale": [
             [
              0,
              "#0d0887"
             ],
             [
              0.1111111111111111,
              "#46039f"
             ],
             [
              0.2222222222222222,
              "#7201a8"
             ],
             [
              0.3333333333333333,
              "#9c179e"
             ],
             [
              0.4444444444444444,
              "#bd3786"
             ],
             [
              0.5555555555555556,
              "#d8576b"
             ],
             [
              0.6666666666666666,
              "#ed7953"
             ],
             [
              0.7777777777777778,
              "#fb9f3a"
             ],
             [
              0.8888888888888888,
              "#fdca26"
             ],
             [
              1,
              "#f0f921"
             ]
            ],
            "type": "contour"
           }
          ],
          "contourcarpet": [
           {
            "colorbar": {
             "outlinewidth": 0,
             "ticks": ""
            },
            "type": "contourcarpet"
           }
          ],
          "heatmap": [
           {
            "colorbar": {
             "outlinewidth": 0,
             "ticks": ""
            },
            "colorscale": [
             [
              0,
              "#0d0887"
             ],
             [
              0.1111111111111111,
              "#46039f"
             ],
             [
              0.2222222222222222,
              "#7201a8"
             ],
             [
              0.3333333333333333,
              "#9c179e"
             ],
             [
              0.4444444444444444,
              "#bd3786"
             ],
             [
              0.5555555555555556,
              "#d8576b"
             ],
             [
              0.6666666666666666,
              "#ed7953"
             ],
             [
              0.7777777777777778,
              "#fb9f3a"
             ],
             [
              0.8888888888888888,
              "#fdca26"
             ],
             [
              1,
              "#f0f921"
             ]
            ],
            "type": "heatmap"
           }
          ],
          "heatmapgl": [
           {
            "colorbar": {
             "outlinewidth": 0,
             "ticks": ""
            },
            "colorscale": [
             [
              0,
              "#0d0887"
             ],
             [
              0.1111111111111111,
              "#46039f"
             ],
             [
              0.2222222222222222,
              "#7201a8"
             ],
             [
              0.3333333333333333,
              "#9c179e"
             ],
             [
              0.4444444444444444,
              "#bd3786"
             ],
             [
              0.5555555555555556,
              "#d8576b"
             ],
             [
              0.6666666666666666,
              "#ed7953"
             ],
             [
              0.7777777777777778,
              "#fb9f3a"
             ],
             [
              0.8888888888888888,
              "#fdca26"
             ],
             [
              1,
              "#f0f921"
             ]
            ],
            "type": "heatmapgl"
           }
          ],
          "histogram": [
           {
            "marker": {
             "colorbar": {
              "outlinewidth": 0,
              "ticks": ""
             }
            },
            "type": "histogram"
           }
          ],
          "histogram2d": [
           {
            "colorbar": {
             "outlinewidth": 0,
             "ticks": ""
            },
            "colorscale": [
             [
              0,
              "#0d0887"
             ],
             [
              0.1111111111111111,
              "#46039f"
             ],
             [
              0.2222222222222222,
              "#7201a8"
             ],
             [
              0.3333333333333333,
              "#9c179e"
             ],
             [
              0.4444444444444444,
              "#bd3786"
             ],
             [
              0.5555555555555556,
              "#d8576b"
             ],
             [
              0.6666666666666666,
              "#ed7953"
             ],
             [
              0.7777777777777778,
              "#fb9f3a"
             ],
             [
              0.8888888888888888,
              "#fdca26"
             ],
             [
              1,
              "#f0f921"
             ]
            ],
            "type": "histogram2d"
           }
          ],
          "histogram2dcontour": [
           {
            "colorbar": {
             "outlinewidth": 0,
             "ticks": ""
            },
            "colorscale": [
             [
              0,
              "#0d0887"
             ],
             [
              0.1111111111111111,
              "#46039f"
             ],
             [
              0.2222222222222222,
              "#7201a8"
             ],
             [
              0.3333333333333333,
              "#9c179e"
             ],
             [
              0.4444444444444444,
              "#bd3786"
             ],
             [
              0.5555555555555556,
              "#d8576b"
             ],
             [
              0.6666666666666666,
              "#ed7953"
             ],
             [
              0.7777777777777778,
              "#fb9f3a"
             ],
             [
              0.8888888888888888,
              "#fdca26"
             ],
             [
              1,
              "#f0f921"
             ]
            ],
            "type": "histogram2dcontour"
           }
          ],
          "mesh3d": [
           {
            "colorbar": {
             "outlinewidth": 0,
             "ticks": ""
            },
            "type": "mesh3d"
           }
          ],
          "parcoords": [
           {
            "line": {
             "colorbar": {
              "outlinewidth": 0,
              "ticks": ""
             }
            },
            "type": "parcoords"
           }
          ],
          "pie": [
           {
            "automargin": true,
            "type": "pie"
           }
          ],
          "scatter": [
           {
            "marker": {
             "colorbar": {
              "outlinewidth": 0,
              "ticks": ""
             }
            },
            "type": "scatter"
           }
          ],
          "scatter3d": [
           {
            "line": {
             "colorbar": {
              "outlinewidth": 0,
              "ticks": ""
             }
            },
            "marker": {
             "colorbar": {
              "outlinewidth": 0,
              "ticks": ""
             }
            },
            "type": "scatter3d"
           }
          ],
          "scattercarpet": [
           {
            "marker": {
             "colorbar": {
              "outlinewidth": 0,
              "ticks": ""
             }
            },
            "type": "scattercarpet"
           }
          ],
          "scattergeo": [
           {
            "marker": {
             "colorbar": {
              "outlinewidth": 0,
              "ticks": ""
             }
            },
            "type": "scattergeo"
           }
          ],
          "scattergl": [
           {
            "marker": {
             "colorbar": {
              "outlinewidth": 0,
              "ticks": ""
             }
            },
            "type": "scattergl"
           }
          ],
          "scattermapbox": [
           {
            "marker": {
             "colorbar": {
              "outlinewidth": 0,
              "ticks": ""
             }
            },
            "type": "scattermapbox"
           }
          ],
          "scatterpolar": [
           {
            "marker": {
             "colorbar": {
              "outlinewidth": 0,
              "ticks": ""
             }
            },
            "type": "scatterpolar"
           }
          ],
          "scatterpolargl": [
           {
            "marker": {
             "colorbar": {
              "outlinewidth": 0,
              "ticks": ""
             }
            },
            "type": "scatterpolargl"
           }
          ],
          "scatterternary": [
           {
            "marker": {
             "colorbar": {
              "outlinewidth": 0,
              "ticks": ""
             }
            },
            "type": "scatterternary"
           }
          ],
          "surface": [
           {
            "colorbar": {
             "outlinewidth": 0,
             "ticks": ""
            },
            "colorscale": [
             [
              0,
              "#0d0887"
             ],
             [
              0.1111111111111111,
              "#46039f"
             ],
             [
              0.2222222222222222,
              "#7201a8"
             ],
             [
              0.3333333333333333,
              "#9c179e"
             ],
             [
              0.4444444444444444,
              "#bd3786"
             ],
             [
              0.5555555555555556,
              "#d8576b"
             ],
             [
              0.6666666666666666,
              "#ed7953"
             ],
             [
              0.7777777777777778,
              "#fb9f3a"
             ],
             [
              0.8888888888888888,
              "#fdca26"
             ],
             [
              1,
              "#f0f921"
             ]
            ],
            "type": "surface"
           }
          ],
          "table": [
           {
            "cells": {
             "fill": {
              "color": "#EBF0F8"
             },
             "line": {
              "color": "white"
             }
            },
            "header": {
             "fill": {
              "color": "#C8D4E3"
             },
             "line": {
              "color": "white"
             }
            },
            "type": "table"
           }
          ]
         },
         "layout": {
          "annotationdefaults": {
           "arrowcolor": "#2a3f5f",
           "arrowhead": 0,
           "arrowwidth": 1
          },
          "autotypenumbers": "strict",
          "coloraxis": {
           "colorbar": {
            "outlinewidth": 0,
            "ticks": ""
           }
          },
          "colorscale": {
           "diverging": [
            [
             0,
             "#8e0152"
            ],
            [
             0.1,
             "#c51b7d"
            ],
            [
             0.2,
             "#de77ae"
            ],
            [
             0.3,
             "#f1b6da"
            ],
            [
             0.4,
             "#fde0ef"
            ],
            [
             0.5,
             "#f7f7f7"
            ],
            [
             0.6,
             "#e6f5d0"
            ],
            [
             0.7,
             "#b8e186"
            ],
            [
             0.8,
             "#7fbc41"
            ],
            [
             0.9,
             "#4d9221"
            ],
            [
             1,
             "#276419"
            ]
           ],
           "sequential": [
            [
             0,
             "#0d0887"
            ],
            [
             0.1111111111111111,
             "#46039f"
            ],
            [
             0.2222222222222222,
             "#7201a8"
            ],
            [
             0.3333333333333333,
             "#9c179e"
            ],
            [
             0.4444444444444444,
             "#bd3786"
            ],
            [
             0.5555555555555556,
             "#d8576b"
            ],
            [
             0.6666666666666666,
             "#ed7953"
            ],
            [
             0.7777777777777778,
             "#fb9f3a"
            ],
            [
             0.8888888888888888,
             "#fdca26"
            ],
            [
             1,
             "#f0f921"
            ]
           ],
           "sequentialminus": [
            [
             0,
             "#0d0887"
            ],
            [
             0.1111111111111111,
             "#46039f"
            ],
            [
             0.2222222222222222,
             "#7201a8"
            ],
            [
             0.3333333333333333,
             "#9c179e"
            ],
            [
             0.4444444444444444,
             "#bd3786"
            ],
            [
             0.5555555555555556,
             "#d8576b"
            ],
            [
             0.6666666666666666,
             "#ed7953"
            ],
            [
             0.7777777777777778,
             "#fb9f3a"
            ],
            [
             0.8888888888888888,
             "#fdca26"
            ],
            [
             1,
             "#f0f921"
            ]
           ]
          },
          "colorway": [
           "#636efa",
           "#EF553B",
           "#00cc96",
           "#ab63fa",
           "#FFA15A",
           "#19d3f3",
           "#FF6692",
           "#B6E880",
           "#FF97FF",
           "#FECB52"
          ],
          "font": {
           "color": "#2a3f5f"
          },
          "geo": {
           "bgcolor": "white",
           "lakecolor": "white",
           "landcolor": "#E5ECF6",
           "showlakes": true,
           "showland": true,
           "subunitcolor": "white"
          },
          "hoverlabel": {
           "align": "left"
          },
          "hovermode": "closest",
          "mapbox": {
           "style": "light"
          },
          "paper_bgcolor": "white",
          "plot_bgcolor": "#E5ECF6",
          "polar": {
           "angularaxis": {
            "gridcolor": "white",
            "linecolor": "white",
            "ticks": ""
           },
           "bgcolor": "#E5ECF6",
           "radialaxis": {
            "gridcolor": "white",
            "linecolor": "white",
            "ticks": ""
           }
          },
          "scene": {
           "xaxis": {
            "backgroundcolor": "#E5ECF6",
            "gridcolor": "white",
            "gridwidth": 2,
            "linecolor": "white",
            "showbackground": true,
            "ticks": "",
            "zerolinecolor": "white"
           },
           "yaxis": {
            "backgroundcolor": "#E5ECF6",
            "gridcolor": "white",
            "gridwidth": 2,
            "linecolor": "white",
            "showbackground": true,
            "ticks": "",
            "zerolinecolor": "white"
           },
           "zaxis": {
            "backgroundcolor": "#E5ECF6",
            "gridcolor": "white",
            "gridwidth": 2,
            "linecolor": "white",
            "showbackground": true,
            "ticks": "",
            "zerolinecolor": "white"
           }
          },
          "shapedefaults": {
           "line": {
            "color": "#2a3f5f"
           }
          },
          "ternary": {
           "aaxis": {
            "gridcolor": "white",
            "linecolor": "white",
            "ticks": ""
           },
           "baxis": {
            "gridcolor": "white",
            "linecolor": "white",
            "ticks": ""
           },
           "bgcolor": "#E5ECF6",
           "caxis": {
            "gridcolor": "white",
            "linecolor": "white",
            "ticks": ""
           }
          },
          "title": {
           "x": 0.05
          },
          "xaxis": {
           "automargin": true,
           "gridcolor": "white",
           "linecolor": "white",
           "ticks": "",
           "title": {
            "standoff": 15
           },
           "zerolinecolor": "white",
           "zerolinewidth": 2
          },
          "yaxis": {
           "automargin": true,
           "gridcolor": "white",
           "linecolor": "white",
           "ticks": "",
           "title": {
            "standoff": 15
           },
           "zerolinecolor": "white",
           "zerolinewidth": 2
          }
         }
        },
        "title": {
         "text": "Método do Cotovelo"
        },
        "xaxis": {
         "anchor": "y",
         "domain": [
          0,
          1
         ],
         "title": {
          "text": "Número de clusters (k)"
         }
        },
        "yaxis": {
         "anchor": "x",
         "domain": [
          0,
          1
         ],
         "title": {
          "text": "Inércia"
         }
        }
       }
      }
     },
     "metadata": {},
     "output_type": "display_data"
    }
   ],
   "source": [
    "# Lista para armazenar as inércias\n",
    "inertias = []\n",
    "\n",
    "# Range de valores de k que queremos testar\n",
    "k_values = range(1, 10)\n",
    "\n",
    "# Executamos o K-means para cada valor de k e armazenamos a inércia\n",
    "for k in k_values:\n",
    "    kmeans = KMeans(n_clusters=k, random_state=42)\n",
    "    kmeans.fit(df[['Horsepower', 'MPG', 'Weight']])\n",
    "    inertias.append(kmeans.inertia_)\n",
    "\n",
    "# Transformamos as inércias e os valores de k em um DataFrame\n",
    "df_inertias = pd.DataFrame({'k': k_values, 'inertia': inertias})\n",
    "\n",
    "# Criamos o gráfico usando Plotly Express\n",
    "fig = px.line(df_inertias, x='k', y='inertia', title='Método do Cotovelo', \n",
    "              labels={'k': 'Número de clusters (k)', 'inertia': 'Inércia'})\n",
    "\n",
    "fig.show()"
   ]
  },
  {
   "cell_type": "markdown",
   "metadata": {},
   "source": [
    "Com alguma imaginação você pode ver que o gráfico parece um braço dobrado. À medida que aumentamos o número de clusters, a inércia diminui porque os pontos estão mais próximos dos centróides. No entanto, veja que quando $k=3$, o benefício de adicionar mais clusters diminui, resultando em uma curva que se aplana. Esse ponto de inflexão, onde a taxa de diminuição da inércia começa a diminuir significativamente, é conhecido como o \"cotovelo\"."
   ]
  },
  {
   "cell_type": "markdown",
   "metadata": {},
   "source": [
    "**Treinamento**"
   ]
  },
  {
   "cell_type": "code",
   "execution_count": 12,
   "metadata": {},
   "outputs": [
    {
     "name": "stdout",
     "output_type": "stream",
     "text": [
      "                 Carro  Horsepower       MPG    Weight  Cluster\n",
      "0         Ford Mustang    0.653682 -1.104193  1.179538        0\n",
      "15         Ford Fusion    0.386873 -1.263787  0.681966        0\n",
      "3        Dodge Charger    0.386873 -1.303686  0.681966        0\n",
      "6     Chevrolet Camaro    1.720918 -0.904700  1.413689        0\n",
      "12    Chevrolet Impala    0.653682 -1.203939  1.179538        0\n",
      "8         BMW 3 Series    1.187300 -0.505714  0.974655        0\n",
      "18  Chevrolet Traverse    1.720918 -0.844852  1.413689        0\n",
      "10         Ford Taurus    1.454109 -1.004446  1.267345        0\n",
      "17        Toyota Camry   -0.146745  0.132663 -0.488791        1\n",
      "14       Nissan Sentra    0.120064 -0.206475  0.038050        1\n",
      "13          Dodge Dart   -0.680363  0.790989 -0.722943        1\n",
      "9         Toyota Prius   -0.947172  0.491750 -0.781481        1\n",
      "5        Nissan Altima   -0.146745  0.092764 -0.488791        1\n",
      "2     Chevrolet Malibu    0.120064 -0.306222  0.038050        1\n",
      "1          Honda Civic   -0.680363  0.691243 -0.722943        1\n",
      "11        Honda Accord   -0.413554  0.292257 -0.196102        1\n",
      "7      Hyundai Elantra   -1.480790  1.289721 -1.220515        2\n",
      "4       Toyota Corolla   -1.213981  1.688707 -1.513204        2\n",
      "16      Hyundai Sonata   -1.213981  1.788453 -1.513204        2\n",
      "19           Honda Fit   -1.480790  1.389468 -1.220515        2\n"
     ]
    }
   ],
   "source": [
    "# Para efeitos didáticos, o código será repetido aqui como treinamento\n",
    "\n",
    "k = 3 # Obtido acima\n",
    "kmeans = KMeans(n_clusters=k, random_state=42)\n",
    "df['Cluster'] = kmeans.fit_predict(df[['Horsepower', 'MPG', 'Weight']])\n",
    "\n",
    "# Ordenar o DataFrame com base na coluna 'Cluster'\n",
    "df_sorted = df.sort_values('Cluster')\n",
    "\n",
    "print(df_sorted)"
   ]
  }
 ],
 "metadata": {
  "kernelspec": {
   "display_name": "base",
   "language": "python",
   "name": "python3"
  },
  "language_info": {
   "codemirror_mode": {
    "name": "ipython",
    "version": 3
   },
   "file_extension": ".py",
   "mimetype": "text/x-python",
   "name": "python",
   "nbconvert_exporter": "python",
   "pygments_lexer": "ipython3",
   "version": "3.8.12"
  },
  "orig_nbformat": 4
 },
 "nbformat": 4,
 "nbformat_minor": 2
}

{
 "cells": [
  {
   "cell_type": "markdown",
   "metadata": {},
   "source": [
    "# Aplicando kMeans"
   ]
  },
  {
   "cell_type": "markdown",
   "metadata": {},
   "source": [
    "## Geração de um dataset fictício"
   ]
  },
  {
   "cell_type": "markdown",
   "metadata": {},
   "source": [
    "### Bibliotecas"
   ]
  },
  {
   "cell_type": "code",
   "execution_count": 1,
   "metadata": {},
   "outputs": [],
   "source": [
    "import pandas as pd\n",
    "import numpy as np\n",
    "import matplotlib.pyplot as plt\n",
    "from sklearn.cluster import KMeans\n",
    "from sklearn.preprocessing import StandardScaler"
   ]
  },
  {
   "cell_type": "markdown",
   "metadata": {},
   "source": [
    "### Configurações iniciais"
   ]
  },
  {
   "cell_type": "code",
   "execution_count": 48,
   "metadata": {},
   "outputs": [],
   "source": [
    "# Configurações iniciais\n",
    "np.random.seed(42)\n",
    "\n",
    "n_samples = 200  # Número de amostras por cluster\n",
    "\n",
    "# Centros de clusters mais distintos\n",
    "centers = [\n",
    "    [20, 20], # Produtos de baixo custo que vendem pouco\n",
    "    [18, 35], # Produtos de baixo custo que vendem muito\n",
    "    [80, 20], # Produtos de alto custo que vendem pouco\n",
    "    [80, 25]  # Produtos de alto custo que vendem muito\n",
    "]\n",
    "\n",
    "# Gere dados em torno desses centros\n",
    "unit_price = []\n",
    "items_sold = []\n",
    "product_category = []\n",
    "avg_website_visits_last_week = []\n",
    "shipment_type = []"
   ]
  },
  {
   "cell_type": "markdown",
   "metadata": {},
   "source": [
    "### Popula o `DataFrame`"
   ]
  },
  {
   "cell_type": "code",
   "execution_count": 49,
   "metadata": {},
   "outputs": [
    {
     "data": {
      "text/html": [
       "<div>\n",
       "<style scoped>\n",
       "    .dataframe tbody tr th:only-of-type {\n",
       "        vertical-align: middle;\n",
       "    }\n",
       "\n",
       "    .dataframe tbody tr th {\n",
       "        vertical-align: top;\n",
       "    }\n",
       "\n",
       "    .dataframe thead th {\n",
       "        text-align: right;\n",
       "    }\n",
       "</style>\n",
       "<table border=\"1\" class=\"dataframe\">\n",
       "  <thead>\n",
       "    <tr style=\"text-align: right;\">\n",
       "      <th></th>\n",
       "      <th>unit_price</th>\n",
       "      <th>product_category</th>\n",
       "      <th>avg_website_visits_last_week</th>\n",
       "      <th>shipment_type</th>\n",
       "      <th>items_sold</th>\n",
       "    </tr>\n",
       "  </thead>\n",
       "  <tbody>\n",
       "    <tr>\n",
       "      <th>0</th>\n",
       "      <td>21.490142</td>\n",
       "      <td>Casa</td>\n",
       "      <td>1669</td>\n",
       "      <td>Terrestre</td>\n",
       "      <td>21.0</td>\n",
       "    </tr>\n",
       "    <tr>\n",
       "      <th>1</th>\n",
       "      <td>19.585207</td>\n",
       "      <td>Casa</td>\n",
       "      <td>610</td>\n",
       "      <td>Aérea</td>\n",
       "      <td>22.0</td>\n",
       "    </tr>\n",
       "  </tbody>\n",
       "</table>\n",
       "</div>"
      ],
      "text/plain": [
       "   unit_price product_category  avg_website_visits_last_week shipment_type  \\\n",
       "0   21.490142             Casa                          1669     Terrestre   \n",
       "1   19.585207             Casa                           610         Aérea   \n",
       "\n",
       "   items_sold  \n",
       "0        21.0  \n",
       "1        22.0  "
      ]
     },
     "execution_count": 49,
     "metadata": {},
     "output_type": "execute_result"
    }
   ],
   "source": [
    "for center in centers:\n",
    "    # possuem correlação\n",
    "    unit_price.extend(np.random.normal(center[0], 3, n_samples))\n",
    "    items_sold.extend(np.round(np.random.normal(center[1], 3, n_samples)).tolist())\n",
    "\n",
    "    # Aleatórios\n",
    "    product_category.extend(np.random.choice(['Eletrônicos', 'Vestuário', 'Casa'], n_samples))\n",
    "    avg_website_visits_last_week.extend(np.random.randint(500, 2000, n_samples))\n",
    "    shipment_type.extend(np.random.choice(['Aérea', 'Terrestre', 'Marítma'], n_samples))\n",
    "\n",
    "# Criar o DataFrame\n",
    "df = pd.DataFrame({\n",
    "    'unit_price': unit_price,\n",
    "    'product_category': product_category,\n",
    "    'avg_website_visits_last_week': avg_website_visits_last_week,\n",
    "    'shipment_type': shipment_type,\n",
    "    'items_sold': items_sold,\n",
    "})\n",
    "df.head(2)"
   ]
  },
  {
   "cell_type": "markdown",
   "metadata": {},
   "source": [
    "## Treinamento do modelo"
   ]
  },
  {
   "cell_type": "markdown",
   "metadata": {},
   "source": [
    "### Preparação dos dados"
   ]
  },
  {
   "cell_type": "markdown",
   "metadata": {},
   "source": [
    "**Separe as variáveis categóricas das nominais e ordinais**"
   ]
  },
  {
   "cell_type": "code",
   "execution_count": 50,
   "metadata": {},
   "outputs": [],
   "source": [
    "# Separando as variáveis numéricas e categóricas manualmente\n",
    "num_features = ['unit_price', 'avg_website_visits_last_week', 'items_sold']\n",
    "cat_features = ['product_category', 'shipment_type']"
   ]
  },
  {
   "cell_type": "markdown",
   "metadata": {},
   "source": [
    "**Transforme a escala das variáveis intervalares**"
   ]
  },
  {
   "cell_type": "code",
   "execution_count": 51,
   "metadata": {},
   "outputs": [
    {
     "data": {
      "text/html": [
       "<div>\n",
       "<style scoped>\n",
       "    .dataframe tbody tr th:only-of-type {\n",
       "        vertical-align: middle;\n",
       "    }\n",
       "\n",
       "    .dataframe tbody tr th {\n",
       "        vertical-align: top;\n",
       "    }\n",
       "\n",
       "    .dataframe thead th {\n",
       "        text-align: right;\n",
       "    }\n",
       "</style>\n",
       "<table border=\"1\" class=\"dataframe\">\n",
       "  <thead>\n",
       "    <tr style=\"text-align: right;\">\n",
       "      <th></th>\n",
       "      <th>unit_price</th>\n",
       "      <th>avg_website_visits_last_week</th>\n",
       "      <th>items_sold</th>\n",
       "    </tr>\n",
       "  </thead>\n",
       "  <tbody>\n",
       "    <tr>\n",
       "      <th>0</th>\n",
       "      <td>-0.919084</td>\n",
       "      <td>0.945744</td>\n",
       "      <td>-0.598988</td>\n",
       "    </tr>\n",
       "    <tr>\n",
       "      <th>1</th>\n",
       "      <td>-0.981438</td>\n",
       "      <td>-1.512082</td>\n",
       "      <td>-0.452938</td>\n",
       "    </tr>\n",
       "  </tbody>\n",
       "</table>\n",
       "</div>"
      ],
      "text/plain": [
       "   unit_price  avg_website_visits_last_week  items_sold\n",
       "0   -0.919084                      0.945744   -0.598988\n",
       "1   -0.981438                     -1.512082   -0.452938"
      ]
     },
     "execution_count": 51,
     "metadata": {},
     "output_type": "execute_result"
    }
   ],
   "source": [
    "# Faz a padronização automática\n",
    "scaler = StandardScaler()\n",
    "\n",
    "# Transforma a escala das variáveis numéricas\n",
    "transformed_num = scaler.fit_transform(df[num_features])\n",
    "df_transformed_num = pd.DataFrame(transformed_num, columns=num_features) # Converte novamente para `DataFrame`\n",
    "df_transformed_num.head(2)"
   ]
  },
  {
   "cell_type": "markdown",
   "metadata": {},
   "source": [
    "**Converta as variáveis categóricas**"
   ]
  },
  {
   "cell_type": "code",
   "execution_count": 52,
   "metadata": {},
   "outputs": [],
   "source": [
    "# Converte para categorias\n",
    "df.product_category = df.product_category.map({'Eletrônicos': 0, 'Vestuário': 1, 'Casa': 2})\n",
    "df.shipment_type = df.shipment_type.map({'Aérea': 0, 'Terrestre': 1, 'Marítma': 2})"
   ]
  },
  {
   "cell_type": "markdown",
   "metadata": {},
   "source": [
    "**Crie um dataset único para o treinamento**"
   ]
  },
  {
   "cell_type": "code",
   "execution_count": 53,
   "metadata": {},
   "outputs": [
    {
     "data": {
      "text/html": [
       "<div>\n",
       "<style scoped>\n",
       "    .dataframe tbody tr th:only-of-type {\n",
       "        vertical-align: middle;\n",
       "    }\n",
       "\n",
       "    .dataframe tbody tr th {\n",
       "        vertical-align: top;\n",
       "    }\n",
       "\n",
       "    .dataframe thead th {\n",
       "        text-align: right;\n",
       "    }\n",
       "</style>\n",
       "<table border=\"1\" class=\"dataframe\">\n",
       "  <thead>\n",
       "    <tr style=\"text-align: right;\">\n",
       "      <th></th>\n",
       "      <th>unit_price</th>\n",
       "      <th>avg_website_visits_last_week</th>\n",
       "      <th>items_sold</th>\n",
       "      <th>product_category</th>\n",
       "      <th>shipment_type</th>\n",
       "    </tr>\n",
       "  </thead>\n",
       "  <tbody>\n",
       "    <tr>\n",
       "      <th>0</th>\n",
       "      <td>-0.919084</td>\n",
       "      <td>0.945744</td>\n",
       "      <td>-0.598988</td>\n",
       "      <td>2</td>\n",
       "      <td>1</td>\n",
       "    </tr>\n",
       "    <tr>\n",
       "      <th>1</th>\n",
       "      <td>-0.981438</td>\n",
       "      <td>-1.512082</td>\n",
       "      <td>-0.452938</td>\n",
       "      <td>2</td>\n",
       "      <td>0</td>\n",
       "    </tr>\n",
       "  </tbody>\n",
       "</table>\n",
       "</div>"
      ],
      "text/plain": [
       "   unit_price  avg_website_visits_last_week  items_sold  product_category  \\\n",
       "0   -0.919084                      0.945744   -0.598988                 2   \n",
       "1   -0.981438                     -1.512082   -0.452938                 2   \n",
       "\n",
       "   shipment_type  \n",
       "0              1  \n",
       "1              0  "
      ]
     },
     "execution_count": 53,
     "metadata": {},
     "output_type": "execute_result"
    }
   ],
   "source": [
    "# Concatena os dois datasets para formar um único dataset preparado\n",
    "df_prepared = pd.concat([df_transformed_num, df[cat_features] ], axis=1) # O axis = 1 indica que você quer concatenar (i.e., juntar) colunas e não linhas\n",
    "df_prepared.head(2)"
   ]
  },
  {
   "cell_type": "markdown",
   "metadata": {},
   "source": [
    "### Encontrando o número ideal de clusters"
   ]
  },
  {
   "cell_type": "markdown",
   "metadata": {},
   "source": [
    "**Selecione os atributos que farão parte do K-Means**"
   ]
  },
  {
   "cell_type": "code",
   "execution_count": 54,
   "metadata": {},
   "outputs": [
    {
     "data": {
      "text/html": [
       "<div>\n",
       "<style scoped>\n",
       "    .dataframe tbody tr th:only-of-type {\n",
       "        vertical-align: middle;\n",
       "    }\n",
       "\n",
       "    .dataframe tbody tr th {\n",
       "        vertical-align: top;\n",
       "    }\n",
       "\n",
       "    .dataframe thead th {\n",
       "        text-align: right;\n",
       "    }\n",
       "</style>\n",
       "<table border=\"1\" class=\"dataframe\">\n",
       "  <thead>\n",
       "    <tr style=\"text-align: right;\">\n",
       "      <th></th>\n",
       "      <th>unit_price</th>\n",
       "      <th>items_sold</th>\n",
       "    </tr>\n",
       "  </thead>\n",
       "  <tbody>\n",
       "    <tr>\n",
       "      <th>0</th>\n",
       "      <td>-0.919084</td>\n",
       "      <td>-0.598988</td>\n",
       "    </tr>\n",
       "    <tr>\n",
       "      <th>1</th>\n",
       "      <td>-0.981438</td>\n",
       "      <td>-0.452938</td>\n",
       "    </tr>\n",
       "  </tbody>\n",
       "</table>\n",
       "</div>"
      ],
      "text/plain": [
       "   unit_price  items_sold\n",
       "0   -0.919084   -0.598988\n",
       "1   -0.981438   -0.452938"
      ]
     },
     "execution_count": 54,
     "metadata": {},
     "output_type": "execute_result"
    }
   ],
   "source": [
    "df_selected =  df_prepared.filter(['unit_price', 'items_sold'])\n",
    "df_selected.head(2)"
   ]
  },
  {
   "cell_type": "markdown",
   "metadata": {},
   "source": [
    "**Calcule a inércia para diferentes valores de $k$**"
   ]
  },
  {
   "cell_type": "code",
   "execution_count": 55,
   "metadata": {},
   "outputs": [
    {
     "data": {
      "text/plain": [
       "[1600.0000000000002,\n",
       " 731.2614227244921,\n",
       " 205.16652184215988,\n",
       " 122.39760132872233,\n",
       " 101.80364035403474,\n",
       " 78.34879258256916,\n",
       " 57.0806596040691,\n",
       " 50.39003647924156,\n",
       " 44.59861405496948,\n",
       " 35.34784837317511]"
      ]
     },
     "execution_count": 55,
     "metadata": {},
     "output_type": "execute_result"
    }
   ],
   "source": [
    "# Calcule a inércia para diferentes valores de k\n",
    "inertia = []\n",
    "for i in range(1, 11):  # Número de clusters de 1 a 10\n",
    "    kmeans = KMeans(n_clusters=i, n_init='auto', random_state=42)\n",
    "    kmeans.fit(df_selected)\n",
    "    inertia.append(kmeans.inertia_)\n",
    "\n",
    "# Veja os valores das inércias\n",
    "inertia"
   ]
  },
  {
   "cell_type": "code",
   "execution_count": 56,
   "metadata": {},
   "outputs": [
    {
     "data": {
      "image/png": "[encoded data removed]",
      "text/plain": [
       "<Figure size 1000x600 with 1 Axes>"
      ]
     },
     "metadata": {},
     "output_type": "display_data"
    }
   ],
   "source": [
    "# Plote o gráfico\n",
    "plt.figure(figsize=(10, 6))\n",
    "plt.plot(range(1, 11), inertia, marker='o')\n",
    "plt.xlabel('Número de clusters')\n",
    "plt.ylabel('Inércia')\n",
    "plt.title('Método do Cotovelo')\n",
    "plt.show()"
   ]
  },
  {
   "cell_type": "markdown",
   "metadata": {},
   "source": [
    "### K-Means"
   ]
  },
  {
   "cell_type": "code",
   "execution_count": 57,
   "metadata": {},
   "outputs": [],
   "source": [
    "# Aplicar K-means\n",
    "kmeans = KMeans(n_clusters=4, n_init='auto', random_state=42)\n",
    "df['cluster'] = kmeans.fit_predict(df_selected)\n",
    "#df.head(50)"
   ]
  },
  {
   "cell_type": "code",
   "execution_count": 58,
   "metadata": {},
   "outputs": [
    {
     "data": {
      "image/png": "[encoded data removed]",
      "text/plain": [
       "<Figure size 640x480 with 2 Axes>"
      ]
     },
     "metadata": {},
     "output_type": "display_data"
    }
   ],
   "source": [
    "# Visualização\n",
    "plt.scatter(df['unit_price'], df['items_sold'], c=df['cluster'])\n",
    "plt.xlabel('Unit Price')\n",
    "plt.ylabel('Items Sold')\n",
    "plt.colorbar(label='Cluster ID')\n",
    "plt.title('K-means Clustering')\n",
    "plt.show()"
   ]
  },
  {
   "cell_type": "markdown",
   "metadata": {},
   "source": [
    "## Pratique"
   ]
  },
  {
   "cell_type": "markdown",
   "metadata": {},
   "source": [
    "**[EX01]** Como o número de amostras (`n_samples`) afeta os clusters? Tente usar diferentes números e observe as mudanças."
   ]
  },
  {
   "cell_type": "markdown",
   "metadata": {},
   "source": [
    "**[EX02]** O que acontece se você não padronizar as variáveis intervalares? \n",
    "\n",
    "* Como a diferença de escala afeta o resultado do clustering?\n",
    "\n",
    "* Faz diferença se você utilizar o log ou a padronização nas variáveis intervalares?"
   ]
  },
  {
   "cell_type": "markdown",
   "metadata": {},
   "source": [
    "**[EX03]** Modifique os valores dos centros de clusters definidos na variável `centers`. \n",
    "\n",
    "* Experimente centros como o `[30,30]`, `[25,50]`, `[90,30]`, e `[85,45]`. \n",
    "\n",
    "* Como a mudança nos valores dos centroides afetou a distribuição dos pontos de dados? \n",
    "\n",
    "* Os clusters estão mais dispersos ou mais densos?\n",
    "\n",
    "* Como você interpretaria os novos clusters em um contexto de negócios?"
   ]
  },
  {
   "cell_type": "markdown",
   "metadata": {},
   "source": [
    "**[EX04]** Atualmente, o código usa apenas `unit_price` e `items_sold` para o clustering. Tente incorporar as variáveis categóricas (`product_category`, `shipment_type` e `avg_website_visits_last_week `) e descreva como isso afeta os clusters."
   ]
  },
  {
   "cell_type": "markdown",
   "metadata": {},
   "source": [
    "**[EX05]** Suponha que você também queira levar em consideração a sazonalidade das vendas de produtos. Para fazer isso, você decide incluir uma nova coluna chamada `sales_season` que indica em qual estação do ano o produto vende mais: \"Verão\", \"Outono\", \"Inverno\" ou \"Primavera\". \n",
    "\n",
    "* Adicione uma nova coluna chamada `sales_season` aos dados, atribuindo aleatoriamente uma das quatro estações do ano para cada amostra de produto.\n",
    "\n",
    "* Converta a nova coluna categórica para uma forma numérica adequada para modelagem.\n",
    "\n",
    "* Incorpore essa nova característica no modelo K-Means e realize o agrupamento."
   ]
  },
  {
   "cell_type": "markdown",
   "metadata": {},
   "source": [
    "**[EX06]** O gráfico atual é um gráfico de dispersão 2D. Crie um gráfico 3D incorporando uma terceira variável."
   ]
  }
 ],
 "metadata": {
  "kernelspec": {
   "display_name": "Python 3",
   "language": "python",
   "name": "python3"
  },
  "language_info": {
   "codemirror_mode": {
    "name": "ipython",
    "version": 3
   },
   "file_extension": ".py",
   "mimetype": "text/x-python",
   "name": "python",
   "nbconvert_exporter": "python",
   "pygments_lexer": "ipython3",
   "version": "3.10.12"
  },
  "orig_nbformat": 4
 },
 "nbformat": 4,
 "nbformat_minor": 2
}

{
 "cells": [
  {
   "attachments": {},
   "cell_type": "markdown",
   "metadata": {},
   "source": [
    "# Treinando Modelos Hierárquicos"
   ]
  },
  {
   "cell_type": "code",
   "execution_count": 2,
   "metadata": {},
   "outputs": [],
   "source": [
    "# Importando as bibliotecas necessárias\n",
    "import statsmodels.api as sm\n",
    "import statsmodels.formula.api as smf\n",
    "import pandas as pd\n",
    "import numpy as np"
   ]
  },
  {
   "cell_type": "code",
   "execution_count": 5,
   "metadata": {},
   "outputs": [
    {
     "data": {
      "text/plain": [
       "1000"
      ]
     },
     "execution_count": 5,
     "metadata": {},
     "output_type": "execute_result"
    }
   ],
   "source": [
    "# Criando um conjunto de dados de exemplo\n",
    "# As colunas representam 'anchor_category_id', 'product_department_id', 'product_category_id' e 'sales'\n",
    "np.random.seed(0)\n",
    "data = pd.DataFrame({\n",
    "    'anchor_category_id': np.repeat(['A', 'B'], 500),\n",
    "    'product_department_id': np.repeat(['A1', 'A2', 'B1', 'B2'], 250),\n",
    "    'product_category_id': np.random.choice(['A11', 'A12', 'A21', 'A22', 'B11', 'B12', 'B21', 'B22'], 1000),\n",
    "    'sales': np.random.normal(100, 20, 1000)\n",
    "})\n",
    "len(data)"
   ]
  },
  {
   "cell_type": "code",
   "execution_count": 4,
   "metadata": {},
   "outputs": [
    {
     "name": "stderr",
     "output_type": "stream",
     "text": [
      "c:\\Users\\Jeff\\anaconda3\\lib\\site-packages\\statsmodels\\base\\model.py:604: ConvergenceWarning: Maximum Likelihood optimization failed to converge. Check mle_retvals\n",
      "  warnings.warn(\"Maximum Likelihood optimization failed to \"\n",
      "c:\\Users\\Jeff\\anaconda3\\lib\\site-packages\\statsmodels\\regression\\mixed_linear_model.py:2200: ConvergenceWarning: Retrying MixedLM optimization with lbfgs\n",
      "  warnings.warn(\n",
      "c:\\Users\\Jeff\\anaconda3\\lib\\site-packages\\statsmodels\\regression\\mixed_linear_model.py:2261: ConvergenceWarning: The Hessian matrix at the estimated parameter values is not positive definite.\n",
      "  warnings.warn(msg, ConvergenceWarning)\n"
     ]
    },
    {
     "data": {
      "text/plain": [
       "<statsmodels.regression.mixed_linear_model.MixedLMResultsWrapper at 0x2218f69cfd0>"
      ]
     },
     "execution_count": 4,
     "metadata": {},
     "output_type": "execute_result"
    }
   ],
   "source": [
    "# Criando um modelo linear multinível\n",
    "model = smf.mixedlm(\"sales ~ anchor_category_id\", data, groups=data[\"product_department_id\"], \n",
    "                    re_formula=\"~product_category_id\")\n",
    "result = model.fit()\n",
    "result"
   ]
  },
  {
   "cell_type": "code",
   "execution_count": 1,
   "metadata": {},
   "outputs": [
    {
     "name": "stderr",
     "output_type": "stream",
     "text": [
      "c:\\Users\\Jeff\\anaconda3\\lib\\site-packages\\statsmodels\\base\\model.py:604: ConvergenceWarning: Maximum Likelihood optimization failed to converge. Check mle_retvals\n",
      "  warnings.warn(\"Maximum Likelihood optimization failed to \"\n",
      "c:\\Users\\Jeff\\anaconda3\\lib\\site-packages\\statsmodels\\regression\\mixed_linear_model.py:2200: ConvergenceWarning: Retrying MixedLM optimization with lbfgs\n",
      "  warnings.warn(\n"
     ]
    },
    {
     "name": "stdout",
     "output_type": "stream",
     "text": [
      "                                 Mixed Linear Model Regression Results\n",
      "========================================================================================================\n",
      "Model:                            MixedLM                 Dependent Variable:                 sales     \n",
      "No. Observations:                 1000                    Method:                             REML      \n",
      "No. Groups:                       4                       Scale:                              369.5186  \n",
      "Min. group size:                  250                     Log-Likelihood:                     -4381.8761\n",
      "Max. group size:                  250                     Converged:                          Yes       \n",
      "Mean group size:                  250.0                                                                 \n",
      "--------------------------------------------------------------------------------------------------------\n",
      "                                                             Coef.  Std.Err.   z    P>|z| [0.025  0.975]\n",
      "--------------------------------------------------------------------------------------------------------\n",
      "Intercept                                                    98.224    6.837 14.367 0.000 84.825 111.624\n",
      "anchor_category_id[T.B]                                       3.678    4.651  0.791 0.429 -5.437  12.793\n",
      "Group Var                                                    47.128                                     \n",
      "Group x product_category_id[T.A12] Cov                       -7.058                                     \n",
      "product_category_id[T.A12] Var                                3.023                                     \n",
      "Group x product_category_id[T.A21] Cov                      -15.398    2.263                            \n",
      "product_category_id[T.A12] x product_category_id[T.A21] Cov  -0.468    1.167                            \n",
      "product_category_id[T.A21] Var                               35.437    2.363                            \n",
      "Group x product_category_id[T.A22] Cov                       -8.069    1.039                            \n",
      "product_category_id[T.A12] x product_category_id[T.A22] Cov  -0.407    0.609                            \n",
      "product_category_id[T.A21] x product_category_id[T.A22] Cov  16.728    1.100                            \n",
      "product_category_id[T.A22] Var                                9.772    0.986                            \n",
      "Group x product_category_id[T.B11] Cov                      -13.322    2.109                            \n",
      "product_category_id[T.A12] x product_category_id[T.B11] Cov  -0.527    1.191                            \n",
      "product_category_id[T.A21] x product_category_id[T.B11] Cov  33.658    1.567                            \n",
      "product_category_id[T.A22] x product_category_id[T.B11] Cov  16.515    1.151                            \n",
      "product_category_id[T.B11] Var                               36.002    2.352                            \n",
      "Group x product_category_id[T.B12] Cov                       -5.285                                     \n",
      "product_category_id[T.A12] x product_category_id[T.B12] Cov   0.579                                     \n",
      "product_category_id[T.A21] x product_category_id[T.B12] Cov   3.696    1.119                            \n",
      "product_category_id[T.A22] x product_category_id[T.B12] Cov   2.032    0.662                            \n",
      "product_category_id[T.B11] x product_category_id[T.B12] Cov   5.932    1.162                            \n",
      "product_category_id[T.B12] Var                                4.636                                     \n",
      "Group x product_category_id[T.B21] Cov                       -8.000    1.380                            \n",
      "product_category_id[T.A12] x product_category_id[T.B21] Cov  -0.406    1.232                            \n",
      "product_category_id[T.A21] x product_category_id[T.B21] Cov  17.695    1.749                            \n",
      "product_category_id[T.A22] x product_category_id[T.B21] Cov   8.559    1.145                            \n",
      "product_category_id[T.B11] x product_category_id[T.B21] Cov  23.448    1.545                            \n",
      "product_category_id[T.B12] x product_category_id[T.B21] Cov   4.357    1.108                            \n",
      "product_category_id[T.B21] Var                               22.311    2.127                            \n",
      "Group x product_category_id[T.B22] Cov                       -3.240    1.033                            \n",
      "product_category_id[T.A12] x product_category_id[T.B22] Cov  -0.791    0.928                            \n",
      "product_category_id[T.A21] x product_category_id[T.B22] Cov   6.300    1.468                            \n",
      "product_category_id[T.A22] x product_category_id[T.B22] Cov   6.190    0.650                            \n",
      "product_category_id[T.B11] x product_category_id[T.B22] Cov   4.562    1.002                            \n",
      "product_category_id[T.B12] x product_category_id[T.B22] Cov  -1.332    0.924                            \n",
      "product_category_id[T.B21] x product_category_id[T.B22] Cov  -0.372    1.400                            \n",
      "product_category_id[T.B22] Var                               10.324    1.442                            \n",
      "========================================================================================================\n",
      "\n"
     ]
    },
    {
     "name": "stderr",
     "output_type": "stream",
     "text": [
      "c:\\Users\\Jeff\\anaconda3\\lib\\site-packages\\statsmodels\\regression\\mixed_linear_model.py:2261: ConvergenceWarning: The Hessian matrix at the estimated parameter values is not positive definite.\n",
      "  warnings.warn(msg, ConvergenceWarning)\n"
     ]
    }
   ],
   "source": [
    "\n",
    "\n",
    "\n",
    "\n",
    "\n",
    "\n",
    "# Imprimindo os resultados\n",
    "print(result.summary())"
   ]
  }
 ],
 "metadata": {
  "kernelspec": {
   "display_name": "base",
   "language": "python",
   "name": "python3"
  },
  "language_info": {
   "codemirror_mode": {
    "name": "ipython",
    "version": 3
   },
   "file_extension": ".py",
   "mimetype": "text/x-python",
   "name": "python",
   "nbconvert_exporter": "python",
   "pygments_lexer": "ipython3",
   "version": "3.10.9"
  },
  "orig_nbformat": 4
 },
 "nbformat": 4,
 "nbformat_minor": 2
}

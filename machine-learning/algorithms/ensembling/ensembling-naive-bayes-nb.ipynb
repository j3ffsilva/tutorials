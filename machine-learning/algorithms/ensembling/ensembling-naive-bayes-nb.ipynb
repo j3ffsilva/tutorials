{
 "cells": [
  {
   "cell_type": "markdown",
   "metadata": {},
   "source": [
    "# Ensembling Naive Bayes"
   ]
  },
  {
   "cell_type": "markdown",
   "metadata": {},
   "source": [
    "Esse dataset contém dados intervalares e categóricos"
   ]
  },
  {
   "cell_type": "markdown",
   "metadata": {},
   "source": [
    "| ID | cobrança_total | minutos_usados | tipo_contrato | cancelado |\n",
    "|----|----------------|----------------|---------------|-----------|\n",
    "| 1 | 75.50 | 350 | anual | 0 |\n",
    "| 2 | 60.20 | 250 | bienal | 0 |\n",
    "| 3 | 120.75 | 600 | mensal | 1 |\n",
    "| 4 | 45.30 | 150 | anual | 0 |\n",
    "| 5 | 99.85 | 450 | mensal | 1 |\n",
    "| 6 | 80.10 | 380 | bienal | 0 |\n",
    "| 7 | 110.20 | 575 | mensal | 1 |\n",
    "| 8 | 70.15 | 320 | anual | 0 |"
   ]
  },
  {
   "cell_type": "code",
   "execution_count": 1,
   "metadata": {},
   "outputs": [
    {
     "name": "stdout",
     "output_type": "stream",
     "text": [
      "[1 0 0 1 1 0 1 1 1 1 1 0 1 0 1 0 1 1 1 1 0 0 1 1 0 1 0 1 1 0 1 1 0 1 1 0 1\n",
      " 0 0 1 0 1 0 0 0 0 0 0 1 0 0 0 1 1 0 1 1 0 1 0 0 1 1 0 1 1 0 1 0 1 0 1 1 1\n",
      " 1 0 0 0 1 1 1 1 1 1 1 0 0 0 1 1 0 0 1 1 0 1 0 0 1 1 1 0 1 1 0 0 1 0 0 0 1\n",
      " 1 0 0 0 1 1 1 0 0 0 1 0 1 1 0 0 0 0 0 0 1 0 1 0 1 0 0 0 0 1 0 1 1 1 1 1 0\n",
      " 0 1 1 1 0 1 0 0 1 0 1 1 1 0 1 0 1 0 0 1 0 1 1 0 1 0 0 1 1 0 1 1 0 0 0 1 1\n",
      " 1 0 0 1 1 0 1 0 0 1 1 1 1 0 0 1 0 1 0 1 0 1 0 0 0 1 1 0 0 1 1 1 1 1 0 0 0\n",
      " 0 1 0 1 1 0 0 1 1 0 1 0 0 1 1 0 1 1 0 1 1 1 0 0 1 1 0 1 1 1 0 1 0 0 0 1 0\n",
      " 1 1 1 0 1 0 0 1 1 0 0 0 0 0 1 1 0 1 0 1 1 1 0 1 1 1 1 1 0 1 0 1 1 0 0 0 1\n",
      " 1 1 0 0 1 0 1 1 1 0 0 0 0 1 1 1 1 0 0 1 0 1 0 0 0 0 1 1 1 1 0 0 0 1 0 1 1\n",
      " 0 0 0 0 1 0 1 0 1 0 1 0 1 1 1 1 1 0 1 1 1 1 0 0 0 1 1 0 0 1 0 0 1 0 0 1 1\n",
      " 0 0 0 1 0 0 1 0 0 0 0 0 0 0 1 0 0 0 0 1 0 0 0 0 0 0 1 1 1 0 0 1 1 1 0 0 0\n",
      " 1 1 0 0 1 0 0 1 1 0 0 1 1 1 0 0 0 0 1 1 0 1 1 0 0 0 1 0 1 0 1 0 1 0 0 1 1\n",
      " 1 1 1 1 0 0 1 0 1 0 0 0 1 0 0 0 1 1 0 1 0 1 1 0 1 0 0 1 1 0 0 0 0 1 0 1 0\n",
      " 0 1 1 1 0 0 1 0 1 1 0 1 1 0 0 0 1 1 1 0 1 1 0 1 1 0 1 0 0 1 1 0 1 0 1 1 1\n",
      " 0 0 0 1 1 0 1 0 1 1 0 1 1 1 1 1 1 1 0 0 0 1 0 1 0 0 1 0 1 1 0 1 0 1 1 0 1\n",
      " 0 1 0 1 0 1 0 0 0 0 1 0 1 0 1 0 1 1 1 1 0 1 0 0 0 0 1 0 1 1 0 1 1 0 0 0 1\n",
      " 0 0 1 0 0 1 1 1 0 0 1 0 1 1 1 1 1 1 1 0 0 1 1 0 1 1 0 0 0 0 0 0 0 1 1 1 1\n",
      " 1 0 0 1 0 0 0 1 1 0 1 0 0 1 0 1 1 1 0 1 0 1 0 1 1 0 0 0 1 1 0 1 1 0 1 1 1\n",
      " 0 0 0 1 1 1 1 0 1 0 0 1 1 0 1 0 1 1 0 0 1 1 0 1 1 0 0 0 1 0 1 0 0 1 1 1 0\n",
      " 1 0 1 0 0 0 1 0 0 1 1 0 1 1 1 0 1 1 0 1 1 0 0 0 1 1 0 0 0 0 0 1 0 0 1 0 0\n",
      " 0 1 1 0 0 0 0 0 1 0 0 1 1 0 1 0 0 1 0 1 0 0 1 1 1 0 0 0 1 0 1 1 1 1 1 0 1\n",
      " 1 1 0 0 1 1 0 0 1 0 1 0 0 0 1 1 1 1 0 0 1 0 1 0 1 1 0 1 0 1 1 1 1 1 1 0 0\n",
      " 1 0 0 1 1 1 1 0 1 0 1 1 0 0 1 0 1 1 1 1 0 1 0 1 0 0 0 0 1 0 0 0 1 1 1 1 0\n",
      " 0 1 1 1 0 0 1 1 0 0 1 1 0 1 0 1 0 1 0 0 0 1 1 1 0 0 1 1 0 0 0 0 1 1 1 1 0\n",
      " 1 1 0 0 0 0 1 1 0 0 1 1 1 0 1 1 0 1 1 1 1 1 0 0 0 1 0 1 1 1 1 0 1 0 0 0 0\n",
      " 0 1 0 0 0 1 1 0 0 1 0 0 0 1 0 0 1 0 0 1 1 0 0 0 0 0 1 0 0 0 1 1 0 0 0 1 0\n",
      " 0 1 0 1 0 0 0 0 1 0 0 0 0 1 1 0 0 0 1 0 0 0 0 1 0 0 0 0 0 0 1 1 1 0 0 0 0\n",
      " 1]\n"
     ]
    }
   ],
   "source": [
    "from sklearn.naive_bayes import GaussianNB, MultinomialNB\n",
    "from sklearn.preprocessing import MinMaxScaler\n",
    "from sklearn.datasets import make_classification\n",
    "import numpy as np\n",
    "\n",
    "# Crie um conjunto de dados de exemplo com dois recursos contínuos e um categórico\n",
    "X, y = make_classification(n_samples=1000, n_features=3, n_informative=3, n_redundant=0, random_state=42)\n",
    "X[:, 2] = (X[:, 2] > 0).astype(int)  # converta a última característica em categórica\n",
    "\n",
    "# Divida os dados de acordo com o tipo de recurso\n",
    "X_continuous = X[:, :2]\n",
    "X_categorical = X[:, 2].reshape(-1, 1)\n",
    "\n",
    "# Assegure-se de que os dados categóricos estejam em uma escala positiva antes de usar MultinomialNB\n",
    "scaler = MinMaxScaler().fit(X_categorical)\n",
    "X_categorical = scaler.transform(X_categorical)\n",
    "\n",
    "# Treine dois modelos diferentes\n",
    "gnb = GaussianNB().fit(X_continuous, y)\n",
    "mnb = MultinomialNB().fit(X_categorical, y)\n",
    "\n",
    "# Para fazer uma previsão, tome a média das probabilidades de classe dos dois modelos\n",
    "def predict(X):\n",
    "    X_continuous = X[:, :2]\n",
    "    X_categorical = scaler.transform(X[:, 2].reshape(-1, 1))\n",
    "    proba_continuous = gnb.predict_proba(X_continuous)\n",
    "    proba_categorical = mnb.predict_proba(X_categorical)\n",
    "    return np.argmax(proba_continuous * proba_categorical, axis=1)\n",
    "\n",
    "# Teste a função de previsão\n",
    "predictions = predict(X)\n",
    "print(predictions)"
   ]
  }
 ],
 "metadata": {
  "kernelspec": {
   "display_name": "base",
   "language": "python",
   "name": "python3"
  },
  "language_info": {
   "codemirror_mode": {
    "name": "ipython",
    "version": 3
   },
   "file_extension": ".py",
   "mimetype": "text/x-python",
   "name": "python",
   "nbconvert_exporter": "python",
   "pygments_lexer": "ipython3",
   "version": "3.8.12"
  },
  "orig_nbformat": 4
 },
 "nbformat": 4,
 "nbformat_minor": 2
}

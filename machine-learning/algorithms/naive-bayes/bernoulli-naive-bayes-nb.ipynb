{
 "cells": [
  {
   "cell_type": "markdown",
   "id": "cf4dcc0f",
   "metadata": {},
   "source": [
    "# Bernoulli Naive Bayes"
   ]
  },
  {
   "cell_type": "markdown",
   "id": "3d9e90b7",
   "metadata": {},
   "source": [
    "O Bernoulli Naive Bayes é usado quando os atributos do conjunto de dados são binários, ou seja, podem assumir apenas dois valores como por exemplo `True`/`False` ou `0`/`1`."
   ]
  },
  {
   "cell_type": "markdown",
   "id": "4fc02bd7",
   "metadata": {},
   "source": [
    "**EXEMPLO**"
   ]
  },
  {
   "cell_type": "markdown",
   "id": "eb488a21",
   "metadata": {},
   "source": [
    "Suponha que você esteja tentando prever se um paciente tem uma determinada doença com base em uma série de exames médicos. Cada exame pode ser representado como uma variável nominal binária que indica se o resultado do exame é positivo (1) ou negativo (0)."
   ]
  },
  {
   "cell_type": "markdown",
   "id": "c96c31ca",
   "metadata": {},
   "source": [
    "| Paciente | Exame_A | Exame_B | Exame_C | Exame_D | Exame_E | Tem_doença? |\n",
    "|----------|---------|---------|---------|---------|---------|--------------|\n",
    "| 1 | 0 | 1 | 0 | 1 | 0 | Não |\n",
    "| 2 | 1 | 0 | 1 | 0 | 1 | Sim |\n",
    "| 3 | 0 | 0 | 0 | 0 | 0 | Não |\n",
    "| 4 | 1 | 1 | 1 | 1 | 1 | Sim |\n",
    "| 5 | 0 | 0 | 1 | 0 | 1 | Sim |"
   ]
  },
  {
   "cell_type": "markdown",
   "id": "a6712663",
   "metadata": {},
   "source": [
    "## Considerações"
   ]
  },
  {
   "cell_type": "markdown",
   "id": "f4851b85",
   "metadata": {},
   "source": [
    "A aplicação correta de um algoritmo de *Machine Learning* envolve várias considerações importantes relacionadas aos dados. Assim, aqui estão algumas ponderações que você deve considerar antes de aplicar esse algoritmo.\n",
    "\n",
    "* Os atributos são binários? \n",
    "\n",
    "* As classes estão balanceadas?\n",
    "\n",
    "* Os atributos incluídos no treinamento foram selecionados cuidadosamente?\n",
    "\n",
    "* O problema da frequência zero foi considerado?"
   ]
  },
  {
   "cell_type": "markdown",
   "id": "d7674740",
   "metadata": {},
   "source": [
    "## O Algoritmo na Prática"
   ]
  },
  {
   "cell_type": "markdown",
   "id": "21b1608b",
   "metadata": {},
   "source": [
    "**Bibliotecas**"
   ]
  },
  {
   "cell_type": "code",
   "execution_count": 1,
   "id": "ac5a39d3",
   "metadata": {},
   "outputs": [],
   "source": [
    "from sklearn.model_selection import train_test_split\n",
    "from sklearn.naive_bayes import BernoulliNB\n",
    "from sklearn import metrics\n",
    "import numpy as np"
   ]
  },
  {
   "cell_type": "markdown",
   "id": "e3045f3d",
   "metadata": {},
   "source": [
    "**Ingestão**"
   ]
  },
  {
   "cell_type": "code",
   "execution_count": null,
   "id": "51856e8d",
   "metadata": {},
   "outputs": [],
   "source": [
    "# O conjunto de dados dos exames poderia ser o seguinte\n",
    "X = np.array([\n",
    "    [0, 1, 0, 1, 0],\n",
    "    [1, 0, 1, 0, 1],\n",
    "    [0, 0, 0, 0, 0],\n",
    "    [1, 1, 1, 1, 1],\n",
    "    [0, 0, 1, 0, 1]\n",
    "])\n",
    "\n",
    "#  Essa poderia ser a classificação se um paciente possui ou não a doença\n",
    "y = np.array([0, 1, 0, 1, 1])"
   ]
  },
  {
   "cell_type": "markdown",
   "id": "a48c3957",
   "metadata": {},
   "source": [
    "**Preparação**"
   ]
  },
  {
   "cell_type": "code",
   "execution_count": null,
   "id": "203a055a",
   "metadata": {},
   "outputs": [],
   "source": [
    "# Dividir os dados em conjuntos de treinamento e teste\n",
    "X_train, X_test, y_train, y_test = train_test_split(X, y, test_size=0.2, random_state=42)"
   ]
  },
  {
   "cell_type": "markdown",
   "id": "154c167d",
   "metadata": {},
   "source": [
    "**Treinamento**"
   ]
  },
  {
   "cell_type": "code",
   "execution_count": null,
   "id": "fbf0326f",
   "metadata": {},
   "outputs": [],
   "source": [
    "# Criar e treinar o modelo\n",
    "model = BernoulliNB()\n",
    "model.fit(X_train, y_train)"
   ]
  },
  {
   "cell_type": "markdown",
   "id": "a72d85ed",
   "metadata": {},
   "source": [
    "**Testes**"
   ]
  },
  {
   "cell_type": "code",
   "execution_count": null,
   "id": "ecd99e00",
   "metadata": {},
   "outputs": [],
   "source": [
    "# Fazer previsões no conjunto de teste\n",
    "y_pred = model.predict(X_test)\n",
    "\n",
    "# Avaliar o modelo\n",
    "accuracy = metrics.accuracy_score(y_test, y_pred)\n",
    "print(f\"Acurácia: {accuracy*100}%\")"
   ]
  }
 ],
 "metadata": {
  "kernelspec": {
   "display_name": "Python 3",
   "language": "python",
   "name": "python3"
  },
  "language_info": {
   "codemirror_mode": {
    "name": "ipython",
    "version": 3
   },
   "file_extension": ".py",
   "mimetype": "text/x-python",
   "name": "python",
   "nbconvert_exporter": "python",
   "pygments_lexer": "ipython3",
   "version": "3.8.8"
  }
 },
 "nbformat": 4,
 "nbformat_minor": 5
}

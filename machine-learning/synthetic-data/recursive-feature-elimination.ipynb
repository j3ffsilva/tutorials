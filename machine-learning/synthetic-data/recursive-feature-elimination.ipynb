{
 "cells": [
  {
   "cell_type": "code",
   "execution_count": null,
   "metadata": {},
   "outputs": [],
   "source": [
    "from sklearn.linear_model import LogisticRegression\n",
    "from sklearn.feature_selection import RFE, SelectKBest, chi2\n",
    "\n",
    "# 2. Eliminação Recursiva de Atributos (RFE)\n",
    "estimator = LogisticRegression()\n",
    "selector = RFE(estimator, n_features_to_select=2, step=1)\n",
    "\n",
    "\n",
    "selector = selector.fit(df_prepared[], df_prepared['items_sold'])\n",
    "\n",
    "print(\"\\nFeatures selected by RFE:\")\n",
    "print(selector.support_)"
   ]
  }
 ],
 "metadata": {
  "language_info": {
   "name": "python"
  },
  "orig_nbformat": 4
 },
 "nbformat": 4,
 "nbformat_minor": 2
}

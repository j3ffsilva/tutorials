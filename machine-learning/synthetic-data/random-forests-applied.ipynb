{
 "cells": [
  {
   "cell_type": "code",
   "execution_count": 2,
   "metadata": {},
   "outputs": [],
   "source": [
    "import pandas as pd\n",
    "import numpy as np\n",
    "\n",
    "# Configurações iniciais\n",
    "np.random.seed(42)\n",
    "\n",
    "n_samples = 200  # Número de amostras por cluster\n",
    "\n",
    "# Centros de clusters mais distintos\n",
    "centers = [\n",
    "    [20, 20], # Produtos de baixo custo que vendem pouco\n",
    "    [18, 35], # Produtos de baixo custo que vendem muito\n",
    "    [80, 20], # Produtos de alto custo que vendem pouco\n",
    "    [80, 25]  # Produtos de alto custo que vendem muito\n",
    "]\n",
    "\n",
    "# Listas para guardar os dados\n",
    "unit_price = []\n",
    "items_sold = []\n",
    "product_category = []\n",
    "avg_website_visits_last_week = []\n",
    "shipment_type = []\n",
    "sales_success = []  # variável alvo"
   ]
  },
  {
   "cell_type": "code",
   "execution_count": 3,
   "metadata": {},
   "outputs": [],
   "source": [
    "# Definir categorias fixas para cada cluster\n",
    "fixed_categories = ['Eletrônicos', 'Vestuário', 'Casa', 'Alimentos']\n",
    "fixed_shipment_types = ['Aérea', 'Terrestre', 'Marítima', 'Espacial']\n",
    "\n",
    "# Desvios padrões arbitrários para cada categoria\n",
    "visit_std_dev = [500, 400, 300, 200]\n",
    "\n",
    "for i, center in enumerate(centers):\n",
    "    # possuem correlação\n",
    "    unit_price.extend(np.random.normal(center[0], 3, n_samples))\n",
    "    items_sold.extend(np.round(np.random.normal(center[1], 3, n_samples)).tolist())\n",
    "\n",
    "    # variável nova: avg_website_visits_last_week\n",
    "    avg_visits = [5000, 3500, 2500, 1000][i]\n",
    "    std_dev = visit_std_dev[i]\n",
    "    avg_website_visits_last_week.extend(np.random.normal(avg_visits, std_dev, n_samples).tolist())\n",
    "\n",
    "    # Fixar categorias e tipos de envio\n",
    "    product_category.extend([fixed_categories[i]] * n_samples)\n",
    "    shipment_type.extend([fixed_shipment_types[i]] * n_samples)\n",
    "    \n",
    "    # variável alvo fictícia\n",
    "    sales_success.extend([i] * n_samples)"
   ]
  },
  {
   "cell_type": "code",
   "execution_count": 4,
   "metadata": {},
   "outputs": [],
   "source": [
    "# Adicionar algum ruído aos dados numéricos\n",
    "noise = np.random.normal(0, 1, len(unit_price))\n",
    "unit_price = unit_price + noise"
   ]
  },
  {
   "cell_type": "code",
   "execution_count": 5,
   "metadata": {},
   "outputs": [],
   "source": [
    "# Criar o DataFrame\n",
    "df = pd.DataFrame({\n",
    "    'unit_price': unit_price,\n",
    "    'product_category': product_category,\n",
    "    'avg_website_visits_last_week': avg_website_visits_last_week,\n",
    "    'shipment_type': shipment_type,\n",
    "    'items_sold': items_sold,\n",
    "    'sales_success': sales_success  # variável alvo\n",
    "})\n",
    "\n",
    "df.head(2)\n",
    "\n",
    "df.to_csv(\"dataset-random-forests.csv\", index=False)"
   ]
  }
 ],
 "metadata": {
  "kernelspec": {
   "display_name": "Python 3",
   "language": "python",
   "name": "python3"
  },
  "language_info": {
   "codemirror_mode": {
    "name": "ipython",
    "version": 3
   },
   "file_extension": ".py",
   "mimetype": "text/x-python",
   "name": "python",
   "nbconvert_exporter": "python",
   "pygments_lexer": "ipython3",
   "version": "3.10.12"
  },
  "orig_nbformat": 4
 },
 "nbformat": 4,
 "nbformat_minor": 2
}

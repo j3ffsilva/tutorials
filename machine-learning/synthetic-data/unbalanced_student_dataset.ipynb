{
 "cells": [
  {
   "cell_type": "code",
   "execution_count": 1,
   "metadata": {},
   "outputs": [
    {
     "name": "stdout",
     "output_type": "stream",
     "text": [
      "Se formou\n",
      "1    515\n",
      "0    485\n",
      "Name: count, dtype: int64\n",
      "   Idade  Nota Final  Horas de Estudo por Semana  Se formou\n",
      "0     24          87                          14          1\n",
      "1     21          43                          29          0\n",
      "2     28          69                          12          1\n",
      "3     25          50                          36          0\n",
      "4     22          69                          35          1\n"
     ]
    }
   ],
   "source": [
    "import pandas as pd\n",
    "import numpy as np\n",
    "\n",
    "# Definindo o tamanho do dataset\n",
    "num_samples = 1000\n",
    "\n",
    "# Gerando dados fictícios para estudantes\n",
    "np.random.seed(42) # para reproduzibilidade\n",
    "\n",
    "idades = np.random.randint(18, 30, num_samples)\n",
    "nota_final = np.random.randint(40, 100, num_samples)\n",
    "horas_estudo = np.random.randint(1, 40, num_samples)\n",
    "\n",
    "# Gerando a variável-alvo. Suponha que estudantes com notas > 60 e estudando > 10 horas por semana se formem.\n",
    "# Para criar um desbalanceamento, vamos pegar apenas uma pequena parte dos que não se formaram.\n",
    "se_formou = (nota_final > 60) & (horas_estudo > 10)\n",
    "indices_nao_formados = np.where(se_formou == 0)[0]\n",
    "selecionados_nao_formados = np.random.choice(indices_nao_formados, size=int(0.1 * len(indices_nao_formados)), replace=False)\n",
    "se_formou[selecionados_nao_formados] = 0\n",
    "se_formou = se_formou.astype(int)\n",
    "\n",
    "# Criando o dataframe\n",
    "df = pd.DataFrame({\n",
    "    'Idade': idades,\n",
    "    'Nota Final': nota_final,\n",
    "    'Horas de Estudo por Semana': horas_estudo,\n",
    "    'Se formou': se_formou\n",
    "})\n",
    "\n",
    "print(df['Se formou'].value_counts())\n",
    "print(df.head())\n"
   ]
  }
 ],
 "metadata": {
  "kernelspec": {
   "display_name": "Python 3",
   "language": "python",
   "name": "python3"
  },
  "language_info": {
   "codemirror_mode": {
    "name": "ipython",
    "version": 3
   },
   "file_extension": ".py",
   "mimetype": "text/x-python",
   "name": "python",
   "nbconvert_exporter": "python",
   "pygments_lexer": "ipython3",
   "version": "3.10.12"
  },
  "orig_nbformat": 4
 },
 "nbformat": 4,
 "nbformat_minor": 2
}

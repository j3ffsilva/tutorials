{
 "cells": [
  {
   "cell_type": "markdown",
   "metadata": {},
   "source": [
    "# Medidas de Similaridade"
   ]
  },
  {
   "cell_type": "markdown",
   "metadata": {},
   "source": [
    "Considere a seguinte matriz usuário-item. "
   ]
  },
  {
   "cell_type": "markdown",
   "metadata": {},
   "source": [
    "Matrix | Inception | Titanic | Star Wars | The Godfather\n",
    "--------|-----------|---------|-----------|--------------\n",
    "Alice    |     5     |    3    |     4     |      0\n",
    "Bob      |     4     |    0    |     5     |      3\n",
    "Carol    |     3     |    5    |     4     |      4\n",
    "Dave     |     0     |    2    |     0     |      5\n",
    "Eve      |     2     |    5    |     0     |      4"
   ]
  },
  {
   "cell_type": "markdown",
   "metadata": {},
   "source": [
    "Como definimos que um usuário é similar ao outro?"
   ]
  },
  {
   "cell_type": "markdown",
   "metadata": {},
   "source": [
    "## Similaridade"
   ]
  },
  {
   "cell_type": "markdown",
   "metadata": {},
   "source": [
    "### Similaridade do Cosseno"
   ]
  },
  {
   "cell_type": "markdown",
   "metadata": {},
   "source": [
    "$$\n",
    "\\cos(\\theta) = \\frac{A \\cdot B}{\\|A\\| \\|B\\|}\n",
    "$$"
   ]
  },
  {
   "cell_type": "markdown",
   "metadata": {},
   "source": [
    "A similaridade do cosseno é uma métrica usada para determinar o grau de similaridade entre dois vetores. É especialmente útil em sistemas de recomendação para encontrar a similaridade entre usuários ou itens. A ideia é tratar as preferências de cada usuário como um vetor em um espaço n-dimensional e calcular o cosseno do ângulo entre esses vetores. Um valor de similaridade do coseno de 1 significa que os vetores são idênticos, e um valor de -1 significa que são completamente opostos.\n",
    "\n",
    "Vamos ver um exemplo concreto. Suponha que temos dois usuários, Alice e Bob, que avaliaram três filmes diferentes. Os filmes são de gêneros de Ação, Comédia e Romance. As avaliações vão de 1 a 5, e elas podem ser vistas como vetores:\n",
    "\n",
    "- Alice deu as seguintes avaliações: [Matrix: 5, Inception: 3, Star Wars: 1]\n",
    "- Bob deu as seguintes avaliações: [Matrix: 2, Star Wars: 4, The Godfather: 5]\n",
    "\n",
    "O vetor de Alice seria $A = [5, 3, 1]$ e o vetor de Bob seria $B = [2, 4, 5]$.\n",
    "\n",
    "Primeiro, calculamos o produto escalar ($ A \\cdot B $):\n",
    "\n",
    "$ A \\cdot B = (5 * 2) + (3 * 4) + (1 * 5) = 10 + 12 + 5 = 27 $\n",
    "\n",
    "Depois, calculamos as normas de $ A $ e $ B $:\n",
    "\n",
    "$ \\|A\\| = \\sqrt{(5^2) + (3^2) + (1^2)} = \\sqrt{25 + 9 + 1} = \\sqrt{35} $\n",
    "\n",
    "$ \\|B\\| = \\sqrt{(2^2) + (4^2) + (5^2)} = \\sqrt{4 + 16 + 25} = \\sqrt{45} $\n",
    "\n",
    "Finalmente, a similaridade do coseno entre Alice e Bob é:\n",
    "\n",
    "$ \\text{Similaridade do Cosseno} = \\frac{27}{\\sqrt{35} \\times \\sqrt{45}} \\approx 0.65 $\n",
    "\n",
    "Esse valor de $0.65$ indica uma similaridade moderada entre Alice e Bob com base em suas avaliações de filmes. Essa métrica será usada em um sistema de recomendação para sugerir filmes que um usuário similar gostou."
   ]
  },
  {
   "cell_type": "markdown",
   "metadata": {},
   "source": [
    "### Similaridade de Jaccard"
   ]
  },
  {
   "cell_type": "markdown",
   "metadata": {},
   "source": [
    "A Similaridade de Jaccard também pode ser usada para medir a semelhança entre conjuntos de dados. Ao contrário da similaridade do cosseno que leva em consideração a magnitude das avaliações, a Similaridade de Jaccard é baseada apenas na presença ou ausência de itens. \n",
    "\n",
    "Para calcular a Similaridade de Jaccard entre dois usuários, você consideraria apenas os filmes que ambos classificaram, independentemente da classificação. A fórmula da Similaridade de Jaccard é a seguinte:\n",
    "\n",
    "$ \\text{Similaridade de Jaccard}(A, B) = \\frac{|A \\cap B|}{|A \\cup B|} $\n",
    "\n",
    "onde $ |A \\cap B| $ é o número de itens classificados por ambos os usuários e $ |A \\cup B| $ é o número total de itens classificados por pelo menos um dos usuários.\n",
    "\n",
    "Vamos aplicar isso aos usuários Alice e Bob. Observando as classificações, Alice classificou \"Matrix\", \"Inception\" e \"Star Wars\", enquanto Bob classificou \"Matrix\", \"Star Wars\" e \"The Godfather\". \n",
    "\n",
    "Para calcular a interseção ($ A \\cap B $), contaríamos o número de filmes que ambos classificaram:\n",
    "\n",
    "- Alice e Bob classificaram ambos: \"Matrix\" e \"Star Wars\".\n",
    "\n",
    "Isso nos dá $ |A \\cap B| = 2 $.\n",
    "\n",
    "A união ($ A \\cup B $), por outro lado, seria o conjunto de todos os filmes classificados por Alice ou Bob:\n",
    "\n",
    "- Filmes classificados por Alice: \"Matrix\", \"Inception\" e \"Star Wars\".\n",
    "- Filmes classificados por Bob: \"Matrix\", \"Star Wars\" e \"The Godfather\".\n",
    "\n",
    "A união dos filmes é: \"Matrix\", \"Inception\", \"Star Wars\" e \"The Godfather\", então $ |A \\cup B| = 4 $.\n",
    "\n",
    "Portanto, a Similaridade de Jaccard entre Alice e Bob seria:\n",
    "\n",
    "$ \\text{Similaridade de Jaccard}(Alice, Bob) = \\frac{2}{4} = 0.5 $\n",
    "\n",
    "Este valor de $ 0.5 $ significa que há uma sobreposição de 50% nos filmes classificados por Alice e Bob. Em um sistema de recomendação, isso poderia ser usado para recomendar filmes que foram classificados por usuários semelhantes, mas que um dos usuários ainda não viu."
   ]
  },
  {
   "cell_type": "markdown",
   "metadata": {},
   "source": [
    "### Correlação de Pearson ($r$)"
   ]
  },
  {
   "cell_type": "markdown",
   "metadata": {},
   "source": [
    "A Correlação de Pearson é um método estatístico usado para medir a força de uma relação linear entre dois conjuntos de dados. Em sistemas de recomendação, ela pode ser usada para comparar as avaliações de dois usuários e ver o quão semelhantes são suas preferências.\n",
    "\n",
    "A fórmula para calcular a Correlação de Pearson entre dois conjuntos de dados $ A $ e $ B $ é a seguinte:\n",
    "\n",
    "$ r = \\frac{\\sum (A_i - \\bar{A}) (B_i - \\bar{B})}{\\sqrt{\\sum (A_i - \\bar{A})^2 \\sum (B_i - \\bar{B})^2}} $\n",
    "\n",
    "onde:\n",
    "- $ A_i $ e $ B_i $ são as avaliações para cada item $ i $ que ambos os usuários classificaram.\n",
    "- $ \\bar{A} $ e $ \\bar{B} $ são as médias das avaliações de $ A $ e $ B $, respectivamente.\n",
    "\n",
    "Para calcular a Correlação de Pearson entre Alice e Bob, primeiro identificamos os filmes que ambos classificaram, que são \"Matrix\" e \"Star Wars\". Agora, consideramos as avaliações que Alice e Bob deram a esses filmes:\n",
    "\n",
    "- Para \"Matrix\", Alice deu uma avaliação de 5 e Bob uma de 4.\n",
    "- Para \"Star Wars\", Alice deu uma avaliação de 4 e Bob uma de 5.\n",
    "\n",
    "As médias dessas avaliações são:\n",
    "\n",
    "- $ \\bar{A} = \\frac{5 + 4}{2} = 4.5 $\n",
    "- $ \\bar{B} = \\frac{4 + 5}{2} = 4.5 $\n",
    "\n",
    "Agora, calculamos a parte superior da fórmula de Pearson $( \\sum (A_i - \\bar{A}) (B_i - \\bar{B}) $):\n",
    "\n",
    "$ (5 - 4.5)(4 - 4.5) + (4 - 4.5)(5 - 4.5) = (0.5)(-0.5) + (-0.5)(0.5) = -0.25 - 0.25 = -0.5 $\n",
    "\n",
    "Em seguida, calculamos a parte inferior da fórmula $( \\sqrt{\\sum (A_i - \\bar{A})^2 \\sum (B_i - \\bar{B})^2} $):\n",
    "\n",
    "$ \\sqrt{(5 - 4.5)^2 + (4 - 4.5)^2} \\times \\sqrt{(4 - 4.5)^2 + (5 - 4.5)^2} = \\sqrt{(0.5)^2 + (-0.5)^2} \\times \\sqrt{(-0.5)^2 + (0.5)^2} $\n",
    "$ = \\sqrt{0.25 + 0.25} \\times \\sqrt{0.25 + 0.25} = \\sqrt{0.5} \\times \\sqrt{0.5} = 0.5 \\times 0.5 = 0.25 $\n",
    "\n",
    "Finalmente, a Correlação de Pearson entre Alice e Bob é:\n",
    "\n",
    "$ r = \\frac{-0.5}{0.25} = -2 $\n",
    "\n",
    "No entanto, este resultado não faz sentido no contexto da Correlação de Pearson porque o valor da correlação deve estar entre -1 e 1. O erro aqui surge do fato de que estamos lidando com uma amostra muito pequena (apenas dois filmes) para calcular a correlação. Em prática, precisaríamos de mais dados para obter uma medida significativa da Correlação de Pearson. Em um caso real, teríamos que considerar todas as avaliações comuns entre Alice e Bob para fazer esse cálculo."
   ]
  }
 ],
 "metadata": {
  "kernelspec": {
   "display_name": "Python 3",
   "language": "python",
   "name": "python3"
  },
  "language_info": {
   "codemirror_mode": {
    "name": "ipython",
    "version": 3
   },
   "file_extension": ".py",
   "mimetype": "text/x-python",
   "name": "python",
   "nbconvert_exporter": "python",
   "pygments_lexer": "ipython3",
   "version": "3.10.12"
  },
  "orig_nbformat": 4
 },
 "nbformat": 4,
 "nbformat_minor": 2
}

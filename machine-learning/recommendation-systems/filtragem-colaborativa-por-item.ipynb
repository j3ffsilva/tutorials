{
 "cells": [
  {
   "cell_type": "markdown",
   "metadata": {},
   "source": [
    "# Filtragem Colaborativa por Item"
   ]
  },
  {
   "cell_type": "markdown",
   "metadata": {},
   "source": [
    "## Introdução"
   ]
  },
  {
   "cell_type": "markdown",
   "metadata": {},
   "source": [
    "A filtragem colaborativa faz recomendações com base em padrões de comportamento passado de vários usuários, sem necessitar de qualquer informação adicional sobre os itens ou usuários. A ideia básica da filtragem colaborativa é criar uma matriz usuário-item. O conjunto de dados pode ser representado como uma matriz onde as linhas correspondem aos usuários e as colunas aos filmes. "
   ]
  },
  {
   "cell_type": "markdown",
   "metadata": {},
   "source": [
    "Matrix | Inception | Titanic | Star Wars | The Godfather\n",
    "--------|-----------|---------|-----------|--------------\n",
    "Alice    |     5     |    3    |     4     |      0\n",
    "Bob      |     4     |    0    |     5     |      3\n",
    "Carol    |     3     |    5    |     4     |      4\n",
    "Dave     |     0     |    2    |     0     |      5\n",
    "Eve      |     2     |    5    |     0     |      4"
   ]
  },
  {
   "cell_type": "markdown",
   "metadata": {},
   "source": [
    "## Ingestão dos dados"
   ]
  },
  {
   "cell_type": "markdown",
   "metadata": {},
   "source": [
    "**Bibliotecas**"
   ]
  },
  {
   "cell_type": "code",
   "execution_count": 32,
   "metadata": {},
   "outputs": [],
   "source": [
    "from sklearn.neighbors import NearestNeighbors\n",
    "import pandas as pd\n",
    "import numpy as np"
   ]
  },
  {
   "cell_type": "code",
   "execution_count": 33,
   "metadata": {},
   "outputs": [
    {
     "data": {
      "text/html": [
       "<div>\n",
       "<style scoped>\n",
       "    .dataframe tbody tr th:only-of-type {\n",
       "        vertical-align: middle;\n",
       "    }\n",
       "\n",
       "    .dataframe tbody tr th {\n",
       "        vertical-align: top;\n",
       "    }\n",
       "\n",
       "    .dataframe thead th {\n",
       "        text-align: right;\n",
       "    }\n",
       "</style>\n",
       "<table border=\"1\" class=\"dataframe\">\n",
       "  <thead>\n",
       "    <tr style=\"text-align: right;\">\n",
       "      <th></th>\n",
       "      <th>Inception</th>\n",
       "      <th>Titanic</th>\n",
       "      <th>Star Wars</th>\n",
       "      <th>The Godfather</th>\n",
       "    </tr>\n",
       "  </thead>\n",
       "  <tbody>\n",
       "    <tr>\n",
       "      <th>Alice</th>\n",
       "      <td>5.0</td>\n",
       "      <td>3.0</td>\n",
       "      <td>4.0</td>\n",
       "      <td>NaN</td>\n",
       "    </tr>\n",
       "    <tr>\n",
       "      <th>Bob</th>\n",
       "      <td>4.0</td>\n",
       "      <td>NaN</td>\n",
       "      <td>5.0</td>\n",
       "      <td>3.0</td>\n",
       "    </tr>\n",
       "  </tbody>\n",
       "</table>\n",
       "</div>"
      ],
      "text/plain": [
       "       Inception  Titanic  Star Wars  The Godfather\n",
       "Alice        5.0      3.0        4.0            NaN\n",
       "Bob          4.0      NaN        5.0            3.0"
      ]
     },
     "execution_count": 33,
     "metadata": {},
     "output_type": "execute_result"
    }
   ],
   "source": [
    "# Dados de entrada\n",
    "data = {\n",
    "    'Inception': [5, 4, 3, np.nan, 2],\n",
    "    'Titanic': [3, np.nan, 5, 2, 5],\n",
    "    'Star Wars': [4, 5, 4, np.nan, np.nan],\n",
    "    'The Godfather': [np.nan, 3, 4, 5, 4]\n",
    "}\n",
    "\n",
    "# Cria um dataframe do pandas\n",
    "df = pd.DataFrame(data, index=['Alice', 'Bob', 'Carol', 'Dave', 'Eve'])\n",
    "df.head(2)"
   ]
  },
  {
   "cell_type": "markdown",
   "metadata": {},
   "source": [
    "Para fazer a Filtragem Colaborativa por Item, necessitamos transpor essa matriz de forma que os filmes sejam as linhas e os usuários, as colunas."
   ]
  },
  {
   "cell_type": "code",
   "execution_count": 34,
   "metadata": {},
   "outputs": [
    {
     "data": {
      "text/html": [
       "<div>\n",
       "<style scoped>\n",
       "    .dataframe tbody tr th:only-of-type {\n",
       "        vertical-align: middle;\n",
       "    }\n",
       "\n",
       "    .dataframe tbody tr th {\n",
       "        vertical-align: top;\n",
       "    }\n",
       "\n",
       "    .dataframe thead th {\n",
       "        text-align: right;\n",
       "    }\n",
       "</style>\n",
       "<table border=\"1\" class=\"dataframe\">\n",
       "  <thead>\n",
       "    <tr style=\"text-align: right;\">\n",
       "      <th></th>\n",
       "      <th>Alice</th>\n",
       "      <th>Bob</th>\n",
       "      <th>Carol</th>\n",
       "      <th>Dave</th>\n",
       "      <th>Eve</th>\n",
       "    </tr>\n",
       "  </thead>\n",
       "  <tbody>\n",
       "    <tr>\n",
       "      <th>Inception</th>\n",
       "      <td>5.0</td>\n",
       "      <td>4.0</td>\n",
       "      <td>3.0</td>\n",
       "      <td>NaN</td>\n",
       "      <td>2.0</td>\n",
       "    </tr>\n",
       "    <tr>\n",
       "      <th>Titanic</th>\n",
       "      <td>3.0</td>\n",
       "      <td>NaN</td>\n",
       "      <td>5.0</td>\n",
       "      <td>2.0</td>\n",
       "      <td>5.0</td>\n",
       "    </tr>\n",
       "    <tr>\n",
       "      <th>Star Wars</th>\n",
       "      <td>4.0</td>\n",
       "      <td>5.0</td>\n",
       "      <td>4.0</td>\n",
       "      <td>NaN</td>\n",
       "      <td>NaN</td>\n",
       "    </tr>\n",
       "    <tr>\n",
       "      <th>The Godfather</th>\n",
       "      <td>NaN</td>\n",
       "      <td>3.0</td>\n",
       "      <td>4.0</td>\n",
       "      <td>5.0</td>\n",
       "      <td>4.0</td>\n",
       "    </tr>\n",
       "  </tbody>\n",
       "</table>\n",
       "</div>"
      ],
      "text/plain": [
       "               Alice  Bob  Carol  Dave  Eve\n",
       "Inception        5.0  4.0    3.0   NaN  2.0\n",
       "Titanic          3.0  NaN    5.0   2.0  5.0\n",
       "Star Wars        4.0  5.0    4.0   NaN  NaN\n",
       "The Godfather    NaN  3.0    4.0   5.0  4.0"
      ]
     },
     "execution_count": 34,
     "metadata": {},
     "output_type": "execute_result"
    }
   ],
   "source": [
    "# Transpõe o dataframe\n",
    "df = df.transpose()\n",
    "df"
   ]
  },
  {
   "cell_type": "markdown",
   "metadata": {},
   "source": [
    "## Preparação dos Dados"
   ]
  },
  {
   "cell_type": "code",
   "execution_count": 8,
   "metadata": {},
   "outputs": [
    {
     "data": {
      "text/html": [
       "<div>\n",
       "<style scoped>\n",
       "    .dataframe tbody tr th:only-of-type {\n",
       "        vertical-align: middle;\n",
       "    }\n",
       "\n",
       "    .dataframe tbody tr th {\n",
       "        vertical-align: top;\n",
       "    }\n",
       "\n",
       "    .dataframe thead th {\n",
       "        text-align: right;\n",
       "    }\n",
       "</style>\n",
       "<table border=\"1\" class=\"dataframe\">\n",
       "  <thead>\n",
       "    <tr style=\"text-align: right;\">\n",
       "      <th></th>\n",
       "      <th>Alice</th>\n",
       "      <th>Bob</th>\n",
       "      <th>Carol</th>\n",
       "      <th>Dave</th>\n",
       "      <th>Eve</th>\n",
       "    </tr>\n",
       "  </thead>\n",
       "  <tbody>\n",
       "    <tr>\n",
       "      <th>Inception</th>\n",
       "      <td>5.0</td>\n",
       "      <td>4.0</td>\n",
       "      <td>3.0</td>\n",
       "      <td>0.0</td>\n",
       "      <td>2.0</td>\n",
       "    </tr>\n",
       "    <tr>\n",
       "      <th>Titanic</th>\n",
       "      <td>3.0</td>\n",
       "      <td>0.0</td>\n",
       "      <td>5.0</td>\n",
       "      <td>2.0</td>\n",
       "      <td>5.0</td>\n",
       "    </tr>\n",
       "    <tr>\n",
       "      <th>Star Wars</th>\n",
       "      <td>4.0</td>\n",
       "      <td>5.0</td>\n",
       "      <td>4.0</td>\n",
       "      <td>0.0</td>\n",
       "      <td>0.0</td>\n",
       "    </tr>\n",
       "    <tr>\n",
       "      <th>The Godfather</th>\n",
       "      <td>0.0</td>\n",
       "      <td>3.0</td>\n",
       "      <td>4.0</td>\n",
       "      <td>5.0</td>\n",
       "      <td>4.0</td>\n",
       "    </tr>\n",
       "  </tbody>\n",
       "</table>\n",
       "</div>"
      ],
      "text/plain": [
       "               Alice  Bob  Carol  Dave  Eve\n",
       "Inception        5.0  4.0    3.0   0.0  2.0\n",
       "Titanic          3.0  0.0    5.0   2.0  5.0\n",
       "Star Wars        4.0  5.0    4.0   0.0  0.0\n",
       "The Godfather    0.0  3.0    4.0   5.0  4.0"
      ]
     },
     "execution_count": 8,
     "metadata": {},
     "output_type": "execute_result"
    }
   ],
   "source": [
    "# Substituir NaN por 0\n",
    "df_filled = df.fillna(0)\n",
    "df_filled"
   ]
  },
  {
   "cell_type": "markdown",
   "metadata": {},
   "source": [
    "Normalização das avaliações. Essa normalização ajuda a lidar com o viés de que diferentes usuários podem ter diferentes escalas de classificação. Por exemplo, um usuário pode ser geralmente mais crítico e dar classificações mais baixas, enquanto outro pode dar classificações mais altas. Normalizar os dados dessa maneira permite que o sistema de recomendação lide melhor com essas diferenças de escala."
   ]
  },
  {
   "cell_type": "code",
   "execution_count": 10,
   "metadata": {},
   "outputs": [
    {
     "data": {
      "text/html": [
       "<div>\n",
       "<style scoped>\n",
       "    .dataframe tbody tr th:only-of-type {\n",
       "        vertical-align: middle;\n",
       "    }\n",
       "\n",
       "    .dataframe tbody tr th {\n",
       "        vertical-align: top;\n",
       "    }\n",
       "\n",
       "    .dataframe thead th {\n",
       "        text-align: right;\n",
       "    }\n",
       "</style>\n",
       "<table border=\"1\" class=\"dataframe\">\n",
       "  <thead>\n",
       "    <tr style=\"text-align: right;\">\n",
       "      <th></th>\n",
       "      <th>Alice</th>\n",
       "      <th>Bob</th>\n",
       "      <th>Carol</th>\n",
       "      <th>Dave</th>\n",
       "      <th>Eve</th>\n",
       "    </tr>\n",
       "  </thead>\n",
       "  <tbody>\n",
       "    <tr>\n",
       "      <th>Inception</th>\n",
       "      <td>2.2</td>\n",
       "      <td>1.2</td>\n",
       "      <td>0.2</td>\n",
       "      <td>-2.8</td>\n",
       "      <td>-0.8</td>\n",
       "    </tr>\n",
       "    <tr>\n",
       "      <th>Titanic</th>\n",
       "      <td>0.0</td>\n",
       "      <td>-3.0</td>\n",
       "      <td>2.0</td>\n",
       "      <td>-1.0</td>\n",
       "      <td>2.0</td>\n",
       "    </tr>\n",
       "    <tr>\n",
       "      <th>Star Wars</th>\n",
       "      <td>1.4</td>\n",
       "      <td>2.4</td>\n",
       "      <td>1.4</td>\n",
       "      <td>-2.6</td>\n",
       "      <td>-2.6</td>\n",
       "    </tr>\n",
       "    <tr>\n",
       "      <th>The Godfather</th>\n",
       "      <td>-3.2</td>\n",
       "      <td>-0.2</td>\n",
       "      <td>0.8</td>\n",
       "      <td>1.8</td>\n",
       "      <td>0.8</td>\n",
       "    </tr>\n",
       "  </tbody>\n",
       "</table>\n",
       "</div>"
      ],
      "text/plain": [
       "               Alice  Bob  Carol  Dave  Eve\n",
       "Inception        2.2  1.2    0.2  -2.8 -0.8\n",
       "Titanic          0.0 -3.0    2.0  -1.0  2.0\n",
       "Star Wars        1.4  2.4    1.4  -2.6 -2.6\n",
       "The Godfather   -3.2 -0.2    0.8   1.8  0.8"
      ]
     },
     "execution_count": 10,
     "metadata": {},
     "output_type": "execute_result"
    }
   ],
   "source": [
    "# Normalizar os dados subtraindo a média de cada usuário\n",
    "normalized_df = df_filled.sub(df_filled.mean(axis=1), axis=0)\n",
    "normalized_df"
   ]
  },
  {
   "cell_type": "markdown",
   "metadata": {},
   "source": [
    "## Desenvolvimento do Modelo"
   ]
  },
  {
   "cell_type": "markdown",
   "metadata": {},
   "source": [
    "### KNN"
   ]
  },
  {
   "cell_type": "code",
   "execution_count": 22,
   "metadata": {},
   "outputs": [],
   "source": [
    "# Usar o algoritmo KNN com a métrica de similaridade do cosseno\n",
    "knn = NearestNeighbors(metric='cosine', n_neighbors=3, n_jobs=-1)\n",
    "\n",
    "# Ajustar o modelo com os dados normalizados\n",
    "knn.fit(normalized_df)\n",
    "\n",
    "# Calcular as distâncias e os índices dos vizinhos mais próximos para todos os usuários\n",
    "distances, indices = knn.kneighbors(normalized_df)"
   ]
  },
  {
   "cell_type": "code",
   "execution_count": 23,
   "metadata": {},
   "outputs": [
    {
     "name": "stdout",
     "output_type": "stream",
     "text": [
      "[[2.22044605e-16 1.58120861e-01 1.12253577e+00]\n",
      " [0.00000000e+00 8.77464230e-01 1.12253577e+00]\n",
      " [1.11022302e-16 1.58120861e-01 1.34254513e+00]\n",
      " [1.11022302e-16 8.77464230e-01 1.57204608e+00]]\n"
     ]
    }
   ],
   "source": [
    "print(distances)"
   ]
  },
  {
   "cell_type": "code",
   "execution_count": 24,
   "metadata": {},
   "outputs": [
    {
     "name": "stdout",
     "output_type": "stream",
     "text": [
      "[[0 2 1]\n",
      " [1 3 0]\n",
      " [2 0 1]\n",
      " [3 1 2]]\n"
     ]
    }
   ],
   "source": [
    "print(indices)"
   ]
  },
  {
   "cell_type": "markdown",
   "metadata": {},
   "source": [
    "### Interpretando os resultados"
   ]
  },
  {
   "cell_type": "markdown",
   "metadata": {},
   "source": [
    "#### `distances`"
   ]
  },
  {
   "cell_type": "markdown",
   "metadata": {},
   "source": [
    "A matriz `distances` contém os valores da distância do cosseno entre cada ponto e seus vizinhos mais próximos. As distâncias são medidas em um intervalo de 0 a 2, onde 0 indica similaridade total (ou seja, o ângulo entre os dois vetores é 0 graus, então eles são idênticos) e 2 indica dissimilaridade total (ou seja, os vetores são opostos). Aqui, um valor muito próximo de zero, como `2.22044605e-16`, é numericamente equivalente a zero devido à precisão do ponto flutuante e indica que o ponto é o mais próximo possível de si mesmo.\n",
    "\n",
    "Cada linha na matriz `distances` corresponde a um filme, e cada coluna é a distância desse ponto aos seus `k` vizinhos mais próximos. Escolhemos `k=3`, portanto, há três colunas.\n",
    "\n",
    "Por exemplo, para o primeiro filme (`Inception`), a distância para si mesmo é ~0 (a precisão do ponto flutuante faz aparecer como `2.22044605e-16`), para o segundo vizinho mais próximo é `0.158120861` e para o terceiro é `1.12253577`."
   ]
  },
  {
   "cell_type": "markdown",
   "metadata": {},
   "source": [
    "#### `indices`"
   ]
  },
  {
   "cell_type": "markdown",
   "metadata": {},
   "source": [
    "A matriz `indices` contém os índices dos vizinhos mais próximos para cada ponto. Esses índices correspondem à posição original dos filmes na matriz `df` transposta.\n",
    "\n",
    "Cada linha em `indices` representa os índices dos vizinhos mais próximos de um filme. A primeira coluna é o índice do próprio filme (já que a distância mais curta para um ponto é sempre para si mesmo), e as colunas subsequentes são os índices dos vizinhos mais próximos.\n",
    "\n",
    "No exemplo, para o primeiro filme (`Inception`), os índices dos vizinhos mais próximos são:\n",
    "- `0` que é ele mesmo (`Inception`),\n",
    "- `2` que é `Star Wars`,\n",
    "- `1` que é `Titanic`.\n",
    "\n",
    "Isso significa que, com base nas avaliações que foram normalizadas e segundo a métrica de similaridade do cosseno, `Star Wars` é o filme mais similar a `Inception`, seguido por `Titanic`.\n",
    "\n",
    "As distâncias e índices são consistentes entre si, ou seja, a distância na matriz `distances` na posição [0, 1] é a distância do filme `Inception` para o filme `Star Wars`, cujo índice é encontrado na matriz `indices` na posição [0, 1].\n",
    "\n",
    "Quando você usa essas informações para recomendar filmes, você olharia para os vizinhos mais próximos de um filme que um usuário gosta para encontrar outros filmes que eles também podem gostar."
   ]
  },
  {
   "cell_type": "markdown",
   "metadata": {},
   "source": [
    "## Função de Recomendação"
   ]
  },
  {
   "cell_type": "markdown",
   "metadata": {},
   "source": [
    "### Passo-a-passo"
   ]
  },
  {
   "cell_type": "code",
   "execution_count": 16,
   "metadata": {},
   "outputs": [],
   "source": [
    "user_index = 0 # Alice\n",
    "item_index = 3 # The Godfather"
   ]
  },
  {
   "cell_type": "code",
   "execution_count": 17,
   "metadata": {},
   "outputs": [
    {
     "data": {
      "text/plain": [
       "array([1, 2])"
      ]
     },
     "execution_count": 17,
     "metadata": {},
     "output_type": "execute_result"
    }
   ],
   "source": [
    "neighbor_indices = indices[item_index, 1:]  # Ignora o próprio item. A primeira coluna é o próprio filme\n",
    "neighbor_indices"
   ]
  },
  {
   "cell_type": "code",
   "execution_count": 26,
   "metadata": {},
   "outputs": [
    {
     "data": {
      "text/plain": [
       "Titanic      0.0\n",
       "Star Wars    1.4\n",
       "Name: Alice, dtype: float64"
      ]
     },
     "execution_count": 26,
     "metadata": {},
     "output_type": "execute_result"
    }
   ],
   "source": [
    "# Obtém as classificações que os usuários deram para os itens vizinhos. \n",
    "neighbor_ratings = normalized_df.iloc[neighbor_indices, user_index]\n",
    "neighbor_ratings"
   ]
  },
  {
   "cell_type": "markdown",
   "metadata": {},
   "source": [
    "> A **similaridade** do cosseno, por definição, varia de -1 a 1. Um valor de 1 significa que dois vetores estão na mesma direção, um valor de 0 significa que são ortogonais (independentes), e um valor de -1 significa que estão em direções opostas. No contexto de sistemas de recomendação e outras aplicações de aprendizado de máquina, a similaridade do cosseno é muitas vezes usada para medir a similaridade entre dois vetores de características, com 1 sendo a similaridade máxima e -1 a mínima.\n",
    "\n",
    "> Por outro lado, a **distância** do cosseno, que é uma função da similaridade do cosseno, varia de 0 a 2. A distância do cosseno é calculada como `1 - similaridade_do_cosseno`, transformando a escala de -1 a 1 para uma escala de 0 a 2. Um valor de 0 indica que os vetores são idênticos, enquanto um valor de 2 indica que eles são completamente diferentes. A distância do cosseno é usada porque os algoritmos de aprendizado de máquina frequentemente requerem uma função de distância que seja não negativa e que obedeça a desigualdade triangular.\n",
    "\n",
    "> No nosso caso, como estamos trabalhando com a função `NearestNeighbors` do `scikit-learn`, que busca os vizinhos mais próximos baseando-se em uma função de distância, daí a razão dos valores variarem de 0 a 2. "
   ]
  },
  {
   "cell_type": "code",
   "execution_count": 27,
   "metadata": {},
   "outputs": [
    {
     "data": {
      "text/plain": [
       "-0.4495103112546899"
      ]
     },
     "execution_count": 27,
     "metadata": {},
     "output_type": "execute_result"
    }
   ],
   "source": [
    "\"\"\"\n",
    "`np.sum(1 - distances[item_index, 1:])`:\n",
    "   - `distances[item_index, 1:]` obtém todas as distâncias do cosseno dos vizinhos mais próximos para um item específico, excluindo a primeira distância, que é a distância do item para si mesmo (sempre 0 após a subtração).\n",
    "   - `1 - distances[item_index, 1:]` converte distâncias do cosseno em similaridade do cosseno, já que a distância do cosseno é `1 - similaridade`.\n",
    "   - `np.sum(1 - distances[item_index, 1:])` soma essas similaridades para usar como pesos na média ponderada.\n",
    "\"\"\"\n",
    "sum_weights = np.sum(1 - distances[item_index, 1:])  # Subtrai de 1 porque a distância do cosseno é 1 - similaridade\n",
    "sum_weights"
   ]
  },
  {
   "cell_type": "code",
   "execution_count": 28,
   "metadata": {},
   "outputs": [
    {
     "data": {
      "text/plain": [
       "-0.800864514245121"
      ]
     },
     "execution_count": 28,
     "metadata": {},
     "output_type": "execute_result"
    }
   ],
   "source": [
    "\"\"\"\n",
    "`weighted_sum = np.sum((1 - distances[item_index, 1:]) * neighbor_ratings)`:\n",
    "   - `neighbor_ratings` é o vetor que contém as classificações dos vizinhos mais próximos para o item em questão.\n",
    "   - `(1 - distances[item_index, 1:]) * neighbor_ratings` calcula o produto da similaridade de cada vizinho com sua respectiva classificação, que é uma forma de ponderar as classificações com base em quão semelhantes esses vizinhos são ao item de interesse.\n",
    "   - `np.sum((1 - distances[item_index, 1:]) * neighbor_ratings)` soma esses produtos ponderados para obter uma soma ponderada total das classificações.\n",
    "\"\"\"\n",
    "weighted_sum = np.sum((1 - distances[item_index, 1:]) * neighbor_ratings)\n",
    "weighted_sum"
   ]
  },
  {
   "cell_type": "code",
   "execution_count": 29,
   "metadata": {},
   "outputs": [
    {
     "data": {
      "text/plain": [
       "1.7816376937154526"
      ]
     },
     "execution_count": 29,
     "metadata": {},
     "output_type": "execute_result"
    }
   ],
   "source": [
    "\"\"\"\n",
    "`predicted_rating = weighted_sum / sum_weights`:\n",
    "   - Esta é uma média ponderada das classificações dos vizinhos, onde as ponderações são baseadas nas similaridades do cosseno (convertidas de distâncias do cosseno).\n",
    "   - `weighted_sum / sum_weights` divide a soma ponderada pela soma dos pesos (similaridades), para calcular a classificação prevista para o item.\n",
    "\"\"\"\n",
    "predicted_rating = weighted_sum / sum_weights\n",
    "predicted_rating"
   ]
  },
  {
   "cell_type": "markdown",
   "metadata": {},
   "source": [
    "### Colocando tudo em uma função"
   ]
  },
  {
   "cell_type": "code",
   "execution_count": null,
   "metadata": {},
   "outputs": [],
   "source": [
    "# A função para prever a classificação precisa ser ajustada para a filtragem colaborativa por item\n",
    "def predict_rating(item_index, user_index, data, indices):\n",
    "    # Seleciona os índices dos itens mais próximos (vizinhos) para o item alvo.\n",
    "    neighbor_indices = indices[item_index, 1:]  # Ignora o próprio item\n",
    "\n",
    "    # Obtém as classificações que os usuários deram para os itens vizinhos. \n",
    "    neighbor_ratings = data.iloc[neighbor_indices, user_index]\n",
    "\n",
    "    # Calcular a média ponderada das classificações dos vizinhos\n",
    "    # As distâncias servem como pesos inversos para a média ponderada\n",
    "    sum_weights = np.sum(1 - distances[item_index, 1:])  # Subtrai de 1 porque a distância do cosseno é 1 - similaridade\n",
    "    weighted_sum = np.sum((1 - distances[item_index, 1:]) * neighbor_ratings)\n",
    "    \n",
    "    if sum_weights == 0:  # Evita divisão por zero\n",
    "        predicted_rating = 0\n",
    "    else:\n",
    "        predicted_rating = weighted_sum / sum_weights\n",
    "\n",
    "    return predicted_rating\n",
    "\n",
    "\n",
    "user_index = 0 # Alice\n",
    "item_index = 3 # The Godfather\n",
    "\n",
    "# Prever a classificação para Alice (índice 0) para 'The Godfather' (índice 3)\n",
    "predicted_rating_for_alice = predict_rating(item_index, user_index, df_filled, indices)\n",
    "\n",
    "predicted_rating_for_alice"
   ]
  }
 ],
 "metadata": {
  "kernelspec": {
   "display_name": "Python 3",
   "language": "python",
   "name": "python3"
  },
  "language_info": {
   "codemirror_mode": {
    "name": "ipython",
    "version": 3
   },
   "file_extension": ".py",
   "mimetype": "text/x-python",
   "name": "python",
   "nbconvert_exporter": "python",
   "pygments_lexer": "ipython3",
   "version": "3.10.12"
  },
  "orig_nbformat": 4
 },
 "nbformat": 4,
 "nbformat_minor": 2
}

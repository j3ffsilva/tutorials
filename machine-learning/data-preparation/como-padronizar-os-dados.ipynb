{
 "cells": [
  {
   "cell_type": "markdown",
   "metadata": {},
   "source": [
    "# Como padronizar os dados?"
   ]
  },
  {
   "cell_type": "markdown",
   "metadata": {},
   "source": [
    "A padronização dos dados é uma técnica de pré-processamento que envolve reescalar as características (features) dos dados de modo que elas tenham uma média (ou valor esperado) de 0 e um desvio padrão de 1. A padronização é um caso especial de escalonamento ou normalização dos dados."
   ]
  },
  {
   "cell_type": "markdown",
   "metadata": {},
   "source": [
    "A fórmula matemática para a padronização é:\n",
    "\n",
    "$$\n",
    "z = \\frac{x - \\mu}{\\sigma}\n",
    "$$\n",
    "\n",
    "Onde:\n",
    "\n",
    "- $z$ representa o valor padronizado\n",
    "- $x$ é o valor original\n",
    "- $\\mu$ é a média dos valores\n",
    "- $\\sigma$ é o desvio padrão dos valores"
   ]
  },
  {
   "cell_type": "markdown",
   "metadata": {},
   "source": [
    "## Na prática"
   ]
  },
  {
   "cell_type": "markdown",
   "metadata": {},
   "source": [
    "### Criando um dataset de exemplo"
   ]
  },
  {
   "cell_type": "markdown",
   "metadata": {},
   "source": [
    "Vamos criar um conjunto de dados com idades e salários. As idades variam de 20 a 60 anos, enquanto os salários variam de $30.000 a $100.000."
   ]
  },
  {
   "cell_type": "code",
   "execution_count": 1,
   "metadata": {},
   "outputs": [
    {
     "name": "stdout",
     "output_type": "stream",
     "text": [
      "   Idade  Salário\n",
      "0     58    65222\n",
      "1     48    93335\n",
      "2     34    40965\n",
      "3     27    54538\n",
      "4     40    38110\n"
     ]
    }
   ],
   "source": [
    "import numpy as np\n",
    "import pandas as pd\n",
    "\n",
    "# Seed para reprodutibilidade\n",
    "np.random.seed(42)\n",
    "\n",
    "# Criando dados de exemplo\n",
    "idades = np.random.randint(20, 60, 100)\n",
    "salarios = np.random.randint(30000, 100000, 100)\n",
    "\n",
    "# Criando um DataFrame\n",
    "df = pd.DataFrame({'Idade': idades, 'Salário': salarios})\n",
    "\n",
    "print(df.head())"
   ]
  },
  {
   "cell_type": "markdown",
   "metadata": {},
   "source": [
    "### Usando o `StandardScaler` para padronizar os dados`"
   ]
  },
  {
   "cell_type": "code",
   "execution_count": 2,
   "metadata": {},
   "outputs": [
    {
     "name": "stdout",
     "output_type": "stream",
     "text": [
      "      Idade   Salário\n",
      "0  1.670713 -0.057025\n",
      "1  0.801003  1.290892\n",
      "2 -0.416591 -1.220060\n",
      "3 -1.025388 -0.569284\n",
      "4  0.105235 -1.356947\n"
     ]
    }
   ],
   "source": [
    "from sklearn.preprocessing import StandardScaler\n",
    "\n",
    "# Criando o objeto StandardScaler\n",
    "scaler = StandardScaler()\n",
    "\n",
    "# Ajustando e transformando os dados\n",
    "df_scaled = pd.DataFrame(scaler.fit_transform(df), columns=df.columns)\n",
    "\n",
    "print(df_scaled.head())\n"
   ]
  }
 ],
 "metadata": {
  "kernelspec": {
   "display_name": "Python 3",
   "language": "python",
   "name": "python3"
  },
  "language_info": {
   "codemirror_mode": {
    "name": "ipython",
    "version": 3
   },
   "file_extension": ".py",
   "mimetype": "text/x-python",
   "name": "python",
   "nbconvert_exporter": "python",
   "pygments_lexer": "ipython3",
   "version": "3.10.12"
  },
  "orig_nbformat": 4
 },
 "nbformat": 4,
 "nbformat_minor": 2
}

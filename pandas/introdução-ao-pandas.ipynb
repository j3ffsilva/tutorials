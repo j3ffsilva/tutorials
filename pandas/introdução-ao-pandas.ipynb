{
 "cells": [
  {
   "cell_type": "markdown",
   "metadata": {},
   "source": [
    "# Introdução ao Pandas"
   ]
  },
  {
   "cell_type": "markdown",
   "metadata": {},
   "source": [
    "A biblioteca Pandas é uma popular ferramenta de manipulação e análise de dados em Python. Ela fornece estruturas de dados rápidas, flexíveis e expressivas, projetadas para tornar o trabalho com dados \"relacionais\" ou \"rotulados\" tanto fáceis quanto intuitivos. É uma ferramenta fundamental para a análise de dados e modelagem estatística em Python."
   ]
  },
  {
   "cell_type": "markdown",
   "metadata": {},
   "source": [
    "## Instalação"
   ]
  },
  {
   "cell_type": "code",
   "execution_count": 1,
   "metadata": {},
   "outputs": [
    {
     "name": "stdout",
     "output_type": "stream",
     "text": [
      "Defaulting to user installation because normal site-packages is not writeable\n",
      "Requirement already satisfied: pandas in /home/jeff/.local/lib/python3.10/site-packages (2.0.3)\n",
      "Requirement already satisfied: python-dateutil>=2.8.2 in /home/jeff/.local/lib/python3.10/site-packages (from pandas) (2.8.2)\n",
      "Requirement already satisfied: pytz>=2020.1 in /home/jeff/.local/lib/python3.10/site-packages (from pandas) (2023.3)\n",
      "Requirement already satisfied: tzdata>=2022.1 in /home/jeff/.local/lib/python3.10/site-packages (from pandas) (2023.3)\n",
      "Requirement already satisfied: numpy>=1.21.0 in /home/jeff/.local/lib/python3.10/site-packages (from pandas) (1.25.1)\n",
      "Requirement already satisfied: six>=1.5 in /usr/lib/python3/dist-packages (from python-dateutil>=2.8.2->pandas) (1.16.0)\n",
      "Note: you may need to restart the kernel to use updated packages.\n"
     ]
    }
   ],
   "source": [
    "# Como instalar o pandas no seu ambiente local\n",
    "%pip install pandas\n",
    "\n",
    "# No Colab utilizamos o ! para instalar um framework como o pandas\n",
    "# No caso o Pandas já está previamente instalado\n",
    "# !pip install pandas"
   ]
  },
  {
   "cell_type": "markdown",
   "metadata": {},
   "source": [
    "## Biblioteca"
   ]
  },
  {
   "cell_type": "code",
   "execution_count": 4,
   "metadata": {},
   "outputs": [],
   "source": [
    "import pandas as pd"
   ]
  },
  {
   "cell_type": "markdown",
   "metadata": {},
   "source": [
    "## Criação de `DataFrames`"
   ]
  },
  {
   "cell_type": "markdown",
   "metadata": {},
   "source": [
    "### Criando um `DataFrame` a partir de um dicionário"
   ]
  },
  {
   "cell_type": "code",
   "execution_count": 6,
   "metadata": {},
   "outputs": [
    {
     "data": {
      "text/html": [
       "<div>\n",
       "<style scoped>\n",
       "    .dataframe tbody tr th:only-of-type {\n",
       "        vertical-align: middle;\n",
       "    }\n",
       "\n",
       "    .dataframe tbody tr th {\n",
       "        vertical-align: top;\n",
       "    }\n",
       "\n",
       "    .dataframe thead th {\n",
       "        text-align: right;\n",
       "    }\n",
       "</style>\n",
       "<table border=\"1\" class=\"dataframe\">\n",
       "  <thead>\n",
       "    <tr style=\"text-align: right;\">\n",
       "      <th></th>\n",
       "      <th>Nome</th>\n",
       "      <th>Idade</th>\n",
       "      <th>Cidade</th>\n",
       "    </tr>\n",
       "  </thead>\n",
       "  <tbody>\n",
       "    <tr>\n",
       "      <th>0</th>\n",
       "      <td>Alice</td>\n",
       "      <td>25</td>\n",
       "      <td>Nova York</td>\n",
       "    </tr>\n",
       "    <tr>\n",
       "      <th>1</th>\n",
       "      <td>Bob</td>\n",
       "      <td>30</td>\n",
       "      <td>Los Angeles</td>\n",
       "    </tr>\n",
       "    <tr>\n",
       "      <th>2</th>\n",
       "      <td>Charlie</td>\n",
       "      <td>35</td>\n",
       "      <td>Chicago</td>\n",
       "    </tr>\n",
       "  </tbody>\n",
       "</table>\n",
       "</div>"
      ],
      "text/plain": [
       "      Nome  Idade       Cidade\n",
       "0    Alice     25    Nova York\n",
       "1      Bob     30  Los Angeles\n",
       "2  Charlie     35      Chicago"
      ]
     },
     "execution_count": 6,
     "metadata": {},
     "output_type": "execute_result"
    }
   ],
   "source": [
    "data = {\n",
    "    'Nome': ['Alice', 'Bob', 'Charlie'],\n",
    "    'Idade': [25, 30, 35],\n",
    "    'Cidade': ['Nova York', 'Los Angeles', 'Chicago']\n",
    "}\n",
    "\n",
    "df = pd.DataFrame(data)\n",
    "\n",
    "# O último comando é impresso por padrâo nos cadernos Jupyter \n",
    "df.head() # Mostra as primeiras 5 linhas do DataFrame"
   ]
  },
  {
   "cell_type": "markdown",
   "metadata": {},
   "source": [
    "#### PRATIQUE"
   ]
  },
  {
   "cell_type": "markdown",
   "metadata": {},
   "source": [
    "**[EX01]** Crie um DataFrame a partir do seguinte dicionário e exiba as cinco primeiras linhas."
   ]
  },
  {
   "cell_type": "code",
   "execution_count": null,
   "metadata": {},
   "outputs": [],
   "source": [
    "data = {\n",
    "    'A': [1, 2, 3, 4, 5],\n",
    "    'B': [5, 6, 7, 8, 9],\n",
    "    'C': ['p', 'q', 'r', 's', 't']\n",
    "}\n",
    "# Escreva seu código aqui"
   ]
  },
  {
   "cell_type": "markdown",
   "metadata": {},
   "source": [
    "**[EX002]** Crie um DataFrame a partir das seguintes listas e defina os nomes das colunas como \"Nome\", \"Idade\", e \"País\"."
   ]
  },
  {
   "cell_type": "code",
   "execution_count": null,
   "metadata": {},
   "outputs": [],
   "source": [
    "nomes = ['Alice', 'Bob', 'Charlie', 'David']\n",
    "idades = [25, 30, 35, 40]\n",
    "paises = ['Brasil', 'EUA', 'Canadá', 'Austrália']\n",
    "\n",
    "# Escreva seu código aqui\n"
   ]
  },
  {
   "cell_type": "markdown",
   "metadata": {},
   "source": [
    "**[EX003]** Salve o conteúdo a seguir em um arquivo chamado `dados.csv` no diretório atual. Então lei aesse arquivo com o Pandas e crie um `DataFrame`. Em seguida, exiba as informações básicas do `DataFrame`, como as primeiras linhas, últimas linhas e um resumo estatístico."
   ]
  },
  {
   "cell_type": "markdown",
   "metadata": {},
   "source": [
    "```csv\n",
    "nome,matematica,ciencias,ingles,historia\n",
    "Alice,90,85,78,88\n",
    "Bob,75,80,85,76\n",
    "Charlie,82,76,89,90\n",
    "David,92,89,79,87\n",
    "Eva,84,78,85,85\n",
    "Frank,77,90,82,76\n",
    "Grace,88,82,80,84\n",
    "Helen,74,69,76,85\n",
    "```"
   ]
  },
  {
   "cell_type": "code",
   "execution_count": null,
   "metadata": {},
   "outputs": [],
   "source": [
    "# Escreva seu código aqui"
   ]
  },
  {
   "cell_type": "markdown",
   "metadata": {},
   "source": [
    "## Sumarização dos Dados"
   ]
  },
  {
   "cell_type": "markdown",
   "metadata": {},
   "source": [
    "Considere o `dataset` a seguir."
   ]
  },
  {
   "cell_type": "code",
   "execution_count": 8,
   "metadata": {},
   "outputs": [],
   "source": [
    "data = {\n",
    "    'Fruta': ['Maçã', 'Banana', 'Maçã', 'Pera', 'Banana', 'Pera', 'Maçã'],\n",
    "    'Quantidade': [10, 15, 10, 5, 15, 5, 10],\n",
    "    'Preço': [2.5, 0.75, 2.5, 3, 0.75, 3, 2.5]\n",
    "}\n",
    "\n",
    "df = pd.DataFrame(data)"
   ]
  },
  {
   "cell_type": "markdown",
   "metadata": {},
   "source": [
    "#### `value_counts()`"
   ]
  },
  {
   "cell_type": "markdown",
   "metadata": {},
   "source": [
    "O método `value_counts()` é usado para contar o número de ocorrências únicas em uma coluna (Series). É útil para analisar a distribuição de valores em uma coluna categórica."
   ]
  },
  {
   "cell_type": "code",
   "execution_count": 9,
   "metadata": {},
   "outputs": [
    {
     "data": {
      "text/plain": [
       "Fruta\n",
       "Maçã      3\n",
       "Banana    2\n",
       "Pera      2\n",
       "Name: count, dtype: int64"
      ]
     },
     "execution_count": 9,
     "metadata": {},
     "output_type": "execute_result"
    }
   ],
   "source": [
    "# Conta o número de ocorrências de cada fruta na coluna 'Fruta'\n",
    "df['Fruta'].value_counts()\n"
   ]
  },
  {
   "cell_type": "markdown",
   "metadata": {},
   "source": [
    "#### `len(df)`"
   ]
  },
  {
   "cell_type": "markdown",
   "metadata": {},
   "source": [
    "A função `len()` quando aplicada a um `DataFrame`, retorna o número de linhas."
   ]
  },
  {
   "cell_type": "code",
   "execution_count": null,
   "metadata": {},
   "outputs": [],
   "source": [
    "# Retorna o número de linhas no DataFrame\n",
    "print(len(df))  # Saída: 7"
   ]
  },
  {
   "cell_type": "markdown",
   "metadata": {},
   "source": [
    "#### `shape`"
   ]
  },
  {
   "cell_type": "markdown",
   "metadata": {},
   "source": [
    "O atributo `shape` retorna uma tupla representando as dimensões do `DataFrame` (número de linhas, número de colunas)."
   ]
  },
  {
   "cell_type": "code",
   "execution_count": null,
   "metadata": {},
   "outputs": [],
   "source": [
    "# Retorna o formato do DataFrame (linhas, colunas)\n",
    "print(df.shape)  # Saída: (7, 3)"
   ]
  },
  {
   "cell_type": "markdown",
   "metadata": {},
   "source": [
    "#### `nunique()`"
   ]
  },
  {
   "cell_type": "markdown",
   "metadata": {},
   "source": [
    "O método `nunique()` retorna o número de elementos únicos em cada coluna. É útil para entender a diversidade dos dados em cada coluna."
   ]
  },
  {
   "cell_type": "code",
   "execution_count": 10,
   "metadata": {},
   "outputs": [
    {
     "name": "stdout",
     "output_type": "stream",
     "text": [
      "Fruta         3\n",
      "Quantidade    3\n",
      "Preço         3\n",
      "dtype: int64\n"
     ]
    }
   ],
   "source": [
    "# Retorna o número de valores únicos em cada coluna\n",
    "print(df.nunique())"
   ]
  },
  {
   "cell_type": "markdown",
   "metadata": {},
   "source": [
    "#### `describe()`"
   ]
  },
  {
   "cell_type": "markdown",
   "metadata": {},
   "source": [
    "O método `describe()` fornece um resumo estatístico das colunas numéricas do `DataFrame`. Ele inclui medidas como média, mediana, mínimo, máximo e desvio padrão."
   ]
  },
  {
   "cell_type": "code",
   "execution_count": 11,
   "metadata": {},
   "outputs": [
    {
     "name": "stdout",
     "output_type": "stream",
     "text": [
      "       Quantidade     Preço\n",
      "count    7.000000  7.000000\n",
      "mean    10.000000  2.142857\n",
      "std      4.082483  0.977424\n",
      "min      5.000000  0.750000\n",
      "25%      7.500000  1.625000\n",
      "50%     10.000000  2.500000\n",
      "75%     12.500000  2.750000\n",
      "max     15.000000  3.000000\n"
     ]
    }
   ],
   "source": [
    "# Retorna o resumo estatístico das colunas numéricas\n",
    "print(df.describe())"
   ]
  },
  {
   "cell_type": "markdown",
   "metadata": {},
   "source": [
    "#### PRATIQUE"
   ]
  },
  {
   "cell_type": "markdown",
   "metadata": {},
   "source": [
    "**[EX001]** Dado o seguinte `DataFrame`, utilize o método `value_counts()` para contar o número de ocorrências de cada profissão na coluna 'Profissão'."
   ]
  },
  {
   "cell_type": "code",
   "execution_count": 12,
   "metadata": {},
   "outputs": [],
   "source": [
    "data = {\n",
    "    'Nome': ['Alice', 'Bob', 'Charlie', 'David'],\n",
    "    'Profissão': ['Engenheiro', 'Médico', 'Médico', 'Engenheiro']\n",
    "}\n",
    "\n",
    "df = pd.DataFrame(data)"
   ]
  },
  {
   "cell_type": "markdown",
   "metadata": {},
   "source": [
    "**[EX002]**  Utilize o método `describe()` para obter estatísticas básicas da seguinte coluna de preços. O que a saída te diz sobre a distribuição dos preços?"
   ]
  },
  {
   "cell_type": "code",
   "execution_count": 14,
   "metadata": {},
   "outputs": [],
   "source": [
    "preços = [100, 200, 150, 50, 300, 75, 250]\n",
    "df = pd.DataFrame(preços, columns=['Preço'])"
   ]
  },
  {
   "cell_type": "markdown",
   "metadata": {},
   "source": [
    "**[EX003]** Utilizando o DataFrame do **[EX001]**, determine o formato do `DataFrame` usando o atributo `shape` e o número de valores únicos em cada coluna usando o método `nunique()`."
   ]
  },
  {
   "cell_type": "code",
   "execution_count": 15,
   "metadata": {},
   "outputs": [],
   "source": [
    "data = {\n",
    "    'Nome': ['Alice', 'Bob', 'Charlie', 'David'],\n",
    "    'Idade': [25, 35, 30, 40],\n",
    "    'Salário': [50000, 70000, 60000, 80000]\n",
    "}\n",
    "\n",
    "df = pd.DataFrame(data)\n"
   ]
  },
  {
   "cell_type": "markdown",
   "metadata": {},
   "source": [
    "## Filtragem de Dados"
   ]
  },
  {
   "cell_type": "markdown",
   "metadata": {},
   "source": [
    "### Filtragem com condição simples"
   ]
  },
  {
   "cell_type": "code",
   "execution_count": 16,
   "metadata": {},
   "outputs": [
    {
     "name": "stdout",
     "output_type": "stream",
     "text": [
      "    Nome  Idade\n",
      "1    Bob     35\n",
      "3  David     40\n"
     ]
    }
   ],
   "source": [
    "import pandas as pd\n",
    "\n",
    "data = {\n",
    "    'Nome': ['Alice', 'Bob', 'Charlie', 'David'],\n",
    "    'Idade': [25, 35, 30, 40]\n",
    "}\n",
    "\n",
    "df = pd.DataFrame(data)\n",
    "\n",
    "# Filtrando pessoas com idade maior que 30\n",
    "result = df[df['Idade'] > 30]\n",
    "\n",
    "print(result)"
   ]
  },
  {
   "cell_type": "markdown",
   "metadata": {},
   "source": [
    "### Filtragem com múltiplas condições"
   ]
  },
  {
   "cell_type": "code",
   "execution_count": 18,
   "metadata": {},
   "outputs": [
    {
     "name": "stdout",
     "output_type": "stream",
     "text": [
      "    Nome  Idade\n",
      "0  Alice     25\n"
     ]
    }
   ],
   "source": [
    "result = df[(df['Idade'] > 24) & (df['Nome'].str.startswith('A'))]\n",
    "\n",
    "print(result)"
   ]
  },
  {
   "cell_type": "markdown",
   "metadata": {},
   "source": [
    "### Filtragem de valores em lista específica"
   ]
  },
  {
   "cell_type": "code",
   "execution_count": 19,
   "metadata": {},
   "outputs": [
    {
     "name": "stdout",
     "output_type": "stream",
     "text": [
      "    Nome  Idade\n",
      "0  Alice     25\n",
      "3  David     40\n"
     ]
    }
   ],
   "source": [
    "# Filtragem de nomes que estão na lista\n",
    "nomes_filtrados = ['Alice', 'David']\n",
    "result = df[df['Nome'].isin(nomes_filtrados)]\n",
    "\n",
    "print(result)"
   ]
  },
  {
   "cell_type": "markdown",
   "metadata": {},
   "source": [
    "### Filtragem usando `loc` e `iloc`"
   ]
  },
  {
   "cell_type": "code",
   "execution_count": 20,
   "metadata": {},
   "outputs": [
    {
     "name": "stdout",
     "output_type": "stream",
     "text": [
      "    Nome  Idade\n",
      "0  Alice     25\n",
      "1    Bob     35\n"
     ]
    }
   ],
   "source": [
    "# Filtragem usando loc\n",
    "result = df.loc[df['Idade'] > 30]\n",
    "\n",
    "# Filtragem usando iloc (por exemplo, as duas primeiras linhas)\n",
    "result = df.iloc[:2]\n",
    "\n",
    "print(result)\n"
   ]
  },
  {
   "cell_type": "markdown",
   "metadata": {},
   "source": [
    "### PRATIQUE"
   ]
  },
  {
   "cell_type": "markdown",
   "metadata": {},
   "source": [
    "**[EX001]** Dado o seguinte DataFrame, filtre as linhas onde a coluna 'Idade' é maior que 20."
   ]
  },
  {
   "cell_type": "code",
   "execution_count": null,
   "metadata": {},
   "outputs": [],
   "source": [
    "data = {\n",
    "    'Nome': ['Alice', 'Bob', 'Charlie', 'David'],\n",
    "    'Idade': [18, 22, 19, 25]\n",
    "}\n",
    "\n",
    "df = pd.DataFrame(data)"
   ]
  },
  {
   "cell_type": "markdown",
   "metadata": {},
   "source": [
    "**[EX002]** Filtre as linhas onde a 'Idade' é maior que 18 e o 'Nome' começa com a letra 'A'."
   ]
  },
  {
   "cell_type": "code",
   "execution_count": null,
   "metadata": {},
   "outputs": [],
   "source": [
    "data = {\n",
    "    'Nome': ['Alice', 'Bob', 'Charlie', 'David'],\n",
    "    'Idade': [18, 22, 19, 25]\n",
    "}\n",
    "\n",
    "df = pd.DataFrame(data)"
   ]
  },
  {
   "cell_type": "markdown",
   "metadata": {},
   "source": [
    "**[EX003]** Dado o seguinte DataFrame, filtre as linhas onde a coluna 'Fruta' está na lista `['Maçã', 'Banana']`."
   ]
  },
  {
   "cell_type": "code",
   "execution_count": null,
   "metadata": {},
   "outputs": [],
   "source": [
    "data = {\n",
    "    'Fruta': ['Maçã', 'Banana', 'Pera', 'Maçã'],\n",
    "    'Quantidade': [10, 15, 5, 10]\n",
    "}\n",
    "\n",
    "df = pd.DataFrame(data)"
   ]
  },
  {
   "cell_type": "markdown",
   "metadata": {},
   "source": [
    "**[EX004]** Selecione as duas primeiras linhas e todas as colunas usando o método `iloc.`"
   ]
  },
  {
   "cell_type": "code",
   "execution_count": 21,
   "metadata": {},
   "outputs": [],
   "source": [
    "data = {\n",
    "    'Fruta': ['Maçã', 'Banana', 'Pera', 'Maçã'],\n",
    "    'Quantidade': [10, 15, 5, 10]\n",
    "}\n",
    "\n",
    "df = pd.DataFrame(data)"
   ]
  },
  {
   "cell_type": "markdown",
   "metadata": {},
   "source": [
    "**[EX005]** Use o `loc` para filtrar as linhas onde 'Preço' é maior que 100 e selecione apenas a coluna 'Produto'."
   ]
  },
  {
   "cell_type": "code",
   "execution_count": null,
   "metadata": {},
   "outputs": [],
   "source": [
    "data = {\n",
    "    'Produto': ['A', 'B', 'C', 'D'],\n",
    "    'Preço': [50, 150, 200, 100]\n",
    "}\n",
    "\n",
    "df = pd.DataFrame(data)"
   ]
  },
  {
   "cell_type": "markdown",
   "metadata": {},
   "source": [
    "## Reestruturando Dados"
   ]
  },
  {
   "cell_type": "markdown",
   "metadata": {},
   "source": [
    "#### `melt()`"
   ]
  },
  {
   "cell_type": "markdown",
   "metadata": {},
   "source": [
    "Transforma colunas em linhas."
   ]
  },
  {
   "cell_type": "code",
   "execution_count": 44,
   "metadata": {},
   "outputs": [
    {
     "name": "stdout",
     "output_type": "stream",
     "text": [
      "    A  B  C\n",
      "0  a1  1  3\n",
      "1  a2  2  4\n",
      "    A variable  value\n",
      "0  a1        B      1\n",
      "1  a2        B      2\n",
      "2  a1        C      3\n",
      "3  a2        C      4\n"
     ]
    }
   ],
   "source": [
    "df = pd.DataFrame({'A': ['a1', 'a2'], 'B': [1, 2], 'C': [3, 4]})\n",
    "print(df)\n",
    "df_melted = df.melt(id_vars=['A'], value_vars=['B', 'C'])\n",
    "print(df_melted)"
   ]
  },
  {
   "cell_type": "markdown",
   "metadata": {},
   "source": [
    "#### `pivot()`"
   ]
  },
  {
   "cell_type": "markdown",
   "metadata": {},
   "source": [
    "Transforma linhas em colunas."
   ]
  },
  {
   "cell_type": "code",
   "execution_count": 43,
   "metadata": {},
   "outputs": [
    {
     "name": "stdout",
     "output_type": "stream",
     "text": [
      "variable  B  C\n",
      "A             \n",
      "a1        1  3\n",
      "a2        2  4\n"
     ]
    }
   ],
   "source": [
    "# Forma geral\n",
    "# df_pivot = df_melted.pivot(index='nome_da_coluna_index', columns='nome_da_coluna_columns', values='nome_da_coluna_values')\n",
    "\n",
    "df_pivot = df_melted.pivot(index='A', columns='variable', values='value')\n",
    "print(df_pivot)"
   ]
  },
  {
   "cell_type": "markdown",
   "metadata": {},
   "source": [
    "#### `concat()`"
   ]
  },
  {
   "cell_type": "markdown",
   "metadata": {},
   "source": [
    "Concatena (i.e., adiciona ao final) as linhas dos `DataFrames`"
   ]
  },
  {
   "cell_type": "code",
   "execution_count": 25,
   "metadata": {},
   "outputs": [
    {
     "data": {
      "text/html": [
       "<div>\n",
       "<style scoped>\n",
       "    .dataframe tbody tr th:only-of-type {\n",
       "        vertical-align: middle;\n",
       "    }\n",
       "\n",
       "    .dataframe tbody tr th {\n",
       "        vertical-align: top;\n",
       "    }\n",
       "\n",
       "    .dataframe thead th {\n",
       "        text-align: right;\n",
       "    }\n",
       "</style>\n",
       "<table border=\"1\" class=\"dataframe\">\n",
       "  <thead>\n",
       "    <tr style=\"text-align: right;\">\n",
       "      <th></th>\n",
       "      <th>A</th>\n",
       "      <th>B</th>\n",
       "      <th>C</th>\n",
       "    </tr>\n",
       "  </thead>\n",
       "  <tbody>\n",
       "    <tr>\n",
       "      <th>0</th>\n",
       "      <td>a1</td>\n",
       "      <td>1</td>\n",
       "      <td>3</td>\n",
       "    </tr>\n",
       "    <tr>\n",
       "      <th>1</th>\n",
       "      <td>a2</td>\n",
       "      <td>2</td>\n",
       "      <td>4</td>\n",
       "    </tr>\n",
       "    <tr>\n",
       "      <th>0</th>\n",
       "      <td>a3</td>\n",
       "      <td>3</td>\n",
       "      <td>5</td>\n",
       "    </tr>\n",
       "    <tr>\n",
       "      <th>1</th>\n",
       "      <td>a4</td>\n",
       "      <td>4</td>\n",
       "      <td>6</td>\n",
       "    </tr>\n",
       "  </tbody>\n",
       "</table>\n",
       "</div>"
      ],
      "text/plain": [
       "    A  B  C\n",
       "0  a1  1  3\n",
       "1  a2  2  4\n",
       "0  a3  3  5\n",
       "1  a4  4  6"
      ]
     },
     "execution_count": 25,
     "metadata": {},
     "output_type": "execute_result"
    }
   ],
   "source": [
    "df1 = pd.DataFrame({'A': ['a1', 'a2'], 'B': [1, 2], 'C': [3, 4]})\n",
    "df2 = pd.DataFrame({'A': ['a3', 'a4'], 'B': [3, 4], 'C': [5, 6]})\n",
    "df_concat = pd.concat([df1, df2])\n",
    "df_concat"
   ]
  },
  {
   "cell_type": "markdown",
   "metadata": {},
   "source": [
    "#### `concat(axis=1)`"
   ]
  },
  {
   "cell_type": "markdown",
   "metadata": {},
   "source": [
    "Concatena ao longo das colunas."
   ]
  },
  {
   "cell_type": "code",
   "execution_count": 26,
   "metadata": {},
   "outputs": [
    {
     "data": {
      "text/html": [
       "<div>\n",
       "<style scoped>\n",
       "    .dataframe tbody tr th:only-of-type {\n",
       "        vertical-align: middle;\n",
       "    }\n",
       "\n",
       "    .dataframe tbody tr th {\n",
       "        vertical-align: top;\n",
       "    }\n",
       "\n",
       "    .dataframe thead th {\n",
       "        text-align: right;\n",
       "    }\n",
       "</style>\n",
       "<table border=\"1\" class=\"dataframe\">\n",
       "  <thead>\n",
       "    <tr style=\"text-align: right;\">\n",
       "      <th></th>\n",
       "      <th>A</th>\n",
       "      <th>B</th>\n",
       "      <th>C</th>\n",
       "      <th>A</th>\n",
       "      <th>B</th>\n",
       "      <th>C</th>\n",
       "    </tr>\n",
       "  </thead>\n",
       "  <tbody>\n",
       "    <tr>\n",
       "      <th>0</th>\n",
       "      <td>a1</td>\n",
       "      <td>1</td>\n",
       "      <td>3</td>\n",
       "      <td>a3</td>\n",
       "      <td>3</td>\n",
       "      <td>5</td>\n",
       "    </tr>\n",
       "    <tr>\n",
       "      <th>1</th>\n",
       "      <td>a2</td>\n",
       "      <td>2</td>\n",
       "      <td>4</td>\n",
       "      <td>a4</td>\n",
       "      <td>4</td>\n",
       "      <td>6</td>\n",
       "    </tr>\n",
       "  </tbody>\n",
       "</table>\n",
       "</div>"
      ],
      "text/plain": [
       "    A  B  C   A  B  C\n",
       "0  a1  1  3  a3  3  5\n",
       "1  a2  2  4  a4  4  6"
      ]
     },
     "execution_count": 26,
     "metadata": {},
     "output_type": "execute_result"
    }
   ],
   "source": [
    "df1 = pd.DataFrame({'A': ['a1', 'a2'], 'B': [1, 2], 'C': [3, 4]})\n",
    "df2 = pd.DataFrame({'A': ['a3', 'a4'], 'B': [3, 4], 'C': [5, 6]})\n",
    "df_concat_axis1 = pd.concat([df1, df2], axis=1)\n",
    "df_concat_axis1"
   ]
  },
  {
   "cell_type": "markdown",
   "metadata": {},
   "source": [
    "#### `sort_values()`"
   ]
  },
  {
   "cell_type": "code",
   "execution_count": 31,
   "metadata": {},
   "outputs": [
    {
     "name": "stdout",
     "output_type": "stream",
     "text": [
      "    A   B  C\n",
      "1  a2  20  4\n",
      "0  a1  40  3\n"
     ]
    }
   ],
   "source": [
    "df = pd.DataFrame({'A': ['a1', 'a2'], 'B': [40, 20], 'C': [3, 4]})\n",
    "df_sorted = df.sort_values(by='B', ascending=True)\n",
    "print(df_sorted)"
   ]
  },
  {
   "cell_type": "markdown",
   "metadata": {},
   "source": [
    "#### `reset_index()`"
   ]
  },
  {
   "cell_type": "code",
   "execution_count": 32,
   "metadata": {},
   "outputs": [
    {
     "name": "stdout",
     "output_type": "stream",
     "text": [
      "    A   B  C\n",
      "0  a2  20  4\n",
      "1  a1  40  3\n"
     ]
    }
   ],
   "source": [
    "df_reset = df_sorted.reset_index(drop=True)\n",
    "print(df_reset)"
   ]
  },
  {
   "cell_type": "markdown",
   "metadata": {},
   "source": [
    "#### `drop()`"
   ]
  },
  {
   "cell_type": "markdown",
   "metadata": {},
   "source": [
    "O método `drop()` é usado para remover colunas ou linhas."
   ]
  },
  {
   "cell_type": "code",
   "execution_count": 33,
   "metadata": {},
   "outputs": [
    {
     "name": "stdout",
     "output_type": "stream",
     "text": [
      "    A  B\n",
      "0  a1  1\n",
      "1  a2  2\n"
     ]
    }
   ],
   "source": [
    "df = pd.DataFrame({'A': ['a1', 'a2'], 'B': [1, 2], 'C': [3, 4]})\n",
    "\n",
    "df_dropped = df.drop(columns=['C'])\n",
    "print(df_dropped)"
   ]
  },
  {
   "cell_type": "markdown",
   "metadata": {},
   "source": [
    "#### PRATIQUE"
   ]
  },
  {
   "cell_type": "markdown",
   "metadata": {},
   "source": [
    "**[EX001]** Transforme o DataFrame `df` em um DataFrame longo, usando o método `melt()`, onde a coluna 'Dia' é o identificador."
   ]
  },
  {
   "cell_type": "code",
   "execution_count": 37,
   "metadata": {},
   "outputs": [
    {
     "data": {
      "text/html": [
       "<div>\n",
       "<style scoped>\n",
       "    .dataframe tbody tr th:only-of-type {\n",
       "        vertical-align: middle;\n",
       "    }\n",
       "\n",
       "    .dataframe tbody tr th {\n",
       "        vertical-align: top;\n",
       "    }\n",
       "\n",
       "    .dataframe thead th {\n",
       "        text-align: right;\n",
       "    }\n",
       "</style>\n",
       "<table border=\"1\" class=\"dataframe\">\n",
       "  <thead>\n",
       "    <tr style=\"text-align: right;\">\n",
       "      <th></th>\n",
       "      <th>Dia</th>\n",
       "      <th>Temp_Max</th>\n",
       "      <th>Temp_Min</th>\n",
       "    </tr>\n",
       "  </thead>\n",
       "  <tbody>\n",
       "    <tr>\n",
       "      <th>0</th>\n",
       "      <td>Seg</td>\n",
       "      <td>30</td>\n",
       "      <td>20</td>\n",
       "    </tr>\n",
       "    <tr>\n",
       "      <th>1</th>\n",
       "      <td>Ter</td>\n",
       "      <td>32</td>\n",
       "      <td>18</td>\n",
       "    </tr>\n",
       "    <tr>\n",
       "      <th>2</th>\n",
       "      <td>Qua</td>\n",
       "      <td>28</td>\n",
       "      <td>22</td>\n",
       "    </tr>\n",
       "  </tbody>\n",
       "</table>\n",
       "</div>"
      ],
      "text/plain": [
       "   Dia  Temp_Max  Temp_Min\n",
       "0  Seg        30        20\n",
       "1  Ter        32        18\n",
       "2  Qua        28        22"
      ]
     },
     "execution_count": 37,
     "metadata": {},
     "output_type": "execute_result"
    }
   ],
   "source": [
    "df = pd.DataFrame({\n",
    "    'Dia': ['Seg', 'Ter', 'Qua'],\n",
    "    'Temp_Max': [30, 32, 28],\n",
    "    'Temp_Min': [20, 18, 22]\n",
    "})\n",
    "df"
   ]
  },
  {
   "cell_type": "markdown",
   "metadata": {},
   "source": [
    "**[EX002]** Utilize o DataFrame resultante do **[EX001]** e reverta-o para o formato original utilizando o método `pivot()`."
   ]
  },
  {
   "cell_type": "code",
   "execution_count": null,
   "metadata": {},
   "outputs": [],
   "source": [
    "# Excreva seu código aqui"
   ]
  },
  {
   "cell_type": "markdown",
   "metadata": {},
   "source": [
    "**[EX003]** Crie dois `DataFrames` com as mesmas colunas e concatene-os utilizando o método `concat()`."
   ]
  },
  {
   "cell_type": "code",
   "execution_count": null,
   "metadata": {},
   "outputs": [],
   "source": [
    "# Excreva seu código aqui"
   ]
  },
  {
   "cell_type": "markdown",
   "metadata": {},
   "source": [
    "**[EX004]** Ordene o DataFrame com base no preço e na quantidade vendida. Primeiro, ordene por preço em ordem decrescente e, em seguida, por quantidade vendida em ordem crescente."
   ]
  },
  {
   "cell_type": "code",
   "execution_count": 45,
   "metadata": {},
   "outputs": [],
   "source": [
    "df = pd.DataFrame({\n",
    "    'Product': ['Apple', 'Banana', 'Cherry'],\n",
    "    'Price': [1.2, 0.8, 2.0],\n",
    "    'Quantity_Sold': [100, 150, 50]\n",
    "})\n"
   ]
  },
  {
   "cell_type": "markdown",
   "metadata": {},
   "source": [
    "**[EX005]** Considere o DataFrame sales do Exercício 5, que já foi ordenado por preço e quantidade vendida.\n",
    "\n",
    "1. Filtre os produtos que têm um preço maior que 1.\n",
    "\n",
    "2. Reset o índice sem adicionar o índice anterior como uma nova coluna.\n",
    "\n",
    "3. Exiba o resultado.\n"
   ]
  },
  {
   "cell_type": "code",
   "execution_count": 46,
   "metadata": {},
   "outputs": [],
   "source": [
    "# Excreva seu código aqui"
   ]
  },
  {
   "cell_type": "markdown",
   "metadata": {},
   "source": [
    "**[EX006]** Considerando os dois DataFrames que representam as notas de alunos em diferentes matérias:\n",
    "\n",
    "1. Concatene os dois DataFrames em um único DataFrame usando `pd.concat()`.\n",
    "\n",
    "2. Remova a coluna 'Science_Grade' usando o método `drop()`.\n",
    "\n",
    "3. Exiba o resultado."
   ]
  },
  {
   "cell_type": "code",
   "execution_count": null,
   "metadata": {},
   "outputs": [],
   "source": [
    "df_math = pd.DataFrame({\n",
    "    'Student': ['Alice', 'Bob', 'Charlie'],\n",
    "    'Math_Grade': [90, 80, 85]\n",
    "})\n",
    "\n",
    "df_science = pd.DataFrame({\n",
    "    'Student': ['Alice', 'Bob', 'Charlie'],\n",
    "    'Science_Grade': [85, 75, 80]\n",
    "})\n"
   ]
  },
  {
   "cell_type": "markdown",
   "metadata": {},
   "source": [
    "**[EX007]** Dado um `DataFrame`, remova uma ou mais de suas colunas utilizando o método `drop()`"
   ]
  },
  {
   "cell_type": "code",
   "execution_count": 50,
   "metadata": {},
   "outputs": [],
   "source": [
    "import pandas as pd\n",
    "\n",
    "df = pd.DataFrame({\n",
    "    'Name': ['Alice', 'Bob', 'Charlie', 'David'],\n",
    "    'Age': [29, 35, 40, 23],\n",
    "    'Position': ['Manager', 'Engineer', 'Technician', 'Intern'],\n",
    "    'Salary': [70000, 60000, 45000, 20000],\n",
    "    'Department': ['HR', 'Engineering', 'Maintenance', 'HR']\n",
    "})"
   ]
  },
  {
   "cell_type": "markdown",
   "metadata": {},
   "source": [
    "## Tratando Valores Ausentes"
   ]
  },
  {
   "cell_type": "markdown",
   "metadata": {},
   "source": [
    "#### `dropna()`"
   ]
  },
  {
   "cell_type": "markdown",
   "metadata": {},
   "source": [
    "Este método remove os valores faltantes."
   ]
  },
  {
   "cell_type": "code",
   "execution_count": 51,
   "metadata": {},
   "outputs": [
    {
     "name": "stdout",
     "output_type": "stream",
     "text": [
      "DataFrame original:\n",
      "     A    B     C\n",
      "0  1.0  5.0   9.0\n",
      "1  2.0  NaN  10.0\n",
      "2  NaN  7.0  11.0\n",
      "3  4.0  8.0   NaN\n",
      "\n",
      "DataFrame depois de usar dropna():\n",
      "     A    B    C\n",
      "0  1.0  5.0  9.0\n"
     ]
    }
   ],
   "source": [
    "# Um exemplo de dataset com valores faltantes\n",
    "df = pd.DataFrame({\n",
    "    'A': [1, 2, None, 4],\n",
    "    'B': [5, None, 7, 8],\n",
    "    'C': [9, 10, 11, None]\n",
    "})\n",
    "print(\"DataFrame original:\")\n",
    "print(df)\n",
    "\n",
    "# Usar dropna() para remover quaisquer linhas com valores NaN\n",
    "df_dropped = df.dropna()\n",
    "\n",
    "print(\"\\nDataFrame depois de usar dropna():\")\n",
    "print(df_dropped)"
   ]
  },
  {
   "cell_type": "markdown",
   "metadata": {},
   "source": [
    "#### `fillna()`"
   ]
  },
  {
   "cell_type": "code",
   "execution_count": 52,
   "metadata": {},
   "outputs": [
    {
     "name": "stdout",
     "output_type": "stream",
     "text": [
      "DataFrame original:\n",
      "     A    B     C\n",
      "0  1.0  5.0   9.0\n",
      "1  2.0  NaN  10.0\n",
      "2  NaN  7.0  11.0\n",
      "3  4.0  8.0   NaN\n",
      "\n",
      "DataFrame depois de usar dropna():\n",
      "     A    B     C\n",
      "0  1.0  5.0   9.0\n",
      "1  2.0  5.0  10.0\n",
      "2  2.0  7.0  11.0\n",
      "3  4.0  8.0  11.0\n"
     ]
    }
   ],
   "source": [
    "# Um exemplo de dataset com valores faltantes\n",
    "df = pd.DataFrame({\n",
    "    'A': [1, 2, None, 4],\n",
    "    'B': [5, None, 7, 8],\n",
    "    'C': [9, 10, 11, None]\n",
    "})\n",
    "print(\"DataFrame original:\")\n",
    "print(df)\n",
    "\n",
    "# Usar fillna() com um método, como 'ffill', para preencher valores NaN com o valor anterior na coluna\n",
    "df_filled = df.fillna(method='ffill')\n",
    "\n",
    "print(\"\\nDataFrame depois de usar dropna():\")\n",
    "print(df_filled)"
   ]
  },
  {
   "cell_type": "markdown",
   "metadata": {},
   "source": [
    "#### PRATIQUE"
   ]
  },
  {
   "cell_type": "markdown",
   "metadata": {},
   "source": [
    "**[EX001]** Imagine que você tem um DataFrame que contém avaliações de produtos de uma loja online. O DataFrame tem as seguintes colunas: 'Product_ID', 'Product_Name', 'Review_Score', e 'Review_Comment'."
   ]
  },
  {
   "cell_type": "code",
   "execution_count": 53,
   "metadata": {},
   "outputs": [
    {
     "data": {
      "text/html": [
       "<div>\n",
       "<style scoped>\n",
       "    .dataframe tbody tr th:only-of-type {\n",
       "        vertical-align: middle;\n",
       "    }\n",
       "\n",
       "    .dataframe tbody tr th {\n",
       "        vertical-align: top;\n",
       "    }\n",
       "\n",
       "    .dataframe thead th {\n",
       "        text-align: right;\n",
       "    }\n",
       "</style>\n",
       "<table border=\"1\" class=\"dataframe\">\n",
       "  <thead>\n",
       "    <tr style=\"text-align: right;\">\n",
       "      <th></th>\n",
       "      <th>Product_ID</th>\n",
       "      <th>Product_Name</th>\n",
       "      <th>Review_Score</th>\n",
       "      <th>Review_Comment</th>\n",
       "    </tr>\n",
       "  </thead>\n",
       "  <tbody>\n",
       "    <tr>\n",
       "      <th>0</th>\n",
       "      <td>101</td>\n",
       "      <td>Laptop</td>\n",
       "      <td>4.5</td>\n",
       "      <td>Great!</td>\n",
       "    </tr>\n",
       "    <tr>\n",
       "      <th>1</th>\n",
       "      <td>102</td>\n",
       "      <td>Phone</td>\n",
       "      <td>4.2</td>\n",
       "      <td>Excellent!</td>\n",
       "    </tr>\n",
       "    <tr>\n",
       "      <th>2</th>\n",
       "      <td>103</td>\n",
       "      <td>Headphones</td>\n",
       "      <td>NaN</td>\n",
       "      <td>None</td>\n",
       "    </tr>\n",
       "    <tr>\n",
       "      <th>3</th>\n",
       "      <td>104</td>\n",
       "      <td>Camera</td>\n",
       "      <td>3.8</td>\n",
       "      <td>Good</td>\n",
       "    </tr>\n",
       "  </tbody>\n",
       "</table>\n",
       "</div>"
      ],
      "text/plain": [
       "   Product_ID Product_Name  Review_Score Review_Comment\n",
       "0         101       Laptop           4.5         Great!\n",
       "1         102        Phone           4.2     Excellent!\n",
       "2         103   Headphones           NaN           None\n",
       "3         104       Camera           3.8           Good"
      ]
     },
     "execution_count": 53,
     "metadata": {},
     "output_type": "execute_result"
    }
   ],
   "source": [
    "df = pd.DataFrame({\n",
    "    'Product_ID': [101, 102, 103, 104],\n",
    "    'Product_Name': ['Laptop', 'Phone', 'Headphones', 'Camera'],\n",
    "    'Review_Score': [4.5, 4.2, None, 3.8],\n",
    "    'Review_Comment': ['Great!', 'Excellent!', None, 'Good']\n",
    "})\n",
    "df"
   ]
  },
  {
   "cell_type": "markdown",
   "metadata": {},
   "source": [
    "*Tarefa*\n",
    "\n",
    "1. Para a coluna 'Review_Score', você precisa lidar com o valor ausente. A pontuação de revisão é crítica para análises futuras, e uma avaliação sem pontuação não faz sentido. Determine a abordagem mais adequada: usar `dropna()` para descartar a linha inteira ou `fillna()` para preencher o valor ausente. Justifique sua escolha.\n",
    "\n",
    "2. Para a coluna 'Review_Comment', decida se deve usar `dropna()` para descartar a linha ou `fillna()` para preencher o valor ausente com algo como \"Sem comentário\". Justifique sua escolha."
   ]
  },
  {
   "cell_type": "markdown",
   "metadata": {},
   "source": [
    "## Agrupando Dados"
   ]
  },
  {
   "cell_type": "markdown",
   "metadata": {},
   "source": [
    "#### `groupby()`"
   ]
  },
  {
   "cell_type": "code",
   "execution_count": 54,
   "metadata": {},
   "outputs": [
    {
     "name": "stdout",
     "output_type": "stream",
     "text": [
      "           Idade       Peso\n",
      "Animal                     \n",
      "Cão     1.750000  20.000000\n",
      "Gato    2.833333   5.333333\n"
     ]
    }
   ],
   "source": [
    "df = pd.DataFrame({\n",
    "    'Animal': ['Gato', 'Cão', 'Cão', 'Gato', 'Gato'],\n",
    "    'Idade': [2.5, 3, 0.5, 2, 4],\n",
    "    'Peso': [5, 30, 10, 6, 5]\n",
    "})\n",
    "\n",
    "# Agrupa o DataFrame pela coluna 'Animal'\n",
    "grouped = df.groupby('Animal')\n",
    "\n",
    "# Calcula a média para cada grupo\n",
    "mean_result = grouped.mean()\n",
    "\n",
    "print(mean_result)"
   ]
  },
  {
   "cell_type": "markdown",
   "metadata": {},
   "source": [
    "#### PRATIQUE"
   ]
  },
  {
   "cell_type": "markdown",
   "metadata": {},
   "source": [
    "**[EX001]** Imagine que você é um analista de dados em uma loja de varejo e recebeu um conjunto de dados contendo informações sobre as vendas de diferentes produtos em várias lojas da cadeia. Os dados incluem informações como o nome da loja, o tipo de produto, a quantidade vendida e o valor total da venda. Como você poderia determinar a quantidade total vendida de cada tipo de produto em todas as lojas?"
   ]
  },
  {
   "cell_type": "code",
   "execution_count": 57,
   "metadata": {},
   "outputs": [],
   "source": [
    "dados = {\n",
    "    'Loja': ['Loja A', 'Loja B', 'Loja A', 'Loja C', 'Loja B', 'Loja A'],\n",
    "    'Tipo de Produto': ['Eletrônicos', 'Roupas', 'Alimentos', 'Eletrônicos', 'Alimentos', 'Roupas'],\n",
    "    'Quantidade Vendida': [5, 10, 15, 7, 12, 8],\n",
    "    'Valor Total': [1000, 200, 75, 700, 60, 160]\n",
    "}\n",
    "\n",
    "df = pd.DataFrame(dados)"
   ]
  }
 ],
 "metadata": {
  "kernelspec": {
   "display_name": "Python 3",
   "language": "python",
   "name": "python3"
  },
  "language_info": {
   "codemirror_mode": {
    "name": "ipython",
    "version": 3
   },
   "file_extension": ".py",
   "mimetype": "text/x-python",
   "name": "python",
   "nbconvert_exporter": "python",
   "pygments_lexer": "ipython3",
   "version": "3.10.12"
  },
  "orig_nbformat": 4
 },
 "nbformat": 4,
 "nbformat_minor": 2
}

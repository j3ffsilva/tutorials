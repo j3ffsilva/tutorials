{
 "cells": [
  {
   "cell_type": "markdown",
   "metadata": {},
   "source": [
    "# Introdução ao NumPy"
   ]
  },
  {
   "cell_type": "markdown",
   "metadata": {},
   "source": [
    "O NumPy é uma biblioteca para a linguagem de programação Python, que dá suporte à grandes matrizes e arrays multidimensionais, juntamente com uma grande coleção de funções matemáticas de alto nível para operar nesses arrays.\n",
    "\n",
    "A principal vantagem do NumPy é a sua incrível eficiência. Ele foi implementado em C e Fortran, o que significa que as operações de matrizes executadas em código compilado nativo são muito rápidas. Além disso, a biblioteca usa uma estrutura de dados especial chamada array n-dimensional, que permite armazenar dados de forma mais eficiente do que as listas nativas do Python.\n",
    "\n",
    "Os arrays NumPy são usados como os principais contêineres de dados em muitas outras bibliotecas científicas e de análise de dados, incluindo pandas, SciPy, scikit-learn e outros. Eles também são extremamente úteis para a manipulação de dados em qualquer tipo de cálculo numérico, análise estatística, processamento de imagem, entre outros."
   ]
  },
  {
   "cell_type": "markdown",
   "metadata": {},
   "source": [
    "## Instalação"
   ]
  },
  {
   "cell_type": "code",
   "execution_count": 1,
   "metadata": {},
   "outputs": [
    {
     "name": "stdout",
     "output_type": "stream",
     "text": [
      "Defaulting to user installation because normal site-packages is not writeable\n",
      "Requirement already satisfied: numpy in /home/jeff/.local/lib/python3.10/site-packages (1.25.1)\n",
      "Note: you may need to restart the kernel to use updated packages.\n"
     ]
    }
   ],
   "source": [
    "%pip install numpy"
   ]
  },
  {
   "cell_type": "markdown",
   "metadata": {},
   "source": [
    "## Importação"
   ]
  },
  {
   "cell_type": "code",
   "execution_count": 2,
   "metadata": {},
   "outputs": [],
   "source": [
    "import numpy as np"
   ]
  },
  {
   "cell_type": "markdown",
   "metadata": {},
   "source": [
    "## Criando Arrays"
   ]
  },
  {
   "cell_type": "markdown",
   "metadata": {},
   "source": [
    "### Criando arrays a partir de uma lista"
   ]
  },
  {
   "cell_type": "code",
   "execution_count": 3,
   "metadata": {},
   "outputs": [
    {
     "name": "stdout",
     "output_type": "stream",
     "text": [
      "[1 2 3 4]\n"
     ]
    }
   ],
   "source": [
    "my_array = np.array([1, 2, 3, 4])\n",
    "print(my_array)"
   ]
  },
  {
   "cell_type": "markdown",
   "metadata": {},
   "source": [
    "### Criando um array multidimensional"
   ]
  },
  {
   "cell_type": "code",
   "execution_count": 4,
   "metadata": {},
   "outputs": [
    {
     "name": "stdout",
     "output_type": "stream",
     "text": [
      "[[1 2]\n",
      " [3 4]]\n"
     ]
    }
   ],
   "source": [
    "my_2d_array = np.array([[1, 2], [3, 4]])\n",
    "print(my_2d_array)"
   ]
  },
  {
   "cell_type": "markdown",
   "metadata": {},
   "source": [
    "### Criando um array de zeros"
   ]
  },
  {
   "cell_type": "code",
   "execution_count": 5,
   "metadata": {},
   "outputs": [
    {
     "name": "stdout",
     "output_type": "stream",
     "text": [
      "[[0. 0. 0. 0.]\n",
      " [0. 0. 0. 0.]\n",
      " [0. 0. 0. 0.]]\n"
     ]
    }
   ],
   "source": [
    "zeros_array = np.zeros((3, 4))\n",
    "print(zeros_array)"
   ]
  },
  {
   "cell_type": "markdown",
   "metadata": {},
   "source": [
    "### Criando um array de uns"
   ]
  },
  {
   "cell_type": "code",
   "execution_count": 6,
   "metadata": {},
   "outputs": [
    {
     "name": "stdout",
     "output_type": "stream",
     "text": [
      "[[1. 1.]\n",
      " [1. 1.]]\n"
     ]
    }
   ],
   "source": [
    "ones_array = np.ones((2, 2))\n",
    "print(ones_array)"
   ]
  },
  {
   "cell_type": "markdown",
   "metadata": {},
   "source": [
    "### Criando um array com uma sequência regular"
   ]
  },
  {
   "cell_type": "code",
   "execution_count": 8,
   "metadata": {},
   "outputs": [
    {
     "name": "stdout",
     "output_type": "stream",
     "text": [
      "[0 2 4 6 8]\n"
     ]
    }
   ],
   "source": [
    "# A função np.arange permite criar um array com uma sequência de números\n",
    "range_array = np.arange(0, 10, 2)\n",
    "print(range_array)"
   ]
  },
  {
   "cell_type": "markdown",
   "metadata": {},
   "source": [
    "### Criando um array com valores espaçados uniformemente"
   ]
  },
  {
   "cell_type": "code",
   "execution_count": 9,
   "metadata": {},
   "outputs": [
    {
     "name": "stdout",
     "output_type": "stream",
     "text": [
      "[0.   0.25 0.5  0.75 1.  ]\n"
     ]
    }
   ],
   "source": [
    "linspace_array = np.linspace(0, 1, 5)\n",
    "print(linspace_array)"
   ]
  },
  {
   "cell_type": "markdown",
   "metadata": {},
   "source": [
    "#### Criando um array preenchidos com valores especificados"
   ]
  },
  {
   "cell_type": "code",
   "execution_count": 10,
   "metadata": {},
   "outputs": [
    {
     "name": "stdout",
     "output_type": "stream",
     "text": [
      "[[7 7 7]\n",
      " [7 7 7]\n",
      " [7 7 7]]\n"
     ]
    }
   ],
   "source": [
    "full_array = np.full((3, 3), 7)\n",
    "print(full_array)"
   ]
  },
  {
   "cell_type": "markdown",
   "metadata": {},
   "source": [
    "### Criando um array com forma pré-definida e valores aleatórios "
   ]
  },
  {
   "cell_type": "code",
   "execution_count": 11,
   "metadata": {},
   "outputs": [
    {
     "name": "stdout",
     "output_type": "stream",
     "text": [
      "[[0.29786382 0.14334902]\n",
      " [0.3392623  0.42831597]]\n"
     ]
    }
   ],
   "source": [
    "random_array = np.random.rand(2, 2)\n",
    "print(random_array)"
   ]
  },
  {
   "cell_type": "markdown",
   "metadata": {},
   "source": [
    "### Criando uma matriz identidade"
   ]
  },
  {
   "cell_type": "code",
   "execution_count": 12,
   "metadata": {},
   "outputs": [
    {
     "name": "stdout",
     "output_type": "stream",
     "text": [
      "[[1. 0. 0.]\n",
      " [0. 1. 0.]\n",
      " [0. 0. 1.]]\n"
     ]
    }
   ],
   "source": [
    "eye_array = np.eye(3)\n",
    "print(eye_array)"
   ]
  },
  {
   "cell_type": "markdown",
   "metadata": {},
   "source": [
    "## Salvando e Carregando do Disco"
   ]
  },
  {
   "cell_type": "markdown",
   "metadata": {},
   "source": [
    "### `np.save(file, arr)`"
   ]
  },
  {
   "cell_type": "code",
   "execution_count": 13,
   "metadata": {},
   "outputs": [],
   "source": [
    "my_array = np.array([1, 2, 3, 4])\n",
    "np.save('my_array.npy', my_array)"
   ]
  },
  {
   "cell_type": "markdown",
   "metadata": {},
   "source": [
    "### `np.load(file, mmap_mode=None)`"
   ]
  },
  {
   "cell_type": "markdown",
   "metadata": {},
   "source": [
    "`file`: O nome do arquivo ou objeto de arquivo de onde o array será carregado.\n",
    "\n",
    "`mmap_mode`: (Opcional) Modo de mapeamento de memória. Se fornecido, retorna um array de mapeamento de memória, que permite que você acesse uma parte do array sem ler todo o conteúdo na memória. Isso pode ser útil para trabalhar com arquivos grandes."
   ]
  },
  {
   "cell_type": "code",
   "execution_count": null,
   "metadata": {},
   "outputs": [],
   "source": [
    "loaded_array = np.load('my_array.npy')\n",
    "print(loaded_array)"
   ]
  },
  {
   "cell_type": "markdown",
   "metadata": {},
   "source": [
    "## Criando dados sintéticos"
   ]
  },
  {
   "cell_type": "markdown",
   "metadata": {},
   "source": [
    "### Dados uniformemente distribuídos"
   ]
  },
  {
   "cell_type": "markdown",
   "metadata": {},
   "source": [
    "> Dados aleatórios uniformemente distribuídos referem-se a um tipo de distribuição estatística onde todos os valores dentro de um determinado intervalo têm a mesma probabilidade de ocorrência. Essa distribuição é chamada de \"uniforme\" porque a probabilidade é constante (ou uniforme) em todo o intervalo."
   ]
  },
  {
   "cell_type": "code",
   "execution_count": 15,
   "metadata": {},
   "outputs": [
    {
     "data": {
      "text/plain": [
       "array([[0.85685587, 0.34358698],\n",
       "       [0.89472916, 0.96661535],\n",
       "       [0.41512817, 0.46148622],\n",
       "       [0.49555072, 0.43109779],\n",
       "       [0.33428878, 0.88857618],\n",
       "       [0.73683168, 0.5377658 ],\n",
       "       [0.28772496, 0.87156583],\n",
       "       [0.30819727, 0.29891943],\n",
       "       [0.6400373 , 0.48753294],\n",
       "       [0.53844786, 0.40218687]])"
      ]
     },
     "execution_count": 15,
     "metadata": {},
     "output_type": "execute_result"
    }
   ],
   "source": [
    "uniform_data = np.random.rand(10, 2)\n",
    "uniform_data"
   ]
  },
  {
   "cell_type": "markdown",
   "metadata": {},
   "source": [
    "### Dados normalmente distribuídos"
   ]
  },
  {
   "cell_type": "code",
   "execution_count": 17,
   "metadata": {},
   "outputs": [
    {
     "data": {
      "text/plain": [
       "array([[-0.07947299, -0.35492598],\n",
       "       [-2.76106663,  1.43719591],\n",
       "       [-0.76353747, -0.79227878],\n",
       "       [ 0.54760708, -1.13050084],\n",
       "       [-0.04962951,  0.98913909],\n",
       "       [ 1.37169868, -1.1023145 ],\n",
       "       [ 1.02399121,  0.94837995],\n",
       "       [-0.20882218, -1.53847689],\n",
       "       [-0.23571682,  0.59126701],\n",
       "       [ 1.10694331, -0.58585477]])"
      ]
     },
     "execution_count": 17,
     "metadata": {},
     "output_type": "execute_result"
    }
   ],
   "source": [
    "normal_data = np.random.randn(10, 2)\n",
    "normal_data"
   ]
  },
  {
   "cell_type": "markdown",
   "metadata": {},
   "source": [
    "### Dados de distribuição específica"
   ]
  },
  {
   "cell_type": "code",
   "execution_count": 18,
   "metadata": {},
   "outputs": [
    {
     "data": {
      "text/plain": [
       "array([7, 6, 2, 4, 5, 5, 5, 7, 3, 5, 3, 7, 4, 6, 5, 3, 7, 4, 6, 4, 3, 6,\n",
       "       4, 4, 5, 4, 5, 7, 4, 3, 7, 3, 5, 5, 6, 8, 2, 6, 4, 4, 6, 2, 8, 5,\n",
       "       7, 3, 7, 3, 7, 2, 4, 4, 4, 4, 4, 6, 5, 4, 5, 7, 2, 5, 3, 6, 6, 7,\n",
       "       6, 4, 7, 5, 4, 7, 3, 5, 5, 2, 4, 3, 4, 7, 4, 4, 5, 8, 6, 7, 6, 8,\n",
       "       7, 6, 6, 3, 5, 6, 4, 4, 6, 6, 4, 3])"
      ]
     },
     "execution_count": 18,
     "metadata": {},
     "output_type": "execute_result"
    }
   ],
   "source": [
    "binomial_data = np.random.binomial(n=10, p=0.5, size=100)\n",
    "binomial_data"
   ]
  },
  {
   "cell_type": "markdown",
   "metadata": {},
   "source": [
    "### Simulação de Séries Temporais"
   ]
  },
  {
   "cell_type": "markdown",
   "metadata": {},
   "source": [
    "O NumPy pode ser usado para simular séries temporais ou processos estocásticos. Por exemplo, uma caminhada aleatória."
   ]
  },
  {
   "cell_type": "code",
   "execution_count": 22,
   "metadata": {},
   "outputs": [
    {
     "name": "stdout",
     "output_type": "stream",
     "text": [
      "[ 1  1  1 -1 -1  1 -1  1 -1  1]\n",
      "[1 2 3 2 1 2 1 2 1 2]\n"
     ]
    }
   ],
   "source": [
    "walk = np.random.choice([-1, 1], size=10)\n",
    "print(walk)\n",
    "cum_walk = np.cumsum(walk)\n",
    "print(cum_walk)"
   ]
  },
  {
   "cell_type": "markdown",
   "metadata": {},
   "source": [
    "#### Dados Estruturados"
   ]
  },
  {
   "cell_type": "code",
   "execution_count": 25,
   "metadata": {},
   "outputs": [
    {
     "data": {
      "text/plain": [
       "array([('Alice', 25), ('Bob', 30), ('Charlie', 22), ('David', 35),\n",
       "       ('Eva', 40)], dtype=[('name', '<U10'), ('age', '<i4')])"
      ]
     },
     "execution_count": 25,
     "metadata": {},
     "output_type": "execute_result"
    }
   ],
   "source": [
    "names = ['Alice', 'Bob', 'Charlie', 'David', 'Eva']\n",
    "ages = [25, 30, 22, 35, 40]\n",
    "\n",
    "structured_data = np.array(list(zip(names, ages)), dtype=[('name', 'U10'), ('age', 'i4')])\n",
    "structured_data"
   ]
  }
 ],
 "metadata": {
  "kernelspec": {
   "display_name": "Python 3",
   "language": "python",
   "name": "python3"
  },
  "language_info": {
   "codemirror_mode": {
    "name": "ipython",
    "version": 3
   },
   "file_extension": ".py",
   "mimetype": "text/x-python",
   "name": "python",
   "nbconvert_exporter": "python",
   "pygments_lexer": "ipython3",
   "version": "3.10.12"
  },
  "orig_nbformat": 4
 },
 "nbformat": 4,
 "nbformat_minor": 2
}

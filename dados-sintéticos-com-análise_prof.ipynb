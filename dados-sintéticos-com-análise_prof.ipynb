{
 "cells": [
  {
   "cell_type": "markdown",
   "metadata": {},
   "source": [
    "# Criação de Dados Sintéticos com Numpy e Análise de Dados com o Pandas"
   ]
  },
  {
   "cell_type": "markdown",
   "metadata": {},
   "source": [
    "## Objetivo\n",
    "\n",
    "O objetivo desta atividade é aprender a criar dados sintéticos e exercitar as habilidades de manipulação de dados com o Pandas."
   ]
  },
  {
   "cell_type": "markdown",
   "metadata": {},
   "source": [
    "## Contextualização"
   ]
  },
  {
   "cell_type": "markdown",
   "metadata": {},
   "source": [
    "Vocês começar criando um conjunto de dados sintéticos utilizando o numpy, dentro do contexto escolar. A ideia é visualizar o desempenho dos estudantes em diferentes escolas e disciplinas, permitindo uma compreensão mais clara das tendências de desempenho e áreas que podem necessitar de melhorias.\n",
    "\n",
    "Para isso, criem um dataset (o mais realista que conseguirem dentro do tempo permitido), com os seguintes atributos:\n",
    "\n",
    "\n",
    "```csv\n",
    "Nome da Escola\n",
    "Série/Ano\n",
    "Disciplina (por exemplo, Matemática, Ciências, História)\n",
    "Nota do Aluno\n",
    "Gênero do Aluno\n",
    "Status (Aprovado/Reprovado)\n",
    "```"
   ]
  },
  {
   "cell_type": "markdown",
   "metadata": {},
   "source": [
    "Exemplos de perguntas a serem respondidas com os dados.\n",
    "\n",
    "1. Qual é a média das notas em diferentes disciplinas em cada escola?\n",
    "\n",
    "2. Como o desempenho dos alunos varia entre as séries/anos?\n",
    "\n",
    "3. Existem diferenças notáveis no desempenho entre os gêneros dos alunos?\n",
    "\n",
    "4. Quais são as disciplinas com as maiores taxas de reprovação em cada escola?"
   ]
  },
  {
   "cell_type": "markdown",
   "metadata": {},
   "source": [
    "## Possível Solução"
   ]
  },
  {
   "cell_type": "code",
   "execution_count": 5,
   "metadata": {},
   "outputs": [
    {
     "name": "stdout",
     "output_type": "stream",
     "text": [
      "  Nome da Escola Série/Ano  Disciplina  Nota do Aluno Gênero do Aluno  \\\n",
      "0       Escola A    1º Ano    Ciências       2.966035       Masculino   \n",
      "1       Escola A    1º Ano  Matemática       2.267448       Masculino   \n",
      "2       Escola C    1º Ano    Ciências       6.887726        Feminino   \n",
      "3       Escola C    4º Ano  Matemática       4.667349        Feminino   \n",
      "4       Escola B    4º Ano    História       8.170974        Feminino   \n",
      "\n",
      "      Status  \n",
      "0  Reprovado  \n",
      "1  Reprovado  \n",
      "2   Aprovado  \n",
      "3  Reprovado  \n",
      "4   Aprovado  \n"
     ]
    }
   ],
   "source": [
    "# Criação dos Dados sintéticos\n",
    "\n",
    "import pandas as pd\n",
    "import numpy as np\n",
    "\n",
    "# Definindo as listas de valores possíveis\n",
    "escolas = ['Escola A', 'Escola B', 'Escola C', 'Escola D']\n",
    "series_anos = ['1º Ano', '2º Ano', '3º Ano', '4º Ano', '5º Ano']\n",
    "disciplinas = ['Matemática', 'Ciências', 'História']\n",
    "generos = ['Masculino', 'Feminino']\n",
    "\n",
    "# Criando um DataFrame vazio\n",
    "df = pd.DataFrame(columns=['Nome da Escola', 'Série/Ano', 'Disciplina', 'Nota do Aluno', 'Gênero do Aluno', 'Status'])\n",
    "\n",
    "np.random.seed(0) # para resultados reprodutíveis\n",
    "for _ in range(1000): # Número de registros que você deseja criar\n",
    "    escola = np.random.choice(escolas)\n",
    "    serie_ano = np.random.choice(series_anos)\n",
    "    disciplina = np.random.choice(disciplinas)\n",
    "    \n",
    "    # Se a série/ano for '1º Ano', vamos aumentar a probabilidade de selecionar o gênero masculino\n",
    "    if serie_ano == '1º Ano':\n",
    "        genero = np.random.choice(generos, p=[0.7, 0.3]) # 70% de chance de ser masculino, 30% de chance de ser feminino\n",
    "    else:\n",
    "        genero = np.random.choice(generos, p=[0.5, 0.5]) # 50% de chance para cada gênero\n",
    "    \n",
    "    if disciplina == 'Matemática':\n",
    "        nota = np.random.normal(loc=4, scale=2) # Média de 4 com desvio padrão de 2\n",
    "    else:\n",
    "        nota = np.random.normal(loc=6, scale=2) # Média de 6 com desvio padrão de 2\n",
    "    \n",
    "    nota = max(0, min(nota, 10)) # Certificando que a nota está no intervalo de 0 a 10\n",
    "    status = 'Aprovado' if nota >= 5 else 'Reprovado' # Aqui você pode definir a regra de aprovação/reprovação\n",
    "    \n",
    "    # Adicionando a linha ao DataFrame\n",
    "    df.loc[len(df)] = [escola, serie_ano, disciplina, nota, genero, status]\n",
    "\n",
    "# Visualizando o DataFrame\n",
    "print(df.head())\n",
    "\n",
    "# Se desejar, pode salvar o DataFrame em um arquivo CSV\n",
    "# df.to_csv('dados_escolares.csv', index=False)"
   ]
  }
 ],
 "metadata": {
  "kernelspec": {
   "display_name": "Python 3",
   "language": "python",
   "name": "python3"
  },
  "language_info": {
   "codemirror_mode": {
    "name": "ipython",
    "version": 3
   },
   "file_extension": ".py",
   "mimetype": "text/x-python",
   "name": "python",
   "nbconvert_exporter": "python",
   "pygments_lexer": "ipython3",
   "version": "3.10.12"
  },
  "orig_nbformat": 4
 },
 "nbformat": 4,
 "nbformat_minor": 2
}

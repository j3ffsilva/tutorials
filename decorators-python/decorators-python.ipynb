{
 "cells": [
  {
   "cell_type": "markdown",
   "metadata": {},
   "source": [
    "# Decorators (em Python)"
   ]
  },
  {
   "cell_type": "markdown",
   "metadata": {},
   "source": [
    "## Introdução"
   ]
  },
  {
   "cell_type": "markdown",
   "metadata": {},
   "source": [
    "Decoradores em Python são uma ferramenta que permite a alteração ou extensão do comportamento de funções ou métodos após eles terem sido definidos. Em essência, um decorador é uma função que recebe outra função como argumento, adiciona alguma funcionalidade a ela e retorna uma nova função com essa funcionalidade adicionada.\n",
    "\n",
    "### Conceitos Básicos\n",
    "- **Funções de Alta Ordem**: Decoradores baseiam-se no conceito de que funções podem aceitar outras funções como argumentos e também podem retornar funções. Esse conceito é conhecido como funções de alta ordem.\n",
    "- **Sintaxe do Decorador**: Em Python, decoradores são aplicados a funções usando o símbolo `@` seguido pelo nome do decorador. Isto é apenas uma sintaxe mais legível para aplicar um decorador a uma função.\n",
    "\n",
    "### Como Funcionam\n",
    "Quando você decora uma função com um decorador, está essencialmente fazendo o seguinte:\n",
    "1. Passando a função como um argumento para o decorador.\n",
    "2. O decorador processa a função (podendo adicionar funcionalidades, modificar comportamento, etc.).\n",
    "3. O decorador retorna uma nova função que é então usada no lugar da função original.\n",
    "\n",
    "### Exemplo Simples\n",
    "\n",
    "```python\n",
    "def meu_decorador(func):\n",
    "    def wrapper():\n",
    "        print(\"Algo é executado antes da função.\")\n",
    "        func()\n",
    "        print(\"Algo é executado depois da função.\")\n",
    "    return wrapper\n",
    "\n",
    "@meu_decorador\n",
    "def diz_ola():\n",
    "    print(\"Olá!\")\n",
    "\n",
    "diz_ola()\n",
    "```\n",
    "\n",
    "Neste exemplo, `meu_decorador` é um decorador que adiciona mensagens antes e depois da execução da função `diz_ola`.\n",
    "\n",
    "### Uso Prático\n",
    "Decoradores são amplamente utilizados em Python para vários propósitos, como:\n",
    "- **Logging**: Registrar quando uma função é chamada e com quais argumentos.\n",
    "- **Controle de Acesso**: Verificar se um usuário tem permissão para chamar uma função.\n",
    "- **Caching/Memoização**: Armazenar resultados de chamadas de funções para evitar cálculos repetitivos.\n",
    "- **Medição de Tempo**: Calcular o tempo de execução de uma função."
   ]
  },
  {
   "cell_type": "markdown",
   "metadata": {},
   "source": [
    "## Exemplos de Uso"
   ]
  },
  {
   "cell_type": "markdown",
   "metadata": {},
   "source": [
    "#### Exemplo 1: Decorador de Logging"
   ]
  },
  {
   "cell_type": "code",
   "execution_count": 2,
   "metadata": {},
   "outputs": [
    {
     "name": "stdout",
     "output_type": "stream",
     "text": [
      "Chamando a função hello\n",
      "Hello, world!\n",
      "Função hello concluída\n"
     ]
    }
   ],
   "source": [
    "def log_decorator(func):\n",
    "    def wrapper():\n",
    "        print(f\"Chamando a função {func.__name__}\")\n",
    "        func()\n",
    "        print(f\"Função {func.__name__} concluída\")\n",
    "    return wrapper\n",
    "\n",
    "@log_decorator\n",
    "def hello():\n",
    "    print(\"Hello, world!\")\n",
    "\n",
    "hello()"
   ]
  },
  {
   "cell_type": "markdown",
   "metadata": {},
   "source": [
    "#### Exemplo 2: Decorador de Verificação de Argumentos"
   ]
  },
  {
   "cell_type": "code",
   "execution_count": 3,
   "metadata": {},
   "outputs": [
    {
     "name": "stdout",
     "output_type": "stream",
     "text": [
      "25\n",
      "Erro: Argumento não é um inteiro\n",
      "None\n"
     ]
    }
   ],
   "source": [
    "def check_arg_type(func):\n",
    "    def wrapper(arg):\n",
    "        if not isinstance(arg, int):\n",
    "            print(\"Erro: Argumento não é um inteiro\")\n",
    "            return\n",
    "        return func(arg)\n",
    "    return wrapper\n",
    "\n",
    "@check_arg_type\n",
    "def square(n):\n",
    "    return n * n\n",
    "\n",
    "print(square(5))\n",
    "print(square(\"não é um número\"))"
   ]
  },
  {
   "cell_type": "markdown",
   "metadata": {},
   "source": [
    "#### Exercício 3: Decorador de Tempo de Execução"
   ]
  },
  {
   "cell_type": "code",
   "execution_count": 4,
   "metadata": {},
   "outputs": [
    {
     "name": "stdout",
     "output_type": "stream",
     "text": [
      "Função concluída (executada em 2.0 segundos)\n"
     ]
    },
    {
     "data": {
      "text/plain": [
       "'Função concluída'"
      ]
     },
     "execution_count": 4,
     "metadata": {},
     "output_type": "execute_result"
    }
   ],
   "source": [
    "import time\n",
    "\n",
    "def time_decorator(func):\n",
    "    def wrapper():\n",
    "        start_time = time.time()\n",
    "        result = func()\n",
    "        end_time = time.time()\n",
    "        print(f\"{result} (executada em {end_time - start_time:.1f} segundos)\")\n",
    "        return result\n",
    "    return wrapper\n",
    "\n",
    "@time_decorator\n",
    "def long_running_function():\n",
    "    time.sleep(2)\n",
    "    return \"Função concluída\"\n",
    "\n",
    "long_running_function()"
   ]
  }
 ],
 "metadata": {
  "kernelspec": {
   "display_name": "Python 3",
   "language": "python",
   "name": "python3"
  },
  "language_info": {
   "codemirror_mode": {
    "name": "ipython",
    "version": 3
   },
   "file_extension": ".py",
   "mimetype": "text/x-python",
   "name": "python",
   "nbconvert_exporter": "python",
   "pygments_lexer": "ipython3",
   "version": "3.10.12"
  }
 },
 "nbformat": 4,
 "nbformat_minor": 2
}

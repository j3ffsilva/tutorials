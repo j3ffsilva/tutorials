{
 "cells": [
  {
   "cell_type": "markdown",
   "id": "b6753eda",
   "metadata": {
    "id": "b6753eda"
   },
   "source": [
    "## 2. Bibliotecas"
   ]
  },
  {
   "cell_type": "code",
   "execution_count": null,
   "id": "g5P7ucH2VuG_",
   "metadata": {
    "colab": {
     "base_uri": "https://localhost:8080/"
    },
    "id": "g5P7ucH2VuG_",
    "outputId": "5ba4dc96-677e-4a67-cb42-0bc59f75e6dd"
   },
   "outputs": [],
   "source": [
    "!pip install nltk"
   ]
  },
  {
   "cell_type": "code",
   "execution_count": 1,
   "id": "NwzHiVSsXsW3",
   "metadata": {
    "id": "NwzHiVSsXsW3"
   },
   "outputs": [],
   "source": [
    "import nltk"
   ]
  },
  {
   "cell_type": "code",
   "execution_count": 2,
   "id": "7OesC38iWtJL",
   "metadata": {
    "colab": {
     "base_uri": "https://localhost:8080/"
    },
    "id": "7OesC38iWtJL",
    "outputId": "efadcf5c-6d32-4b31-aafa-d284b800fb4e"
   },
   "outputs": [
    {
     "name": "stderr",
     "output_type": "stream",
     "text": [
      "[nltk_data] Downloading package punkt to /home/jeff/nltk_data...\n",
      "[nltk_data]   Package punkt is already up-to-date!\n"
     ]
    },
    {
     "data": {
      "text/plain": [
       "True"
      ]
     },
     "execution_count": 2,
     "metadata": {},
     "output_type": "execute_result"
    }
   ],
   "source": [
    "nltk.download('punkt')"
   ]
  },
  {
   "cell_type": "code",
   "execution_count": 3,
   "id": "32eec8d1",
   "metadata": {
    "id": "32eec8d1"
   },
   "outputs": [],
   "source": [
    "import pandas as pd\n",
    "\n",
    "import torch\n",
    "from torch.utils.data import Dataset, DataLoader\n",
    "import pandas as pd\n",
    "from indexador import Indexador"
   ]
  },
  {
   "cell_type": "code",
   "execution_count": 4,
   "id": "GPBRnGB6ZNgP",
   "metadata": {
    "id": "GPBRnGB6ZNgP"
   },
   "outputs": [],
   "source": [
    "import nltk\n",
    "from nltk.tokenize import word_tokenize, sent_tokenize\n",
    "from nltk.probability import FreqDist\n",
    "from nltk.corpus import stopwords\n",
    "\n",
    "from sklearn.model_selection import train_test_split\n",
    "from sklearn.preprocessing import LabelEncoder\n",
    "\n",
    "import torch\n",
    "import torch.nn as nn\n",
    "import torch.optim as optim\n",
    "from torch.utils.data import Dataset, DataLoader"
   ]
  },
  {
   "cell_type": "markdown",
   "id": "0635cf7c",
   "metadata": {
    "id": "0635cf7c"
   },
   "source": [
    "## 3. Ingestão"
   ]
  },
  {
   "cell_type": "code",
   "execution_count": 22,
   "id": "7381e86b",
   "metadata": {
    "id": "7381e86b"
   },
   "outputs": [],
   "source": [
    "# Carrega o dataset\n",
    "df = pd.read_csv('./meus-dados-UTF8.csv', sep=';')\n",
    "\n",
    "df['sentimento'] = df['sentimento'].map({'POSITIVE': 0, 'NEUTRAL': 1, 'NEGATIVE': 2})\n",
    "\n",
    "frases = list(df['texto'])\n",
    "rotulos = list(df['sentimento'])"
   ]
  },
  {
   "cell_type": "markdown",
   "id": "547e7d1f",
   "metadata": {},
   "source": [
    "## 4. Preparação dos dados"
   ]
  },
  {
   "cell_type": "code",
   "execution_count": 23,
   "id": "318e5f5a",
   "metadata": {},
   "outputs": [],
   "source": [
    "# Divide o dataset em treino e teste\n",
    "train_frases, test_frases, train_rotulos, test_rotulos = \\\n",
    "    train_test_split(frases, rotulos, random_state=42, test_size=0.3, stratify=rotulos)"
   ]
  },
  {
   "cell_type": "markdown",
   "id": "49865890",
   "metadata": {},
   "source": [
    "## 5. DataLoaders"
   ]
  },
  {
   "cell_type": "code",
   "execution_count": 24,
   "id": "b2499cd6",
   "metadata": {
    "id": "b2499cd6"
   },
   "outputs": [],
   "source": [
    "class DatasetSentimento(Dataset):\n",
    "    def __init__(self, frases, rotulos, indexador):\n",
    "        self.frases = frases\n",
    "        self.rotulos = rotulos\n",
    "        self.indexador = indexador\n",
    "\n",
    "    def __len__(self):\n",
    "        return len(self.frases)\n",
    "\n",
    "    def __getitem__(self, idx):\n",
    "        frase = self.frases[idx]\n",
    "        rotulo = self.rotulos[idx]\n",
    "        codificada = indexador.codificar(frase)\n",
    "        codificada_tensor = torch.tensor(codificada)\n",
    "        return codificada_tensor, rotulo"
   ]
  },
  {
   "cell_type": "code",
   "execution_count": 56,
   "id": "6ezY5HYkZHlk",
   "metadata": {
    "id": "6ezY5HYkZHlk"
   },
   "outputs": [],
   "source": [
    "class ClassificadorSentimento(nn.Module):\n",
    "    def __init__(self, input_size, hidden_size, num_classes):\n",
    "        super(ClassificadorSentimento, self).__init__()\n",
    "\n",
    "        self.embedding = nn.Embedding(input_size, hidden_size)\n",
    "        self.lstm = nn.LSTM(hidden_size, hidden_size, batch_first=True)\n",
    "        self.fc = nn.Linear(hidden_size, num_classes)\n",
    "\n",
    "    def forward(self, x):\n",
    "        embedded = self.embedding(x)\n",
    "        output, _ = self.lstm(embedded)\n",
    "        output = self.fc(output[:, -1, :])\n",
    "        return output"
   ]
  },
  {
   "cell_type": "code",
   "execution_count": 9,
   "id": "952a8b8c",
   "metadata": {
    "id": "952a8b8c"
   },
   "outputs": [],
   "source": [
    "indexador = Indexador(frases)"
   ]
  },
  {
   "cell_type": "code",
   "execution_count": 49,
   "id": "8b4ed60d",
   "metadata": {
    "id": "8b4ed60d"
   },
   "outputs": [],
   "source": [
    "train_dataset = DatasetSentimento(train_frases, train_rotulos, indexador)\n",
    "train_loader = DataLoader(train_dataset, batch_size=32, shuffle=True)\n",
    "\n",
    "test_dataset = DatasetSentimento(test_frases, test_rotulos, indexador)\n",
    "test_loader = DataLoader(test_dataset, batch_size=32, shuffle=True)"
   ]
  },
  {
   "cell_type": "code",
   "execution_count": 50,
   "id": "5lPnwCFuZVHd",
   "metadata": {
    "id": "5lPnwCFuZVHd"
   },
   "outputs": [],
   "source": [
    "# Função de treinamento\n",
    "def train(model, train_loader, criterion, optimizer, device):\n",
    "    model.train()\n",
    "    total_loss = 0\n",
    "    for inputs, labels in train_loader:\n",
    "        inputs = inputs.to(device)\n",
    "        labels = labels.to(device)\n",
    "\n",
    "        optimizer.zero_grad()\n",
    "        outputs = model(inputs)\n",
    "        loss = criterion(outputs, labels)\n",
    "        loss.backward()\n",
    "        optimizer.step()\n",
    "\n",
    "        total_loss += loss.item()\n",
    "\n",
    "    return total_loss / len(train_loader)"
   ]
  },
  {
   "cell_type": "code",
   "execution_count": 12,
   "id": "6swZ2fFsZYog",
   "metadata": {
    "id": "6swZ2fFsZYog"
   },
   "outputs": [],
   "source": [
    "# Função de avaliação\n",
    "def evaluate(model, test_loader, criterion, device):\n",
    "    model.eval()\n",
    "    total_loss = 0\n",
    "    correct = 0\n",
    "    total = 0\n",
    "\n",
    "    with torch.no_grad():\n",
    "        for inputs, labels in test_loader:\n",
    "            inputs = inputs.to(inputs)\n",
    "            labels = labels.to(device)\n",
    "\n",
    "            outputs = model(inputs)\n",
    "            loss = criterion(outputs, labels)\n",
    "            total_loss += loss.item()\n",
    "\n",
    "            _, predicted = torch.max(outputs.data, 1)\n",
    "            total += labels.size(0)\n",
    "            correct += (predicted == labels).sum().item()\n",
    "\n",
    "    accuracy = correct / total\n",
    "    return total_loss / len(test_loader), accuracy"
   ]
  },
  {
   "cell_type": "code",
   "execution_count": 60,
   "id": "tG4-uXfDZkrT",
   "metadata": {
    "id": "tG4-uXfDZkrT"
   },
   "outputs": [],
   "source": [
    "# Parâmetros\n",
    "input_size = len(indexador.vocabulario()) + 1\n",
    "hidden_size = 128\n",
    "num_classes = 3\n",
    "batch_size = 32\n",
    "num_epochs = 10\n",
    "learning_rate = 0.001"
   ]
  },
  {
   "cell_type": "code",
   "execution_count": 61,
   "id": "yJMmM3aqZ-ac",
   "metadata": {
    "colab": {
     "base_uri": "https://localhost:8080/"
    },
    "id": "yJMmM3aqZ-ac",
    "outputId": "93775a63-9d6a-4689-ff87-5cdac3315cfe"
   },
   "outputs": [
    {
     "data": {
      "text/plain": [
       "ClassificadorSentimento(\n",
       "  (embedding): Embedding(44325, 128)\n",
       "  (lstm): LSTM(128, 128, batch_first=True)\n",
       "  (fc): Linear(in_features=128, out_features=3, bias=True)\n",
       ")"
      ]
     },
     "execution_count": 61,
     "metadata": {},
     "output_type": "execute_result"
    }
   ],
   "source": [
    "# Instanciar o modelo\n",
    "model = ClassificadorSentimento(input_size, hidden_size, num_classes)\n",
    "\n",
    "# Definir função de perda e otimizador\n",
    "criterion = nn.CrossEntropyLoss()\n",
    "optimizer = optim.Adam(model.parameters(), lr=learning_rate)\n",
    "\n",
    "# Verificar se a GPU está disponível\n",
    "device = torch.device(\"cuda\" if torch.cuda.is_available() else \"cpu\")\n",
    "model.to(device)"
   ]
  },
  {
   "cell_type": "code",
   "execution_count": null,
   "id": "jZaLfPGqaEJE",
   "metadata": {
    "id": "jZaLfPGqaEJE"
   },
   "outputs": [],
   "source": [
    "# Treinamento do modelo\n",
    "for epoch in range(num_epochs):\n",
    "    train_loss = train(model, train_loader, criterion, optimizer, device)\n",
    "    test_loss, test_accuracy = evaluate(model, test_loader, criterion, device)\n",
    "\n",
    "    print(f\"Epoch {epoch+1}/{num_epochs}:\")\n",
    "    print(f\"Train Loss: {train_loss:.4f}\")\n",
    "    print(f\"Test Loss: {test_loss:.4f}\")\n",
    "    print(f\"Test Accuracy: {test_accuracy:.4f}\")\n",
    "    print()"
   ]
  }
 ],
 "metadata": {
  "accelerator": "GPU",
  "colab": {
   "gpuType": "T4",
   "provenance": []
  },
  "kernelspec": {
   "display_name": "Python 3 (ipykernel)",
   "language": "python",
   "name": "python3"
  },
  "language_info": {
   "codemirror_mode": {
    "name": "ipython",
    "version": 3
   },
   "file_extension": ".py",
   "mimetype": "text/x-python",
   "name": "python",
   "nbconvert_exporter": "python",
   "pygments_lexer": "ipython3",
   "version": "3.8.12"
  }
 },
 "nbformat": 4,
 "nbformat_minor": 5
}
